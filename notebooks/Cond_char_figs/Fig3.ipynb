{
 "cells": [
  {
   "cell_type": "markdown",
   "id": "9a7d5050",
   "metadata": {},
   "source": [
    "# Introduction\n",
    "State notebook purpose here"
   ]
  },
  {
   "cell_type": "markdown",
   "id": "b2f76ee2",
   "metadata": {},
   "source": [
    "### Imports\n",
    "Import libraries and write settings here."
   ]
  },
  {
   "cell_type": "code",
   "execution_count": 64,
   "id": "c3d377cd",
   "metadata": {
    "ExecuteTime": {
     "end_time": "2022-02-08T00:47:58.244499Z",
     "start_time": "2022-02-08T00:47:57.977872Z"
    }
   },
   "outputs": [
    {
     "data": {
      "text/html": [
       "<style>.container { width:80% !important; }</style>"
      ],
      "text/plain": [
       "<IPython.core.display.HTML object>"
      ]
     },
     "metadata": {},
     "output_type": "display_data"
    },
    {
     "data": {
      "text/plain": [
       "'1.13.0'"
      ]
     },
     "execution_count": 64,
     "metadata": {},
     "output_type": "execute_result"
    },
    {
     "name": "stdout",
     "output_type": "stream",
     "text": [
      "Torch device: cuda\n"
     ]
    }
   ],
   "source": [
    "# Notebooks specific imports\n",
    "from IPython import get_ipython\n",
    "ipython = get_ipython()\n",
    "#Expand notebook display\n",
    "from IPython.core.display import display, HTML\n",
    "display(HTML(\"<style>.container { width:80% !important; }</style>\"))\n",
    "# Display all cell outputs\n",
    "from IPython.core.interactiveshell import InteractiveShell\n",
    "InteractiveShell.ast_node_interactivity = 'all'\n",
    "# autoreload extension\n",
    "if 'autoreload' not in ipython.extension_manager.loaded:\n",
    "    %load_ext autoreload\n",
    "%autoreload 2\n",
    "from tqdm.notebook import tqdm\n",
    "\n",
    "# Basic useful imports\n",
    "import re\n",
    "import time\n",
    "import yaml\n",
    "from pprint import pprint\n",
    "from pathlib import Path\n",
    "import h5py\n",
    "import gc\n",
    "import pickle as pkl\n",
    "\n",
    "import warnings\n",
    "warnings.filterwarnings('ignore')\n",
    "\n",
    "# Data manipulation\n",
    "import numpy as np\n",
    "from scipy.optimize import curve_fit\n",
    "from scipy.special import erf, erfinv\n",
    "from scipy.integrate import quad\n",
    "from scipy.signal import savgol_filter\n",
    "from scipy import fftpack\n",
    "from scipy.stats import zmap\n",
    "from sklearn import svm\n",
    "\n",
    "import torch\n",
    "torch.__version__\n",
    "device = torch.device(\"cuda\" if torch.cuda.is_available() else \"cpu\")\n",
    "print(f\"Torch device: {device}\")\n",
    "\n",
    "# Visualization\n",
    "import matplotlib as mpl\n",
    "import matplotlib.pyplot as plt\n",
    "import matplotlib.pylab as plb\n",
    "from matplotlib.lines import Line2D\n",
    "from matplotlib.patches import (Circle, RegularPolygon, FancyArrowPatch, ArrowStyle)\n",
    "from matplotlib.ticker import (MultipleLocator, FormatStrFormatter,\n",
    "                               AutoMinorLocator, NullFormatter)\n",
    "import matplotlib.colors as mcolors\n",
    "from matplotlib.gridspec import GridSpec\n",
    "\n",
    "\n",
    "# From alens_analysis.py\n",
    "import alens_analysis as aa\n",
    "from alens_analysis.colormaps import register_cmaps\n",
    "import alens_analysis.chromatin as aac\n",
    "import alens_analysis.chromatin.chrom_analysis as ca\n",
    "import alens_analysis.chromatin.chrom_condensate_analysis as cca\n",
    "import alens_analysis.chromatin.chrom_graph_funcs as cgf\n",
    "from alens_analysis import cluster_analysis as cla\n",
    "import alens_analysis.helpers as ahlp\n",
    "\n",
    "# Locations\n",
    "cond_path = Path.home() / 'ceph/DATA/Chromatin/CondCharPaper'\n",
    "\n",
    "# Ke_path = cond_path / '22-08-12_aLchr1_scan6.4_line800_sticky55nm_eps1_5um_Ke5-200'\n",
    "# Ke_path = cond_path / '22-12-07_aLchr1_scan8.12_line800_Ls55nm_kod3_Ke1-200'\n",
    "# ls_path = cond_path / '22-10-18_aLchr1_scan7.12_Ke30_kod3.05_line800_stickyL.01-.07'\n",
    "# ko_path = cond_path / '22-10-16_aLc1_line800_sticky55nm_kod.1-300'\n",
    "Ke_ls_path = cond_path / \"22-12-08_aLchr1_slice8.8.12_line800_Ls0.1-0.7_kod3_Ke1-200\"\n",
    "\n",
    "\n",
    "# Style and graphing\n",
    "from cond_char_style import cond_char_sty\n",
    "plt.style.use(cond_char_sty)\n",
    "marker_style = dict(marker='o', linestyle=':', markersize=15, \n",
    "                        fillstyle='none')\n",
    "\n"
   ]
  },
  {
   "cell_type": "markdown",
   "id": "8842fded",
   "metadata": {},
   "source": [
    "# Collect and save analyzed data"
   ]
  },
  {
   "cell_type": "code",
   "execution_count": 59,
   "id": "e3799403",
   "metadata": {},
   "outputs": [],
   "source": [
    "def save_slice_rog_data(run_path,\n",
    "                    param_str_list, \n",
    "                    ss_rog_avg_start_ind=-600,\n",
    "                    ss_ind = 1,\n",
    "                    end_ind = -1,\n",
    "                    start_bead = 0,\n",
    "                    end_bead = None,\n",
    "                  ):\n",
    "    # Make analysis directory if it doesn't exist\n",
    "    anal_path = (run_path / 'analysis')\n",
    "    anal_path.mkdir(exist_ok=True)\n",
    "\n",
    "\n",
    "    # Create an hdf5 file\n",
    "    h5_path = anal_path / 'rog_slice_data.h5'\n",
    "    if h5_path.exists():\n",
    "        h5_path.unlink()\n",
    "    h5_file = h5py.File(h5_path, 'w')\n",
    "\n",
    "    # Add label string as attribute\n",
    "    h5_file.attrs['params'] = param_str_list\n",
    "\n",
    "    sim_path = run_path / 'simulations'\n",
    "    try:\n",
    "        mp = re.compile(f'{param_str_list[0]}(\\d*\\.?\\d+)_{param_str_list[1]}(\\d*\\.?\\d+)')\n",
    "        param_dirs = sorted(\n",
    "            [pd for pd in sim_path.glob('*/')],\n",
    "            key=lambda x: float(mp.match(str(x.name))[1]))\n",
    "\n",
    "        for i, pd in tqdm(enumerate(param_dirs)):\n",
    "            rog_arrs = []\n",
    "            clps_times = []\n",
    "            avg_clps_rog_arr = []\n",
    "            std_clps_rog_arr = []\n",
    "            sd_h5_data_lst = []\n",
    "            for h5p in pd.glob('s*/analysis/raw*.h5'):\n",
    "                try:\n",
    "                    sd_h5_data_lst += [h5py.File(h5p, 'r')]\n",
    "                except:\n",
    "                    print(f'Could not open {h5p}.')\n",
    "            if len(sd_h5_data_lst) == 0:\n",
    "                print(f'No data files found for parameter directory {pd}')\n",
    "                continue\n",
    "\n",
    "            for h5_data in sd_h5_data_lst:\n",
    "                # Get data from seed h5 file\n",
    "                time_arr = h5_data['time'][ss_ind:end_ind]\n",
    "                sy_dat = h5_data['raw_data']['sylinders'][start_bead:end_bead,\n",
    "                                                          :, ss_ind:end_ind]\n",
    "                com_arr = .5 * (sy_dat[:, 2:5, :] + sy_dat[:, 5:8, :])\n",
    "\n",
    "                rog = aa.calc_rad_of_gyration(com_arr)\n",
    "                clps_ind = ahlp.find_steady_state_ind(\n",
    "                    rog, [ss_rog_avg_start_ind, None])\n",
    "                rog_arrs += [rog.tolist()]\n",
    "                clps_times += [time_arr[clps_ind]]\n",
    "                avg_clps_rog_arr += [rog[clps_ind:].mean()]\n",
    "                std_clps_rog_arr += [rog[clps_ind:].std()]\n",
    "\n",
    "            for h5d in sd_h5_data_lst:\n",
    "                h5d.close()\n",
    "\n",
    "            # Make sure the runs are all the same length\n",
    "            min_length = min([len(_) for _ in rog_arrs])\n",
    "            rog_arrs = np.array([_[:min_length] for _ in rog_arrs])\n",
    "\n",
    "            # Create dataset\n",
    "            match = mp.match(pd.name)\n",
    "            pvals = [match[1], match[2]]\n",
    "            data_arr = np.hstack((time_arr[:min_length][:,np.newaxis],\n",
    "                                  rog_arrs.mean(axis=0)[:, np.newaxis],\n",
    "                                  rog_arrs.std(axis=0)[:, np.newaxis]))\n",
    "            print(data_arr.shape)\n",
    "            d_set = h5_file.create_dataset(pd.name, data=data_arr)\n",
    "            d_set.attrs[param_str_list[0]] = pvals[0]\n",
    "            d_set.attrs[param_str_list[1]] = pvals[1] \n",
    "            d_set.attrs['seeds'] = rog_arrs.shape[0]\n",
    "            d_set.attrs['collapse_times'] = clps_times\n",
    "            d_set.attrs['avg_collapse_rog'] = avg_clps_rog_arr\n",
    "            d_set.attrs['std_collapse_rog'] = std_clps_rog_arr\n",
    "\n",
    "    except:\n",
    "        raise\n",
    "    finally:\n",
    "        for h5d in sd_h5_data_lst:\n",
    "            \n",
    "\n",
    "            for h5d in sd_h5_data_lst:\n",
    "                h5d.close()\n"
   ]
  },
  {
   "cell_type": "code",
   "execution_count": 60,
   "id": "ce85c785",
   "metadata": {},
   "outputs": [
    {
     "data": {
      "application/vnd.jupyter.widget-view+json": {
       "model_id": "dd13344452054b5ca4411d0eb48dda5b",
       "version_major": 2,
       "version_minor": 0
      },
      "text/plain": [
       "0it [00:00, ?it/s]"
      ]
     },
     "metadata": {},
     "output_type": "display_data"
    },
    {
     "name": "stdout",
     "output_type": "stream",
     "text": [
      "4800\n",
      "(4800, 3)\n",
      "4800\n",
      "(4800, 3)\n",
      "4800\n",
      "(4800, 3)\n",
      "4800\n",
      "(4800, 3)\n",
      "4800\n",
      "(4800, 3)\n",
      "4800\n",
      "(4800, 3)\n",
      "4800\n",
      "(4800, 3)\n",
      "4800\n",
      "(4800, 3)\n",
      "4800\n",
      "(4800, 3)\n",
      "4800\n",
      "(4800, 3)\n",
      "4800\n",
      "(4800, 3)\n",
      "4800\n",
      "(4800, 3)\n",
      "4800\n",
      "(4800, 3)\n",
      "4800\n",
      "(4800, 3)\n",
      "4800\n",
      "(4800, 3)\n",
      "4800\n",
      "(4800, 3)\n",
      "4800\n",
      "(4800, 3)\n",
      "4800\n",
      "(4800, 3)\n",
      "4800\n",
      "(4800, 3)\n",
      "4800\n",
      "(4800, 3)\n",
      "4800\n",
      "(4800, 3)\n",
      "4800\n",
      "(4800, 3)\n",
      "4800\n",
      "(4800, 3)\n",
      "4800\n",
      "(4800, 3)\n",
      "4800\n",
      "(4800, 3)\n",
      "4800\n",
      "(4800, 3)\n",
      "4800\n",
      "(4800, 3)\n",
      "4800\n",
      "(4800, 3)\n",
      "4800\n",
      "(4800, 3)\n",
      "4800\n",
      "(4800, 3)\n",
      "4800\n",
      "(4800, 3)\n",
      "4800\n",
      "(4800, 3)\n",
      "4800\n",
      "(4800, 3)\n",
      "4800\n",
      "(4800, 3)\n",
      "4800\n",
      "(4800, 3)\n",
      "4800\n",
      "(4800, 3)\n",
      "4800\n",
      "(4800, 3)\n",
      "4800\n",
      "(4800, 3)\n",
      "4800\n",
      "(4800, 3)\n",
      "4800\n",
      "(4800, 3)\n",
      "4800\n",
      "(4800, 3)\n",
      "4800\n",
      "(4800, 3)\n",
      "4800\n",
      "(4800, 3)\n",
      "4800\n",
      "(4800, 3)\n",
      "4800\n",
      "(4800, 3)\n",
      "4800\n",
      "(4800, 3)\n",
      "4800\n",
      "(4800, 3)\n",
      "4800\n",
      "(4800, 3)\n",
      "4800\n",
      "(4800, 3)\n",
      "4800\n",
      "(4800, 3)\n",
      "4800\n",
      "(4800, 3)\n",
      "4800\n",
      "(4800, 3)\n",
      "4800\n",
      "(4800, 3)\n",
      "4800\n",
      "(4800, 3)\n",
      "4800\n",
      "(4800, 3)\n",
      "4800\n",
      "(4800, 3)\n"
     ]
    }
   ],
   "source": [
    "save_slice_rog_data(Ke_ls_path, param_str_list=[\"Ls\",\"Ke\"])"
   ]
  },
  {
   "cell_type": "code",
   "execution_count": null,
   "id": "ce85c785",
   "metadata": {},
   "outputs": [
    {
     "data": {
      "application/vnd.jupyter.widget-view+json": {
       "model_id": "95d8f0279a3c407287d716a2c6a6d5c3",
       "version_major": 2,
       "version_minor": 0
      },
      "text/plain": [
       "0it [00:00, ?it/s]"
      ]
     },
     "metadata": {},
     "output_type": "display_data"
    },
    {
     "name": "stdout",
     "output_type": "stream",
     "text": [
      "(4800, 3)\n",
      "(4800, 3)\n",
      "(4800, 3)\n",
      "(4800, 3)\n",
      "(4800, 3)\n",
      "(4800, 3)\n",
      "(4800, 3)\n",
      "(4800, 3)\n",
      "(4800, 3)\n",
      "(4800, 3)\n",
      "(4800, 3)\n",
      "(4800, 3)\n",
      "(4800, 3)\n",
      "(4800, 3)\n",
      "(4800, 3)\n",
      "(4800, 3)\n",
      "(4800, 3)\n",
      "(4800, 3)\n",
      "(4800, 3)\n",
      "(4800, 3)\n",
      "(4800, 3)\n",
      "(4800, 3)\n",
      "(4800, 3)\n",
      "(4800, 3)\n",
      "(4800, 3)\n",
      "(4800, 3)\n",
      "(4800, 3)\n",
      "(4800, 3)\n",
      "(4800, 3)\n",
      "(4800, 3)\n",
      "(4800, 3)\n",
      "(4800, 3)\n",
      "(4800, 3)\n",
      "(4800, 3)\n",
      "(4800, 3)\n",
      "(4800, 3)\n",
      "(4800, 3)\n",
      "(4800, 3)\n",
      "(4800, 3)\n",
      "(4800, 3)\n",
      "(4800, 3)\n",
      "(4800, 3)\n",
      "(4800, 3)\n",
      "(4800, 3)\n",
      "(4800, 3)\n",
      "(4800, 3)\n",
      "(4800, 3)\n",
      "(4800, 3)\n",
      "(4800, 3)\n",
      "(4800, 3)\n",
      "(4800, 3)\n",
      "(4800, 3)\n",
      "(4800, 3)\n",
      "(4800, 3)\n",
      "(4800, 3)\n",
      "(4800, 3)\n"
     ]
    }
   ],
   "source": [
    "# New slice parameters\n",
    "save_slice_rog_data(Ke_ls_path, param_str_list=[\"Ls\",\"Ke\"])"
   ]
  },
  {
   "cell_type": "markdown",
   "id": "e28d764d",
   "metadata": {},
   "source": [
    "# Graphing"
   ]
  },
  {
   "cell_type": "code",
   "execution_count": 148,
   "id": "8af3bc74",
   "metadata": {},
   "outputs": [],
   "source": [
    "def collapse_size_phase_diagram(fig, axarr, h5_path, scale_mark_size=False):\n",
    "\n",
    "    axarr[0].sharey(axarr[1])\n",
    "    axarr[0].sharex(axarr[1])\n",
    "\n",
    "    with h5py.File(h5_path, 'r') as h5d:\n",
    "        params = h5d.attrs['params']\n",
    "        # Sort by the first parameter in params list\n",
    "        avg_clps_times_arr = []\n",
    "        std_clps_times_arr = []\n",
    "        rog_avg = []\n",
    "        rog_std = []\n",
    "        p1_val_list = []\n",
    "        p2_val_list = []\n",
    "\n",
    "        for h5_dset in h5d.values():\n",
    "            p1_val_list += [float(h5_dset.attrs[params[0]])]\n",
    "            p2_val_list += [float(h5_dset.attrs[params[1]])]\n",
    "            avg_clps_times_arr += [np.mean(h5_dset.attrs['collapse_times'])]\n",
    "            std_clps_times_arr += [np.std(h5_dset.attrs['collapse_times'])]\n",
    "            rog_avg += [np.mean(h5_dset.attrs['avg_collapse_rog'])]\n",
    "            rog_std += [np.std(h5_dset.attrs['avg_collapse_rog'])]\n",
    "\n",
    "\n",
    "\n",
    "        clps_size = 500*np.sqrt(std_clps_times_arr/avg_clps_times_arr) if scale_mark_size else 200\n",
    "        _ = axarr[0].scatter(p1_val_list, p2_val_list,\n",
    "                             c=mpl.cm.plasma(\n",
    "                                 avg_clps_times_arr/np.max(avg_clps_times_arr)),\n",
    "                             s=clps_size,\n",
    "                             marker='s')\n",
    "        cb0 = fig.colorbar(mpl.cm.ScalarMappable(norm=mpl.colors.Normalize(vmin=0, vmax=np.max(avg_clps_times_arr)),\n",
    "                                                 cmap='plasma'),\n",
    "                           ax=axarr[0])\n",
    "        _ = cb0.set_label('Mean collapse time (sec)')\n",
    "\n",
    "        rog_size = 1000*np.sqrt(rog_std)/rog_avg if scale_mark_size else 200\n",
    "        _ = axarr[1].scatter(p1_val_list, p2_val_list,\n",
    "                             c=mpl.cm.plasma(rog_avg/np.max(rog_avg)),\n",
    "                             s=rog_size,\n",
    "                             marker='s')\n",
    "        cb1 = fig.colorbar(mpl.cm.ScalarMappable(norm=mpl.colors.Normalize(vmin=0, vmax=np.max(rog_avg)),\n",
    "                                                 cmap='plasma'),\n",
    "                           ax=axarr[1])\n",
    "        _ = cb1.set_label('Mean steady-state RoG ($\\mu$m)')\n",
    "\n",
    "        X = np.vstack((p1_val_list, np.log10(p2_val_list))).T\n",
    "        Y = np.array(rog_avg) < .4\n",
    "\n",
    "        clf = svm.SVC(kernel=\"poly\", C=100, gamma=\"auto\", degree=4, coef0=5)\n",
    "        clf.fit(X,Y)\n",
    "\n",
    "        xx, yy = np.meshgrid(np.linspace(np.min(X[:,0]), np.max(X[:,0]), 1000), \n",
    "                            np.linspace(np.min(X[:,1]), np.max(X[:,1]), 1000)) \n",
    "        Z = clf.decision_function(np.c_[xx.ravel(), yy.ravel()])\n",
    "        Z = Z.reshape(xx.shape)\n",
    "\n",
    "        axarr[0].contour(xx, np.power(10,yy), Z, levels=[0], linewidths=4, linestyles=\"dashed\")\n",
    "        axarr[1].contour(xx, np.power(10,yy), Z, levels=[0], linewidths=4, linestyles=\"dashed\")\n",
    "    \n",
    "    return p1_val_list, p2_val_list, avg_clps_times_arr, std_clps_times_arr, rog_avg, rog_std\n",
    "\n"
   ]
  },
  {
   "cell_type": "code",
   "execution_count": 149,
   "id": "b5d1bebd",
   "metadata": {},
   "outputs": [
    {
     "data": {
      "image/png": "[encoded data removed]",
      "text/plain": [
       "<Figure size 1296x432 with 4 Axes>"
      ]
     },
     "metadata": {
      "needs_background": "light"
     },
     "output_type": "display_data"
    }
   ],
   "source": [
    "fig, axarr = plt.subplots(1, 2, figsize=(18, 6))\n",
    "h5_path = Ke_ls_path / 'analysis/rog_slice_data.h5'\n",
    "(p1_val_list, p2_val_list, \n",
    " avg_clps_times_arr, std_clps_times_arr, \n",
    " rog_avg, rog_std) =collapse_size_phase_diagram(fig, axarr, h5_path)\n",
    "\n",
    "axarr[0].set_yscale('log')\n",
    "# axarr[0].set_xlim(0.008, .072)\n",
    "for ax in axarr:\n",
    "    _ = ax.set_xlabel('$\\ell_s$ ($\\mu$m)')\n",
    "    _ = ax.set_ylabel('$K_e$')\n",
    "fig.tight_layout()\n"
   ]
  },
  {
   "cell_type": "code",
   "execution_count": 127,
   "id": "3914fac5",
   "metadata": {},
   "outputs": [
    {
     "name": "stdout",
     "output_type": "stream",
     "text": [
      "[0 0 1 0 0 1 0 1 0 0 1 0 1 1 0 1 0 1 1 0 1 1 0 1 0 1 1 0 1 1 0 1 0 1 1 0 1\n",
      " 1 1 1 0 1 1 0 1 1 1 1 0 1 1 0 1 1 1 1]\n"
     ]
    },
    {
     "data": {
      "text/plain": [
       "SVC(C=100, coef0=5, degree=4, gamma='auto', kernel='poly')"
      ]
     },
     "execution_count": 127,
     "metadata": {},
     "output_type": "execute_result"
    },
    {
     "data": {
      "text/plain": [
       "<matplotlib.image.AxesImage at 0x7ff8a25d7c40>"
      ]
     },
     "execution_count": 127,
     "metadata": {},
     "output_type": "execute_result"
    },
    {
     "data": {
      "text/plain": [
       "<matplotlib.contour.QuadContourSet at 0x7ff8a25d7cd0>"
      ]
     },
     "execution_count": 127,
     "metadata": {},
     "output_type": "execute_result"
    },
    {
     "data": {
      "image/png": "[encoded data removed]",
      "text/plain": [
       "<Figure size 1296x432 with 2 Axes>"
      ]
     },
     "metadata": {
      "needs_background": "light"
     },
     "output_type": "display_data"
    }
   ],
   "source": [
    "X = np.vstack((p1_val_list, np.log10(p2_val_list))).T\n",
    "\n",
    "Y = np.array(rog_avg) < .4\n",
    "print(Y.astype(int))\n",
    "\n",
    "clf = svm.SVC(kernel=\"poly\", C=100, gamma=\"auto\", degree=4, coef0=5)\n",
    "# clf = svm.SVR(kernel=\"rbf\", C=100, gamma=0.1, epsilon=0.1)\n",
    "# clf = svm.SVR(kernel=\"poly\", C=100, gamma=\"auto\", degree=4, epsilon=0.1, coef0=5)\n",
    "clf.fit(X,Y)\n",
    "xx, yy = np.meshgrid(np.linspace(np.min(X[:,0]), np.max(X[:,0]), 1000), \n",
    "                    #  np.logspace(np.log10(np.min(X[:,1])), np.log10(np.max(X[:,1])), 100)) \n",
    "                     np.linspace(np.min(X[:,1]), np.max(X[:,1]), 1000)) \n",
    "# Z = clf.desc(np.c_[xx.ravel(), yy.ravel()])\n",
    "Z = clf.decision_function(np.c_[xx.ravel(), yy.ravel()])\n",
    "Z = Z.reshape(xx.shape)\n",
    "\n",
    "fig, axarr = plt.subplots(1, 2, figsize=(18, 6))\n",
    "_ = axarr[0].scatter(X[:,0], X[:,1],\n",
    "                        c=mpl.cm.plasma_r(\n",
    "                            Y/np.max(Y)),\n",
    "                        s=200,\n",
    "                        marker='s')\n",
    "axarr[0].imshow(\n",
    "    Z,\n",
    "    interpolation=\"nearest\",\n",
    "    extent=(xx.min(), xx.max(), yy.min(), yy.max()),\n",
    "    aspect=\"auto\",\n",
    "    origin=\"lower\",\n",
    "    cmap=plt.cm.plasma_r,\n",
    ")\n",
    "axarr[0].contour(xx, yy, Z, levels=[0], linewidths=2, linestyles=\"dashed\")\n",
    "# # plt.yscale('log')"
   ]
  },
  {
   "cell_type": "markdown",
   "id": "7b933dbb",
   "metadata": {},
   "source": [
    "# Testing figures"
   ]
  },
  {
   "cell_type": "markdown",
   "id": "337741a0",
   "metadata": {},
   "source": [
    "# Conclusions and Next Steps"
   ]
  },
  {
   "cell_type": "code",
   "execution_count": 54,
   "id": "76dab630",
   "metadata": {},
   "outputs": [
    {
     "data": {
      "text/plain": [
       "0.4772498680518208"
      ]
     },
     "execution_count": 54,
     "metadata": {},
     "output_type": "execute_result"
    }
   ],
   "source": []
  },
  {
   "cell_type": "code",
   "execution_count": 51,
   "id": "8b3e99a1",
   "metadata": {},
   "outputs": [
    {
     "data": {
      "text/plain": [
       "nan"
      ]
     },
     "execution_count": 51,
     "metadata": {},
     "output_type": "execute_result"
    }
   ],
   "source": [
    "erfinv(1/np.sqrt(2))"
   ]
  },
  {
   "cell_type": "code",
   "execution_count": null,
   "id": "55e5e4d6",
   "metadata": {},
   "outputs": [],
   "source": []
  }
 ],
 "metadata": {
  "kernelspec": {
   "display_name": "Python 3.8.3 ('alens')",
   "language": "python",
   "name": "python3"
  },
  "language_info": {
   "codemirror_mode": {
    "name": "ipython",
    "version": 3
   },
   "file_extension": ".py",
   "mimetype": "text/x-python",
   "name": "python",
   "nbconvert_exporter": "python",
   "pygments_lexer": "ipython3",
   "version": "3.8.3"
  },
  "vscode": {
   "interpreter": {
    "hash": "04146d75943cb6a04ff81d0ce375eb0d834c6eb9906502527655c87a9ca8d951"
   }
  }
 },
 "nbformat": 4,
 "nbformat_minor": 5
}
