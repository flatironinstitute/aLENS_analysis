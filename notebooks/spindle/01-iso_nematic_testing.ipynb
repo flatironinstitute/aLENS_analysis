{
 "cells": [
  {
   "attachments": {},
   "cell_type": "markdown",
   "id": "3bfde5a6",
   "metadata": {},
   "source": [
    "# Imports\n",
    "Import libraries and write settings here."
   ]
  },
  {
   "cell_type": "code",
   "execution_count": 3,
   "id": "618a2e91",
   "metadata": {},
   "outputs": [
    {
     "data": {
      "text/html": [
       "<style>.container { width:80% !important; }</style>"
      ],
      "text/plain": [
       "<IPython.core.display.HTML object>"
      ]
     },
     "metadata": {},
     "output_type": "display_data"
    },
    {
     "name": "stdout",
     "output_type": "stream",
     "text": [
      "The autoreload extension is already loaded. To reload it, use:\n",
      "  %reload_ext autoreload\n"
     ]
    },
    {
     "data": {
      "text/plain": [
       "'1.13.1'"
      ]
     },
     "execution_count": 3,
     "metadata": {},
     "output_type": "execute_result"
    },
    {
     "name": "stdout",
     "output_type": "stream",
     "text": [
      "torch device: cpu\n"
     ]
    }
   ],
   "source": [
    "# Notebooks specific imports ########################################\n",
    "from IPython import get_ipython\n",
    "\n",
    "ipython = get_ipython()\n",
    "# Expand notebook display\n",
    "from IPython.display import display, HTML\n",
    "\n",
    "display(HTML(\"<style>.container { width:80% !important; }</style>\"))\n",
    "# Display all cell outputs\n",
    "from IPython.core.interactiveshell import InteractiveShell\n",
    "\n",
    "InteractiveShell.ast_node_interactivity = \"all\"\n",
    "# autoreload extension\n",
    "if \"autoreload\" not in ipython.extension_manager.loaded:\n",
    "    %load_ext autoreload\n",
    "%autoreload 2\n",
    "from tqdm.notebook import tqdm\n",
    "# End notebooks specific imports ####################################\n",
    "\n",
    "# Basic useful imports\n",
    "import yaml\n",
    "from pathlib import Path\n",
    "from pprint import pprint\n",
    "import h5py\n",
    "\n",
    "# Data manipulation\n",
    "import numpy as np\n",
    "from scipy.spatial import cKDTree\n",
    "from scipy import stats\n",
    "\n",
    "# Visualization\n",
    "import matplotlib as mpl\n",
    "import matplotlib.pyplot as plt\n",
    "\n",
    "# From alens_analysis\n",
    "import alens_analysis as aa\n",
    "import alens_analysis.chromatin as aac\n",
    "\n",
    "import torch\n",
    "\n",
    "torch.__version__\n",
    "device = torch.device(\"cuda\" if torch.cuda.is_available() else \"cpu\")\n",
    "print(f\"torch device: {device}\")\n",
    "\n",
    "# Locations\n",
    "# alens_data_path = Path.home() / \"ceph/DATA/Motor_Inference/IsoNemTesting\"\n",
    "alens_data_path = Path.home() / 'projects/DATA/Spindle/'\n",
    "\n",
    "graph_sty = {\n",
    "    \"axes.titlesize\": 20,\n",
    "    \"axes.labelsize\": 24,\n",
    "    \"lines.linewidth\": 2,\n",
    "    \"lines.markersize\": 2,\n",
    "    \"xtick.labelsize\": 24,\n",
    "    \"ytick.labelsize\": 24,\n",
    "    \"font.size\": 20,\n",
    "    \"font.sans-serif\": \"Helvetica\",\n",
    "    \"text.usetex\": False,\n",
    "    \"mathtext.fontset\": \"cm\",\n",
    "}\n",
    "plt.style.use(graph_sty)"
   ]
  },
  {
   "attachments": {},
   "cell_type": "markdown",
   "id": "7324ed6f",
   "metadata": {},
   "source": [
    "If we want to inspect the parameters of the simulations, we can do that by reading in the yaml file stored in HDF5 file attrs"
   ]
  },
  {
   "attachments": {},
   "cell_type": "markdown",
   "id": "8f6d2210",
   "metadata": {},
   "source": [
    "To make this more usable we can convert the yaml file string to a python dictionary. This is useful for example if we want to use the parameters in a plot or in analysis e.g. rescaling by temperature, viscosity, etc."
   ]
  },
  {
   "cell_type": "code",
   "execution_count": 3,
   "id": "f3e36123",
   "metadata": {},
   "outputs": [
    {
     "name": "stdout",
     "output_type": "stream",
     "text": [
      "###### RunConfig dictionary ########\n"
     ]
    },
    {
     "data": {
      "text/plain": [
       "False"
      ]
     },
     "execution_count": 3,
     "metadata": {},
     "output_type": "execute_result"
    }
   ],
   "source": [
    "print( \"###### RunConfig dictionary ########\")\n",
    "# Load in the yaml dictionary\n",
    "data_path= alens_data_path / 'WillPassiveRods10000L.5'\n",
    "data_path.exists()\n",
    "# run_config_str = (data_path / 'RunConfig.yaml')\n",
    "# param_dict = yaml.load(run_config_str.open(), Loader=yaml.FullLoader)  \n",
    "# print(param_dict, \"\\n\")\n",
    "# print(\" The viscosity of the fluid is\", param_dict['viscosity'], \"pN s/um^2\")"
   ]
  },
  {
   "attachments": {},
   "cell_type": "markdown",
   "id": "dc791024",
   "metadata": {},
   "source": [
    "## Post-processing of data"
   ]
  },
  {
   "attachments": {},
   "cell_type": "markdown",
   "id": "937aa1eb",
   "metadata": {},
   "source": [
    "Sometimes analyzing your data can take a long time and you would like to save that analysis for easy graphing later. So let's look at the more complicated system the we ran at the beginning of this tutorial in `Active3DNematic`. First we generate the raw data file previously,  "
   ]
  },
  {
   "cell_type": "code",
   "execution_count": 3,
   "id": "eef8488a",
   "metadata": {},
   "outputs": [],
   "source": [
    "opts = lambda: None \n",
    "opts.path = alens_data_path / 'WillPassiveRods10000L.5' # Notice the different path\n",
    "opts.analysis = 'collect'\n",
    "opts.analysis_dir = opts.path / 'analysis'\n",
    "opts.analysis_dir.mkdir(exist_ok=True)\n",
    "\n",
    "#aa.seed_analysis(opts)\n"
   ]
  },
  {
   "attachments": {},
   "cell_type": "markdown",
   "id": "640c892c",
   "metadata": {},
   "source": [
    "Now we wish to calculate how aligned all the filaments are over time. This is known as the nematic order and is the largest eigenvalue from the nematic order tensor \n",
    "$$Q_{\\alpha\\beta} = \\frac{1}{N}\\sum_{i=1}^N \\left(  \\hat{u}_{i\\alpha}\\hat{u}_{i\\beta} - \\frac{1}{d}\\delta_{\\alpha\\beta} \\right)$$\n",
    "where $\\hat{u}_i$ is the unit vector along the filament $i$, $N$ is the number of filaments, and $d\\in \\{2,3\\}$ is the number of spatial dimension of the system. aLENS analysis provides a function `calc_nematic_order` function to do just this.\n",
    "However, because we are in a periodic box and _aLENS_ only keeps track of the tips of the filaments, we need to correct data for the periodic boundary conditions.  Luckily, aLENS analysis also provides the function `apply_pbc_to_raw_syl_data` in the helpers moduls. This function takes in the raw data and the parameters of the simulation and returns the corrected data. "
   ]
  },
  {
   "cell_type": "code",
   "execution_count": 4,
   "id": "7c8d0c16",
   "metadata": {},
   "outputs": [
    {
     "name": "stdout",
     "output_type": "stream",
     "text": [
      "(10000, 9, 890)\n"
     ]
    }
   ],
   "source": [
    "import alens_analysis.chromatin.make_motion_graph as mmg\n",
    "\n",
    "with h5py.File(next(opts.analysis_dir.glob('raw*.h5')), 'r') as h5_data:\n",
    "    param_dict = yaml.load(h5_data.attrs['RunConfig'], Loader=yaml.FullLoader)  \n",
    "    protein_dict = yaml.load(h5_data.attrs['ProteinConfig'], Loader=yaml.FullLoader)  \n",
    "    box_lower = np.array(param_dict['simBoxLow'])\n",
    "    box_upper = np.array(param_dict['simBoxHigh'])\n",
    "    time_arr = h5_data['time'][:] # Load in time array, [:] loads data as numpy array\n",
    "    # Load in sylinder data\n",
    "    sy_dat = h5_data['raw_data/sylinders'][...]\n",
    "    # aLENS analysis has some useful helper functions for post-processing data\n",
    "    # This function applies periodic boundary conditions to the raw sylinder data.\n",
    "    sy_dat = aa.helpers.apply_pbc_to_raw_syl_data(sy_dat, box_lower, box_upper)\n",
    "    print(sy_dat.shape)\n",
    "\n",
    "    "
   ]
  },
  {
   "cell_type": "code",
   "execution_count": 50,
   "id": "f2063d5e",
   "metadata": {},
   "outputs": [
    {
     "name": "stdout",
     "output_type": "stream",
     "text": [
      "(65536, 8, 1)\n",
      "[nan]\n"
     ]
    },
    {
     "name": "stderr",
     "output_type": "stream",
     "text": [
      "/Users/alamson/projects/analysis/aLENS_analysis/alens_analysis/nematic_order.py:29: RuntimeWarning: invalid value encountered in divide\n",
      "  unit_dirs = directions / lengths[:]\n"
     ]
    }
   ],
   "source": [
    "# Test nematic order function\n",
    "# Create a sylinder data numpy array\n",
    "\n",
    "n = 256 \n",
    "\n",
    "end0_points = np.zeros((n*n, 3))\n",
    "end1_points = np.zeros((n*n, 3))\n",
    "\n",
    "theta_arr = np.linspace(0, np.pi, n)\n",
    "# theta_arr = .5* np.pi *np.ones(n)\n",
    "phi_arr = np.linspace(0, 2*np.pi, n)\n",
    "for i, theta in enumerate(theta_arr):\n",
    "    for j, phi in enumerate(phi_arr):\n",
    "        # end0_points[i*n+j] -= [np.sin(theta)*np.cos(phi), np.sin(theta)*np.sin(phi), np.cos(theta)]\n",
    "        # end1_points[i*n+j] = -end0_points[i*n+j] \n",
    "        end1_points[i*n+j] = [np.sin(theta)*np.cos(phi), np.sin(theta)*np.sin(phi), np.cos(theta)]\n",
    "\n",
    "buffer = np.zeros((end0_points.shape[0], 2))\n",
    "\n",
    "sy_dat = np.hstack([buffer, end0_points, end1_points])[:,:,np.newaxis]\n",
    "print(sy_dat.shape)\n",
    "nematic_order = aa.nematic_order.calc_nematic_order(sy_dat)\n",
    "print(nematic_order)"
   ]
  },
  {
   "cell_type": "code",
   "execution_count": 16,
   "id": "997fc8ca",
   "metadata": {},
   "outputs": [
    {
     "name": "stdout",
     "output_type": "stream",
     "text": [
      "[0.]\n",
      "[1.]\n",
      "[0.5]\n",
      "[0.50917508]\n"
     ]
    }
   ],
   "source": [
    "# Test nematic order function\n",
    "\n",
    "sy_dat = np.array([[0,0,-1,0,0, 1,0,0],\n",
    "                   [0,0,0,-1,0, 0,1,0],\n",
    "                   [0,0,0,0,-1, 0,0,1]])[:,:,np.newaxis]\n",
    "nematic_order = aa.nematic_order.calc_nematic_order(sy_dat)\n",
    "print(nematic_order)\n",
    "\n",
    "sy_dat = np.array([[0,0,-1,0,0, 1,0,0],\n",
    "                   [0,0,-1,0,0, 1,0,0],\n",
    "                   [0,0,-1,0,0, 1,0,0]])[:,:,np.newaxis]\n",
    "nematic_order = aa.nematic_order.calc_nematic_order(sy_dat)\n",
    "print(nematic_order)\n",
    "\n",
    "sy_dat = np.array([[0,0,-1,0,0, 1,0,0],\n",
    "                   [0,0,0,0,-1, 0,0,1]])[:,:,np.newaxis]\n",
    "nematic_order = aa.nematic_order.calc_nematic_order(sy_dat)\n",
    "print(nematic_order)\n",
    "\n",
    "sy_dat = np.array([[0,0,-1,0,0, 1,0,0],\n",
    "                    [0,0,-1,0,0, 1,0,0],\n",
    "                    [0,0,0,0,-1, 0,0,1],\n",
    "                   [0,0,0,0,-1, 0,0,1]])[:,:,np.newaxis]\n",
    "nematic_order = aa.nematic_order.calc_nematic_order(sy_dat)\n",
    "print(nematic_order)"
   ]
  },
  {
   "cell_type": "code",
   "execution_count": 7,
   "id": "84444f62",
   "metadata": {},
   "outputs": [
    {
     "name": "stderr",
     "output_type": "stream",
     "text": [
      "findfont: Font family ['sans-serif'] not found. Falling back to DejaVu Sans.\n"
     ]
    },
    {
     "data": {
      "image/png": "[encoded data removed]",
      "text/plain": [
       "<Figure size 432x288 with 1 Axes>"
      ]
     },
     "metadata": {
      "needs_background": "light"
     },
     "output_type": "display_data"
    }
   ],
   "source": [
    "nematic_order = aa.nematic_order.calc_nematic_order(sy_dat)\n",
    "_ = plt.plot(time_arr, nematic_order)\n",
    "_ = plt.xlabel(\"Time [s]\")\n",
    "_ = plt.ylabel(\"Nematic order\")"
   ]
  },
  {
   "cell_type": "code",
   "execution_count": 41,
   "id": "c66fdff4",
   "metadata": {},
   "outputs": [],
   "source": [
    "from scipy.spatial.transform import Rotation as R\n",
    "\n",
    "def rotation_matrix_from_vectors(vec1, vec2):\n",
    "    \"\"\" Find the rotation matrix that aligns vec1 to vec2\n",
    "    :param vec1: A 3d \"source\" vector\n",
    "    :param vec2: A 3d \"destination\" vector\n",
    "    :return mat: A transform matrix (3x3) which when applied to vec1, aligns it with vec2.\n",
    "    \"\"\"\n",
    "    # Normalize vectors\n",
    "    vec1 = vec1 / np.linalg.norm(vec1)\n",
    "    vec2 = vec2 / np.linalg.norm(vec2)\n",
    "\n",
    "    # Compute the cross product and dot product\n",
    "    cross_prod = np.cross(vec1, vec2)\n",
    "    dot_prod = np.dot(vec1, vec2)\n",
    "\n",
    "    # Compute the rotation angle\n",
    "    angle = np.arccos(dot_prod)\n",
    "\n",
    "    # Compute the rotation axis\n",
    "    axis = cross_prod / np.linalg.norm(cross_prod)\n",
    "\n",
    "    # Use scipy to compute the rotation matrix\n",
    "    rotation_vector = axis * angle\n",
    "    rotation = R.from_rotvec(rotation_vector)\n",
    "    rotation_matrix = rotation.as_matrix()\n",
    "\n",
    "    return rotation_matrix\n",
    "\n",
    "def filter_ghost_particles(com_arr, n_arr):\n",
    "    ghost_vec = np.array([0,0,0])\n",
    "    mask = np.all(com_arr[:,:] == ghost_vec, axis=1)\n",
    "    return com_arr[~mask], n_arr[~mask]\n",
    "\n",
    "def zrho_corr_new(n_arr, com_arr, time=None, distance=1.0, boxsize=None):  \n",
    "    if time is None:\n",
    "        positions, normals = filter_ghost_particles(com_arr, n_arr)\n",
    "        # normal vector of segments, centerpoints, time and cutoff distcnce\n",
    "    else:\n",
    "        positions, normals = filter_ghost_particles(com_arr[:,:,time], n_arr[:,:,time])\n",
    "    print(positions.shape)\n",
    "    tree = cKDTree(positions, boxsize=boxsize)\n",
    "    # pairs = tree.query_ball_tree(tree, r=distance)\n",
    "    # for pair in pairs:\n",
    "    #     print(len(pair))\n",
    "    \n",
    "    zpos = []\n",
    "    rhopos = []\n",
    "    zvec = np.array([0,0,1])\n",
    "    rot_neigh_pos_list = []\n",
    "    for cur_seg, pos in enumerate(positions):\n",
    "        neighbor_inds = tree.query_ball_point(pos, r=distance)\n",
    "        print(neighbor_inds)\n",
    "        n_vec = normals[cur_seg,:] # Normal vector of current segment\n",
    "        # neighbor_inds.remove(cur_seg) # Don't count self distances\n",
    "        neigh_pos = positions[neighbor_inds,:] - positions[cur_seg,:]\n",
    "\n",
    "        # Rotation matrix that transforms current segments orientation to zvec\n",
    "        rot_mat = rotation_matrix_from_vectors(n_vec, zvec)\n",
    "        # Rotate all neighbors to align with current zvec\n",
    "        rot_neigh_pos_list += [np.einsum('ij,kj->ki', rot_mat, neigh_pos)]\n",
    "\n",
    "    rot_neigh_pos_arr = np.vstack(rot_neigh_pos_list)\n",
    "    rhopos = np.linalg.norm(rot_neigh_pos_arr[:,:2], axis=1)\n",
    "    zpos = rot_neigh_pos_arr[:,2]\n",
    "    return zpos, rhopos "
   ]
  },
  {
   "cell_type": "code",
   "execution_count": 42,
   "id": "0b58d5c1",
   "metadata": {},
   "outputs": [
    {
     "name": "stdout",
     "output_type": "stream",
     "text": [
      "(10000, 3)\n"
     ]
    },
    {
     "ename": "AttributeError",
     "evalue": "'list' object has no attribute 'shape'",
     "output_type": "error",
     "traceback": [
      "\u001b[0;31m---------------------------------------------------------------------------\u001b[0m",
      "\u001b[0;31mAttributeError\u001b[0m                            Traceback (most recent call last)",
      "\u001b[0;32m/tmp/ipykernel_730887/3072188452.py\u001b[0m in \u001b[0;36m<module>\u001b[0;34m\u001b[0m\n\u001b[1;32m      2\u001b[0m \u001b[0mn_arr\u001b[0m \u001b[0;34m=\u001b[0m \u001b[0msy_dat\u001b[0m\u001b[0;34m[\u001b[0m\u001b[0;34m:\u001b[0m\u001b[0;34m,\u001b[0m \u001b[0;36m5\u001b[0m\u001b[0;34m:\u001b[0m\u001b[0;36m8\u001b[0m\u001b[0;34m,\u001b[0m \u001b[0;34m:\u001b[0m\u001b[0;34m]\u001b[0m \u001b[0;34m-\u001b[0m \u001b[0msy_dat\u001b[0m\u001b[0;34m[\u001b[0m\u001b[0;34m:\u001b[0m\u001b[0;34m,\u001b[0m \u001b[0;36m2\u001b[0m\u001b[0;34m:\u001b[0m\u001b[0;36m5\u001b[0m\u001b[0;34m,\u001b[0m \u001b[0;34m:\u001b[0m\u001b[0;34m]\u001b[0m\u001b[0;34m\u001b[0m\u001b[0;34m\u001b[0m\u001b[0m\n\u001b[1;32m      3\u001b[0m \u001b[0mn_arr\u001b[0m \u001b[0;34m/=\u001b[0m \u001b[0mnp\u001b[0m\u001b[0;34m.\u001b[0m\u001b[0mlinalg\u001b[0m\u001b[0;34m.\u001b[0m\u001b[0mnorm\u001b[0m\u001b[0;34m(\u001b[0m\u001b[0mn_arr\u001b[0m\u001b[0;34m,\u001b[0m \u001b[0maxis\u001b[0m\u001b[0;34m=\u001b[0m\u001b[0;36m1\u001b[0m\u001b[0;34m)\u001b[0m\u001b[0;34m[\u001b[0m\u001b[0;34m:\u001b[0m\u001b[0;34m,\u001b[0m\u001b[0;32mNone\u001b[0m\u001b[0;34m]\u001b[0m\u001b[0;34m\u001b[0m\u001b[0;34m\u001b[0m\u001b[0m\n\u001b[0;32m----> 4\u001b[0;31m \u001b[0mzpos\u001b[0m\u001b[0;34m,\u001b[0m \u001b[0mrhopos\u001b[0m \u001b[0;34m=\u001b[0m \u001b[0mzrho_corr_new\u001b[0m\u001b[0;34m(\u001b[0m\u001b[0mn_arr\u001b[0m\u001b[0;34m,\u001b[0m\u001b[0mcom_arr\u001b[0m\u001b[0;34m,\u001b[0m\u001b[0;34m-\u001b[0m\u001b[0;36m1\u001b[0m\u001b[0;34m,\u001b[0m\u001b[0;36m2.5\u001b[0m\u001b[0;34m,\u001b[0m \u001b[0mboxsize\u001b[0m\u001b[0;34m=\u001b[0m\u001b[0;36m5.0\u001b[0m\u001b[0;34m)\u001b[0m\u001b[0;34m\u001b[0m\u001b[0;34m\u001b[0m\u001b[0m\n\u001b[0m\u001b[1;32m      5\u001b[0m \u001b[0;31m#zrho_corr_new(n_arr, com_arr, -1, 1.0)\u001b[0m\u001b[0;34m\u001b[0m\u001b[0;34m\u001b[0m\u001b[0;34m\u001b[0m\u001b[0m\n",
      "\u001b[0;32m/tmp/ipykernel_730887/2081990377.py\u001b[0m in \u001b[0;36mzrho_corr_new\u001b[0;34m(n_arr, com_arr, time, distance, boxsize)\u001b[0m\n\u001b[1;32m     51\u001b[0m     \u001b[0;32mfor\u001b[0m \u001b[0mcur_seg\u001b[0m\u001b[0;34m,\u001b[0m \u001b[0mpos\u001b[0m \u001b[0;32min\u001b[0m \u001b[0menumerate\u001b[0m\u001b[0;34m(\u001b[0m\u001b[0mpositions\u001b[0m\u001b[0;34m)\u001b[0m\u001b[0;34m:\u001b[0m\u001b[0;34m\u001b[0m\u001b[0;34m\u001b[0m\u001b[0m\n\u001b[1;32m     52\u001b[0m         \u001b[0mneighbor_inds\u001b[0m \u001b[0;34m=\u001b[0m \u001b[0mtree\u001b[0m\u001b[0;34m.\u001b[0m\u001b[0mquery_ball_point\u001b[0m\u001b[0;34m(\u001b[0m\u001b[0mpos\u001b[0m\u001b[0;34m,\u001b[0m \u001b[0mr\u001b[0m\u001b[0;34m=\u001b[0m\u001b[0mdistance\u001b[0m\u001b[0;34m)\u001b[0m\u001b[0;34m\u001b[0m\u001b[0;34m\u001b[0m\u001b[0m\n\u001b[0;32m---> 53\u001b[0;31m         \u001b[0mprint\u001b[0m\u001b[0;34m(\u001b[0m\u001b[0mneighbor_inds\u001b[0m\u001b[0;34m.\u001b[0m\u001b[0mshape\u001b[0m\u001b[0;34m)\u001b[0m\u001b[0;34m\u001b[0m\u001b[0;34m\u001b[0m\u001b[0m\n\u001b[0m\u001b[1;32m     54\u001b[0m         \u001b[0mprint\u001b[0m\u001b[0;34m(\u001b[0m\u001b[0mneighbor_inds\u001b[0m\u001b[0;34m)\u001b[0m\u001b[0;34m\u001b[0m\u001b[0;34m\u001b[0m\u001b[0m\n\u001b[1;32m     55\u001b[0m         \u001b[0mn_vec\u001b[0m \u001b[0;34m=\u001b[0m \u001b[0mnormals\u001b[0m\u001b[0;34m[\u001b[0m\u001b[0mcur_seg\u001b[0m\u001b[0;34m,\u001b[0m\u001b[0;34m:\u001b[0m\u001b[0;34m]\u001b[0m \u001b[0;31m# Normal vector of current segment\u001b[0m\u001b[0;34m\u001b[0m\u001b[0;34m\u001b[0m\u001b[0m\n",
      "\u001b[0;31mAttributeError\u001b[0m: 'list' object has no attribute 'shape'"
     ]
    }
   ],
   "source": [
    "com_arr = .5 * (sy_dat[:, 2:5, :] + sy_dat[:, 5:8, :])\n",
    "n_arr = sy_dat[:, 5:8, :] - sy_dat[:, 2:5, :]\n",
    "n_arr /= np.linalg.norm(n_arr, axis=1)[:,None]\n",
    "zpos, rhopos = zrho_corr_new(n_arr,com_arr,-1,2.5, boxsize=5.0)\n",
    "#zrho_corr_new(n_arr, com_arr, -1, 1.0)"
   ]
  },
  {
   "cell_type": "code",
   "execution_count": 30,
   "id": "ff6483c9",
   "metadata": {},
   "outputs": [
    {
     "name": "stdout",
     "output_type": "stream",
     "text": [
      "3000000\n"
     ]
    },
    {
     "name": "stderr",
     "output_type": "stream",
     "text": [
      "/tmp/ipykernel_730887/3861063038.py:4: RuntimeWarning: divide by zero encountered in true_divide\n",
      "  heatmap, rhoedges, zedges = np.histogram2d(rhoarr, zarr, bins=50, weights=1./rhoarr, range=[[0, 2], [-2, 2]])\n"
     ]
    },
    {
     "data": {
      "image/png": "[encoded data removed]",
      "text/plain": [
       "<Figure size 432x288 with 1 Axes>"
      ]
     },
     "metadata": {
      "needs_background": "light"
     },
     "output_type": "display_data"
    }
   ],
   "source": [
    "rhoarr = np.array(rhopos)\n",
    "zarr = np.array(zpos)\n",
    "print(len(rhoarr))\n",
    "heatmap, rhoedges, zedges = np.histogram2d(rhoarr, zarr, bins=50, weights=1./rhoarr, range=[[0, 2], [-2, 2]])\n",
    "extent = [rhoedges[0], rhoedges[-1], zedges[0], zedges[-1]]\n",
    "\n",
    "heatmap = heatmap\n",
    "_ = plt.clf()\n",
    "_ = plt.imshow(heatmap.T, extent=extent, origin='lower')\n",
    "_ = plt.xlabel(\"ρ [μm]\")\n",
    "_ = plt.ylabel(\"z [μm]\")"
   ]
  },
  {
   "cell_type": "code",
   "execution_count": 48,
   "id": "45361595",
   "metadata": {},
   "outputs": [
    {
     "name": "stdout",
     "output_type": "stream",
     "text": [
      "(10000, 3)\n",
      "27728406\n"
     ]
    },
    {
     "data": {
      "image/png": "[encoded data removed]",
      "text/plain": [
       "<Figure size 432x288 with 1 Axes>"
      ]
     },
     "metadata": {
      "needs_background": "light"
     },
     "output_type": "display_data"
    }
   ],
   "source": [
    "# make 10000 points in 3D space uniformly distributed between 0 and 5 in all dimensions\n",
    "points = np.random.uniform(0, 5, (10000, 3, 1))\n",
    "# make 10000 normal vectors all pointin in the (1,0,0) direction\n",
    "n_verts = np.ones((10000, 3, 1))\n",
    "zpos, rhopos = zrho_corr_new(n_verts,points,0,2.5, boxsize=None)\n",
    "rhoarr = np.array(rhopos)\n",
    "zarr = np.array(zpos)\n",
    "print(len(rhoarr))\n",
    "heatmap, rhoedges, zedges = np.histogram2d(rhoarr, zarr, bins=50, weights=1./rhoarr, range=[[0, 1], [-1, 1]])\n",
    "extent = [rhoedges[0], rhoedges[-1], zedges[0], zedges[-1]]\n",
    "\n",
    "heatmap = heatmap\n",
    "_ = plt.clf()\n",
    "_ = plt.imshow(heatmap.T, extent=extent, origin='lower')\n",
    "_ = plt.xlabel(\"ρ [μm]\")\n",
    "_ = plt.ylabel(\"z [μm]\")"
   ]
  },
  {
   "cell_type": "code",
   "execution_count": 38,
   "id": "965f08db",
   "metadata": {},
   "outputs": [
    {
     "name": "stdout",
     "output_type": "stream",
     "text": [
      "(125, 3)\n",
      "(125, 3)\n",
      "(124, 3)\n",
      "(300,)\n",
      "[  0 100  20 120 124 124 124 124 124 124 124 124 124 124 124 124 124 124\n",
      " 124 124 124 124 124 124 124 124 124 124 124 124 124 124 124 124 124 124\n",
      " 124 124 124 124 124 124 124 124 124 124 124 124 124 124 124 124 124 124\n",
      " 124 124 124 124 124 124 124 124 124 124 124 124 124 124 124 124 124 124\n",
      " 124 124 124 124 124 124 124 124 124 124 124 124 124 124 124 124 124 124\n",
      " 124 124 124 124 124 124 124 124 124 124 124 124 124 124 124 124 124 124\n",
      " 124 124 124 124 124 124 124 124 124 124 124 124 124 124 124 124 124 124\n",
      " 124 124 124 124 124 124 124 124 124 124 124 124 124 124 124 124 124 124\n",
      " 124 124 124 124 124 124 124 124 124 124 124 124 124 124 124 124 124 124\n",
      " 124 124 124 124 124 124 124 124 124 124 124 124 124 124 124 124 124 124\n",
      " 124 124 124 124 124 124 124 124 124 124 124 124 124 124 124 124 124 124\n",
      " 124 124 124 124 124 124 124 124 124 124 124 124 124 124 124 124 124 124\n",
      " 124 124 124 124 124 124 124 124 124 124 124 124 124 124 124 124 124 124\n",
      " 124 124 124 124 124 124 124 124 124 124 124 124 124 124 124 124 124 124\n",
      " 124 124 124 124 124 124 124 124 124 124 124 124 124 124 124 124 124 124\n",
      " 124 124 124 124 124 124 124 124 124 124 124 124 124 124 124 124 124 124\n",
      " 124 124 124 124 124 124 124 124 124 124 124 124]\n"
     ]
    },
    {
     "ename": "IndexError",
     "evalue": "index 124 is out of bounds for axis 0 with size 124",
     "output_type": "error",
     "traceback": [
      "\u001b[0;31m---------------------------------------------------------------------------\u001b[0m",
      "\u001b[0;31mIndexError\u001b[0m                                Traceback (most recent call last)",
      "\u001b[0;32m/tmp/ipykernel_730887/432734847.py\u001b[0m in \u001b[0;36m<module>\u001b[0;34m\u001b[0m\n\u001b[1;32m     19\u001b[0m \u001b[0mprint\u001b[0m\u001b[0;34m(\u001b[0m\u001b[0mpoints\u001b[0m\u001b[0;34m.\u001b[0m\u001b[0mshape\u001b[0m\u001b[0;34m)\u001b[0m\u001b[0;34m\u001b[0m\u001b[0;34m\u001b[0m\u001b[0m\n\u001b[1;32m     20\u001b[0m \u001b[0;31m# zpos, rhopos = zrho_corr_new(matrix,points, distance=2.5, boxsize=5.001)\u001b[0m\u001b[0;34m\u001b[0m\u001b[0;34m\u001b[0m\u001b[0;34m\u001b[0m\u001b[0m\n\u001b[0;32m---> 21\u001b[0;31m \u001b[0mzpos\u001b[0m\u001b[0;34m,\u001b[0m \u001b[0mrhopos\u001b[0m \u001b[0;34m=\u001b[0m \u001b[0mzrho_corr_new\u001b[0m\u001b[0;34m(\u001b[0m\u001b[0mmatrix\u001b[0m\u001b[0;34m,\u001b[0m\u001b[0mpoints\u001b[0m\u001b[0;34m,\u001b[0m \u001b[0mdistance\u001b[0m\u001b[0;34m=\u001b[0m\u001b[0;36m1.0\u001b[0m\u001b[0;34m,\u001b[0m \u001b[0mboxsize\u001b[0m\u001b[0;34m=\u001b[0m\u001b[0;34m[\u001b[0m\u001b[0;36m5.001\u001b[0m\u001b[0;34m,\u001b[0m\u001b[0;36m5.001\u001b[0m\u001b[0;34m,\u001b[0m\u001b[0;36m5.001\u001b[0m\u001b[0;34m]\u001b[0m\u001b[0;34m)\u001b[0m\u001b[0;34m\u001b[0m\u001b[0;34m\u001b[0m\u001b[0m\n\u001b[0m",
      "\u001b[0;32m/tmp/ipykernel_730887/1154394908.py\u001b[0m in \u001b[0;36mzrho_corr_new\u001b[0;34m(n_arr, com_arr, time, distance, boxsize)\u001b[0m\n\u001b[1;32m     55\u001b[0m         \u001b[0mn_vec\u001b[0m \u001b[0;34m=\u001b[0m \u001b[0mnormals\u001b[0m\u001b[0;34m[\u001b[0m\u001b[0mcur_seg\u001b[0m\u001b[0;34m,\u001b[0m\u001b[0;34m:\u001b[0m\u001b[0;34m]\u001b[0m \u001b[0;31m# Normal vector of current segment\u001b[0m\u001b[0;34m\u001b[0m\u001b[0;34m\u001b[0m\u001b[0m\n\u001b[1;32m     56\u001b[0m         \u001b[0;31m# neighbor_inds.remove(cur_seg) # Don't count self distances\u001b[0m\u001b[0;34m\u001b[0m\u001b[0;34m\u001b[0m\u001b[0;34m\u001b[0m\u001b[0m\n\u001b[0;32m---> 57\u001b[0;31m         \u001b[0mneigh_pos\u001b[0m \u001b[0;34m=\u001b[0m \u001b[0mpositions\u001b[0m\u001b[0;34m[\u001b[0m\u001b[0mneighbor_inds\u001b[0m\u001b[0;34m,\u001b[0m\u001b[0;34m:\u001b[0m\u001b[0;34m]\u001b[0m \u001b[0;34m-\u001b[0m \u001b[0mpositions\u001b[0m\u001b[0;34m[\u001b[0m\u001b[0mcur_seg\u001b[0m\u001b[0;34m,\u001b[0m\u001b[0;34m:\u001b[0m\u001b[0;34m]\u001b[0m\u001b[0;34m\u001b[0m\u001b[0;34m\u001b[0m\u001b[0m\n\u001b[0m\u001b[1;32m     58\u001b[0m \u001b[0;34m\u001b[0m\u001b[0m\n\u001b[1;32m     59\u001b[0m         \u001b[0;31m# Rotation matrix that transforms current segments orientation to zvec\u001b[0m\u001b[0;34m\u001b[0m\u001b[0;34m\u001b[0m\u001b[0;34m\u001b[0m\u001b[0m\n",
      "\u001b[0;31mIndexError\u001b[0m: index 124 is out of bounds for axis 0 with size 124"
     ]
    }
   ],
   "source": [
    "# make a list of points that sit on a 3d cubic lattice of n points\n",
    "n = 5\n",
    "x = np.linspace(0, 5, n)\n",
    "y = np.linspace(0, 5, n)\n",
    "z = np.linspace(0, 5, n)\n",
    "xv, yv, zv = np.meshgrid(x, y, z)\n",
    "points = np.stack((xv, yv, zv), axis=-1).reshape(-1, 3)\n",
    "\n",
    "# Define the vector and the number of repetitions\n",
    "vector = np.array([0, 1.\n",
    "                   , 0])\n",
    "repetitions = n**3\n",
    "\n",
    "# Create the matrix\n",
    "matrix = np.tile(vector, (repetitions, 1))\n",
    "\n",
    "print(matrix.shape)\n",
    "\n",
    "print(points.shape)\n",
    "# zpos, rhopos = zrho_corr_new(matrix,points, distance=2.5, boxsize=5.001)\n",
    "zpos, rhopos = zrho_corr_new(matrix,points, distance=1.0, boxsize=[5.001,5.001,5.001])"
   ]
  },
  {
   "cell_type": "code",
   "execution_count": 9,
   "id": "b484cdad",
   "metadata": {},
   "outputs": [
    {
     "ename": "NameError",
     "evalue": "name 'rhopos' is not defined",
     "output_type": "error",
     "traceback": [
      "\u001b[0;31m---------------------------------------------------------------------------\u001b[0m",
      "\u001b[0;31mNameError\u001b[0m                                 Traceback (most recent call last)",
      "\u001b[0;32m/tmp/ipykernel_730887/4118816305.py\u001b[0m in \u001b[0;36m<module>\u001b[0;34m\u001b[0m\n\u001b[0;32m----> 1\u001b[0;31m \u001b[0mrhoarr\u001b[0m \u001b[0;34m=\u001b[0m \u001b[0mnp\u001b[0m\u001b[0;34m.\u001b[0m\u001b[0marray\u001b[0m\u001b[0;34m(\u001b[0m\u001b[0mrhopos\u001b[0m\u001b[0;34m)\u001b[0m\u001b[0;34m\u001b[0m\u001b[0;34m\u001b[0m\u001b[0m\n\u001b[0m\u001b[1;32m      2\u001b[0m \u001b[0mzarr\u001b[0m \u001b[0;34m=\u001b[0m \u001b[0mnp\u001b[0m\u001b[0;34m.\u001b[0m\u001b[0marray\u001b[0m\u001b[0;34m(\u001b[0m\u001b[0mzpos\u001b[0m\u001b[0;34m)\u001b[0m\u001b[0;34m\u001b[0m\u001b[0;34m\u001b[0m\u001b[0m\n\u001b[1;32m      3\u001b[0m \u001b[0mprint\u001b[0m\u001b[0;34m(\u001b[0m\u001b[0mlen\u001b[0m\u001b[0;34m(\u001b[0m\u001b[0mrhoarr\u001b[0m\u001b[0;34m)\u001b[0m\u001b[0;34m)\u001b[0m\u001b[0;34m\u001b[0m\u001b[0;34m\u001b[0m\u001b[0m\n\u001b[1;32m      4\u001b[0m \u001b[0mheatmap\u001b[0m\u001b[0;34m,\u001b[0m \u001b[0mrhoedges\u001b[0m\u001b[0;34m,\u001b[0m \u001b[0mzedges\u001b[0m \u001b[0;34m=\u001b[0m \u001b[0mnp\u001b[0m\u001b[0;34m.\u001b[0m\u001b[0mhistogram2d\u001b[0m\u001b[0;34m(\u001b[0m\u001b[0mrhoarr\u001b[0m\u001b[0;34m,\u001b[0m \u001b[0mzarr\u001b[0m\u001b[0;34m,\u001b[0m \u001b[0mbins\u001b[0m\u001b[0;34m=\u001b[0m\u001b[0;36m50\u001b[0m\u001b[0;34m,\u001b[0m \u001b[0mweights\u001b[0m\u001b[0;34m=\u001b[0m\u001b[0;36m1.\u001b[0m\u001b[0;34m/\u001b[0m\u001b[0;34m(\u001b[0m\u001b[0mrhoarr\u001b[0m \u001b[0;34m+\u001b[0m \u001b[0;36m.1\u001b[0m\u001b[0;34m)\u001b[0m\u001b[0;34m,\u001b[0m \u001b[0mrange\u001b[0m\u001b[0;34m=\u001b[0m\u001b[0;34m[\u001b[0m\u001b[0;34m[\u001b[0m\u001b[0;36m0\u001b[0m\u001b[0;34m,\u001b[0m \u001b[0;36m2\u001b[0m\u001b[0;34m]\u001b[0m\u001b[0;34m,\u001b[0m \u001b[0;34m[\u001b[0m\u001b[0;34m-\u001b[0m\u001b[0;36m2\u001b[0m\u001b[0;34m,\u001b[0m \u001b[0;36m2\u001b[0m\u001b[0;34m]\u001b[0m\u001b[0;34m]\u001b[0m\u001b[0;34m)\u001b[0m\u001b[0;34m\u001b[0m\u001b[0;34m\u001b[0m\u001b[0m\n\u001b[1;32m      5\u001b[0m \u001b[0mextent\u001b[0m \u001b[0;34m=\u001b[0m \u001b[0;34m[\u001b[0m\u001b[0mrhoedges\u001b[0m\u001b[0;34m[\u001b[0m\u001b[0;36m0\u001b[0m\u001b[0;34m]\u001b[0m\u001b[0;34m,\u001b[0m \u001b[0mrhoedges\u001b[0m\u001b[0;34m[\u001b[0m\u001b[0;34m-\u001b[0m\u001b[0;36m1\u001b[0m\u001b[0;34m]\u001b[0m\u001b[0;34m,\u001b[0m \u001b[0mzedges\u001b[0m\u001b[0;34m[\u001b[0m\u001b[0;36m0\u001b[0m\u001b[0;34m]\u001b[0m\u001b[0;34m,\u001b[0m \u001b[0mzedges\u001b[0m\u001b[0;34m[\u001b[0m\u001b[0;34m-\u001b[0m\u001b[0;36m1\u001b[0m\u001b[0;34m]\u001b[0m\u001b[0;34m]\u001b[0m\u001b[0;34m\u001b[0m\u001b[0;34m\u001b[0m\u001b[0m\n",
      "\u001b[0;31mNameError\u001b[0m: name 'rhopos' is not defined"
     ]
    }
   ],
   "source": [
    "rhoarr = np.array(rhopos)\n",
    "zarr = np.array(zpos)\n",
    "print(len(rhoarr))\n",
    "heatmap, rhoedges, zedges = np.histogram2d(rhoarr, zarr, bins=50, weights=1./(rhoarr + .1), range=[[0, 2], [-2, 2]])\n",
    "extent = [rhoedges[0], rhoedges[-1], zedges[0], zedges[-1]]\n",
    "\n",
    "heatmap = heatmap\n",
    "_ = plt.clf()\n",
    "_ = plt.imshow(heatmap.T, extent=extent, origin='lower')\n",
    "_ = plt.xlabel(\"ρ [μm]\")\n",
    "_ = plt.ylabel(\"z [μm]\")"
   ]
  },
  {
   "attachments": {},
   "cell_type": "markdown",
   "id": "d367bc83",
   "metadata": {},
   "source": [
    "# Saving post-processed data with HDF5"
   ]
  },
  {
   "attachments": {},
   "cell_type": "markdown",
   "id": "6826b561",
   "metadata": {},
   "source": [
    "While the above calculation happened quickly, it is possible that the analysis you want to do takes a long time. In this case, you can save the data to a file for later use. Let's save the nematic order data we just calculated."
   ]
  },
  {
   "attachments": {},
   "cell_type": "markdown",
   "id": "cf84112d",
   "metadata": {},
   "source": []
  },
  {
   "cell_type": "code",
   "execution_count": 23,
   "id": "78e09af7",
   "metadata": {},
   "outputs": [],
   "source": [
    "# Open an hdf5 file for writing, (w = write, will overwrite existing files)\n",
    "with h5py.File(opts.analysis_dir / 'nematic_order.h5', 'w') as h5_data:\n",
    "    # Save the RunConfig string to the attributes for easy access later\n",
    "    h5_data.attrs['RunConfig'] = yaml.dump(param_dict)\n",
    "    h5_data.attrs['ProteinConfig'] = yaml.dump(protein_dict)\n",
    "    # Save the time array\n",
    "    _ = h5_data.create_dataset('time', data=time_arr)\n",
    "    # Save the nematic order array\n",
    "    _ = h5_data.create_dataset('nematic_order', data=nematic_order)"
   ]
  },
  {
   "attachments": {},
   "cell_type": "markdown",
   "id": "22e93e74",
   "metadata": {},
   "source": [
    "Let's read in the data and see if we get the same thing as before."
   ]
  },
  {
   "cell_type": "code",
   "execution_count": 28,
   "id": "b26ab62e",
   "metadata": {},
   "outputs": [
    {
     "data": {
      "image/png": "[encoded data removed]",
      "text/plain": [
       "<Figure size 1600x600 with 2 Axes>"
      ]
     },
     "metadata": {},
     "output_type": "display_data"
    }
   ],
   "source": [
    "with h5py.File(opts.analysis_dir / 'nematic_order.h5', 'r') as h5_data:\n",
    "    time_arr = h5_data['time'][:] # Load in time array, [:] loads data as numpy array\n",
    "    # Load nematic data\n",
    "    new_nematic_order = h5_data['nematic_order'][:]\n",
    "\n",
    "# Plot the nematic order parameter\n",
    "fig, axarr = plt.subplots(1,2, figsize=(16, 6))\n",
    "\n",
    "_ = axarr[0].plot(time_arr, new_nematic_order)\n",
    "_ = axarr[0].set_xlabel(\"Time [s]\")\n",
    "_ = axarr[0].set_ylabel(\"Nematic order\")\n",
    "\n",
    "_ = axarr[1].plot(time_arr, nematic_order - new_nematic_order)\n",
    "_ = axarr[1].set_xlabel(\"Time [s]\")\n",
    "_ = axarr[1].set_ylabel(\"Difference\")\n",
    "fig.tight_layout()  "
   ]
  },
  {
   "attachments": {},
   "cell_type": "markdown",
   "id": "7f6fa70c",
   "metadata": {},
   "source": [
    "Notice how much faster that was then calculating the nematic order again. This is especially useful if you want to plot the data in different ways or if you want to compare the data from different simulations."
   ]
  },
  {
   "attachments": {},
   "cell_type": "markdown",
   "id": "f58409ba",
   "metadata": {},
   "source": [
    "If you perform another analysis and would like to include it in the same file, you can add it using the `mode='r+'`(read and append) or `mode='a'`(append). You can still overwrite data already in the hdf5 file if the same dataset name exists, so be careful. It is often wiser to make another file if you are unsure."
   ]
  },
  {
   "cell_type": "code",
   "execution_count": 31,
   "id": "2a96d866",
   "metadata": {},
   "outputs": [
    {
     "name": "stdout",
     "output_type": "stream",
     "text": [
      "## Previous data structure ##\n",
      "nematic_order\n",
      "time\n"
     ]
    },
    {
     "data": {
      "text/plain": [
       "<HDF5 dataset \"new_dataset\": shape (10,), type \"<i8\">"
      ]
     },
     "execution_count": 31,
     "metadata": {},
     "output_type": "execute_result"
    },
    {
     "name": "stdout",
     "output_type": "stream",
     "text": [
      "## Post modifications of data structure ##\n",
      "nematic_order\n",
      "new_group\n",
      "new_group/new_group\n",
      "new_group/new_group/new_dataset\n",
      "time\n"
     ]
    }
   ],
   "source": [
    "# Open an hdf5 file and show tree structure\n",
    "with h5py.File(opts.analysis_dir / 'nematic_order.h5', 'r+') as h5_data:\n",
    "    print(\"## Previous data structure ##\")\n",
    "    h5_data.visit(print) # Print the tree structure of the hdf5 file\n",
    "\n",
    "    new_grp = h5_data.create_group('new_group') # Create a new group\n",
    "    new_grp.create_dataset('new_dataset', data=np.arange(10)) # Create a new dataset\n",
    "\n",
    "    print(\"## Post modifications of data structure ##\")\n",
    "    h5_data.visit(print) # Print the tree structure of the hdf5 file\n"
   ]
  },
  {
   "cell_type": "code",
   "execution_count": 53,
   "id": "325ee516",
   "metadata": {},
   "outputs": [
    {
     "name": "stdout",
     "output_type": "stream",
     "text": [
      "tensor([[ 0.0000e+00,  1.7162e+00,  3.4324e+00,  ...,  1.6647e+02,\n",
      "          1.6819e+02,  1.6990e+02],\n",
      "        [ 0.0000e+00, -2.8024e-01, -5.6048e-01,  ..., -2.7183e+01,\n",
      "         -2.7463e+01, -2.7744e+01],\n",
      "        [ 0.0000e+00, -2.6353e+00, -5.2706e+00,  ..., -2.5562e+02,\n",
      "         -2.5826e+02, -2.6089e+02],\n",
      "        ...,\n",
      "        [ 0.0000e+00, -3.0353e+00, -6.0705e+00,  ..., -2.9442e+02,\n",
      "         -2.9746e+02, -3.0049e+02],\n",
      "        [ 0.0000e+00, -1.8491e+00, -3.6982e+00,  ..., -1.7936e+02,\n",
      "         -1.8121e+02, -1.8306e+02],\n",
      "        [ 0.0000e+00,  3.0797e-01,  6.1594e-01,  ...,  2.9873e+01,\n",
      "          3.0181e+01,  3.0489e+01]])\n",
      "tensor([[ 0.0000e+00,  2.9261e+00,  5.8522e+00,  ...,  2.8383e+02,\n",
      "          2.8676e+02,  2.8968e+02],\n",
      "        [ 0.0000e+00,  2.5674e-01,  5.1348e-01,  ...,  2.4904e+01,\n",
      "          2.5161e+01,  2.5417e+01],\n",
      "        [ 0.0000e+00, -2.3691e+00, -4.7383e+00,  ..., -2.2981e+02,\n",
      "         -2.3218e+02, -2.3454e+02],\n",
      "        ...,\n",
      "        [ 0.0000e+00, -2.5614e+00, -5.1227e+00,  ..., -2.4845e+02,\n",
      "         -2.5101e+02, -2.5358e+02],\n",
      "        [ 0.0000e+00,  1.1701e+00,  2.3402e+00,  ...,  1.1350e+02,\n",
      "          1.1467e+02,  1.1584e+02],\n",
      "        [ 0.0000e+00, -1.7893e+00, -3.5785e+00,  ..., -1.7356e+02,\n",
      "         -1.7535e+02, -1.7714e+02]])\n",
      "tensor([[   0.0000,    2.0746,    4.1493,  ...,  201.2398,  203.3145,\n",
      "          205.3891],\n",
      "        [   0.0000,    1.6933,    3.3867,  ...,  164.2527,  165.9460,\n",
      "          167.6394],\n",
      "        [   0.0000,   -0.9483,   -1.8965,  ...,  -91.9814,  -92.9296,\n",
      "          -93.8779],\n",
      "        ...,\n",
      "        [   0.0000,    2.4389,    4.8778,  ...,  236.5718,  239.0107,\n",
      "          241.4496],\n",
      "        [   0.0000,   -1.4988,   -2.9975,  ..., -145.3801, -146.8788,\n",
      "         -148.3776],\n",
      "        [   0.0000,   -2.0483,   -4.0966,  ..., -198.6833, -200.7316,\n",
      "         -202.7798]])\n",
      "tensor([[ 0.0000e+00,  1.6404e+00,  3.2808e+00,  ...,  1.5912e+02,\n",
      "          1.6076e+02,  1.6240e+02],\n",
      "        [ 0.0000e+00, -1.6758e+00, -3.3515e+00,  ..., -1.6255e+02,\n",
      "         -1.6422e+02, -1.6590e+02],\n",
      "        [ 0.0000e+00, -8.1410e-02, -1.6282e-01,  ..., -7.8968e+00,\n",
      "         -7.9782e+00, -8.0596e+00],\n",
      "        ...,\n",
      "        [ 0.0000e+00,  2.2583e+00,  4.5165e+00,  ...,  2.1905e+02,\n",
      "          2.2131e+02,  2.2357e+02],\n",
      "        [ 0.0000e+00, -3.0532e-01, -6.1065e-01,  ..., -2.9616e+01,\n",
      "         -2.9922e+01, -3.0227e+01],\n",
      "        [ 0.0000e+00,  1.9365e+00,  3.8729e+00,  ...,  1.8784e+02,\n",
      "          1.8977e+02,  1.9171e+02]])\n",
      "tensor([[ 0.0000e+00, -1.9156e-01, -3.8312e-01,  ..., -1.8581e+01,\n",
      "         -1.8773e+01, -1.8964e+01],\n",
      "        [ 0.0000e+00, -2.4462e+00, -4.8924e+00,  ..., -2.3728e+02,\n",
      "         -2.3973e+02, -2.4217e+02],\n",
      "        [ 0.0000e+00, -4.8165e-01, -9.6329e-01,  ..., -4.6720e+01,\n",
      "         -4.7201e+01, -4.7683e+01],\n",
      "        ...,\n",
      "        [ 0.0000e+00,  7.8995e-01,  1.5799e+00,  ...,  7.6626e+01,\n",
      "          7.7416e+01,  7.8206e+01],\n",
      "        [ 0.0000e+00, -1.8484e+00, -3.6969e+00,  ..., -1.7930e+02,\n",
      "         -1.8115e+02, -1.8300e+02],\n",
      "        [ 0.0000e+00, -6.2640e-01, -1.2528e+00,  ..., -6.0760e+01,\n",
      "         -6.1387e+01, -6.2013e+01]])\n",
      "tensor([[ 0.0000e+00,  2.9775e-01,  5.9549e-01,  ...,  2.8881e+01,\n",
      "          2.9179e+01,  2.9477e+01],\n",
      "        [ 0.0000e+00,  1.0251e+00,  2.0502e+00,  ...,  9.9433e+01,\n",
      "          1.0046e+02,  1.0148e+02],\n",
      "        [ 0.0000e+00,  1.1058e-01,  2.2116e-01,  ...,  1.0726e+01,\n",
      "          1.0837e+01,  1.0947e+01],\n",
      "        ...,\n",
      "        [ 0.0000e+00, -1.5052e+00, -3.0104e+00,  ..., -1.4601e+02,\n",
      "         -1.4751e+02, -1.4902e+02],\n",
      "        [ 0.0000e+00,  3.0843e+00,  6.1686e+00,  ...,  2.9918e+02,\n",
      "          3.0226e+02,  3.0535e+02],\n",
      "        [ 0.0000e+00, -1.5621e+00, -3.1242e+00,  ..., -1.5152e+02,\n",
      "         -1.5308e+02, -1.5465e+02]])\n",
      "tensor([[   0.0000,    0.9373,    1.8747,  ...,   90.9207,   91.8580,\n",
      "           92.7953],\n",
      "        [   0.0000,   -0.8417,   -1.6835,  ...,  -81.6492,  -82.4909,\n",
      "          -83.3326],\n",
      "        [   0.0000,   -2.5218,   -5.0437,  ..., -244.6190, -247.1408,\n",
      "         -249.6627],\n",
      "        ...,\n",
      "        [   0.0000,    2.8963,    5.7926,  ...,  280.9408,  283.8372,\n",
      "          286.7335],\n",
      "        [   0.0000,   -0.5928,   -1.1855,  ...,  -57.4978,  -58.0906,\n",
      "          -58.6833],\n",
      "        [   0.0000,   -1.6386,   -3.2772,  ..., -158.9456, -160.5842,\n",
      "         -162.2228]])\n",
      "tensor([[   0.0000,    1.0466,    2.0932,  ...,  101.5185,  102.5651,\n",
      "          103.6117],\n",
      "        [   0.0000,   -1.0964,   -2.1928,  ..., -106.3500, -107.4464,\n",
      "         -108.5428],\n",
      "        [   0.0000,   -2.1179,   -4.2357,  ..., -205.4335, -207.5514,\n",
      "         -209.6692],\n",
      "        ...,\n",
      "        [   0.0000,    1.6435,    3.2871,  ...,  159.4228,  161.0664,\n",
      "          162.7099],\n",
      "        [   0.0000,    0.8187,    1.6373,  ...,   79.4111,   80.2297,\n",
      "           81.0484],\n",
      "        [   0.0000,    0.3676,    0.7352,  ...,   35.6552,   36.0228,\n",
      "           36.3904]])\n",
      "tensor([[   0.0000,    2.1915,    4.3829,  ...,  212.5721,  214.7636,\n",
      "          216.9550],\n",
      "        [   0.0000,    2.0885,    4.1769,  ...,  202.5798,  204.6683,\n",
      "          206.7567],\n",
      "        [   0.0000,   -1.5749,   -3.1499,  ..., -152.7678, -154.3428,\n",
      "         -155.9177],\n",
      "        ...,\n",
      "        [   0.0000,    0.3844,    0.7688,  ...,   37.2885,   37.6729,\n",
      "           38.0573],\n",
      "        [   0.0000,    1.5984,    3.1968,  ...,  155.0471,  156.6455,\n",
      "          158.2439],\n",
      "        [   0.0000,   -1.0049,   -2.0099,  ...,  -97.4781,  -98.4830,\n",
      "          -99.4879]])\n",
      "tensor([[ 0.0000e+00,  1.7247e+00,  3.4493e+00,  ...,  1.6729e+02,\n",
      "          1.6902e+02,  1.7074e+02],\n",
      "        [ 0.0000e+00, -1.4063e+00, -2.8127e+00,  ..., -1.3642e+02,\n",
      "         -1.3782e+02, -1.3923e+02],\n",
      "        [ 0.0000e+00, -2.3814e+00, -4.7627e+00,  ..., -2.3099e+02,\n",
      "         -2.3337e+02, -2.3575e+02],\n",
      "        ...,\n",
      "        [ 0.0000e+00,  2.3254e+00,  4.6508e+00,  ...,  2.2556e+02,\n",
      "          2.2789e+02,  2.3021e+02],\n",
      "        [ 0.0000e+00, -9.8069e-02, -1.9614e-01,  ..., -9.5127e+00,\n",
      "         -9.6107e+00, -9.7088e+00],\n",
      "        [ 0.0000e+00, -2.6828e+00, -5.3655e+00,  ..., -2.6023e+02,\n",
      "         -2.6291e+02, -2.6559e+02]])\n",
      "tensor([[   0.0000,    3.0051,    6.0102,  ...,  291.4938,  294.4989,\n",
      "          297.5040],\n",
      "        [   0.0000,    1.3193,    2.6386,  ...,  127.9722,  129.2915,\n",
      "          130.6108],\n",
      "        [   0.0000,    0.4812,    0.9624,  ...,   46.6750,   47.1562,\n",
      "           47.6374],\n",
      "        ...,\n",
      "        [   0.0000,   -1.5533,   -3.1065,  ..., -150.6674, -152.2207,\n",
      "         -153.7739],\n",
      "        [   0.0000,   -2.1328,   -4.2656,  ..., -206.8834, -209.0162,\n",
      "         -211.1490],\n",
      "        [   0.0000,   -1.5485,   -3.0969,  ..., -150.2010, -151.7495,\n",
      "         -153.2979]])\n",
      "tensor([[   0.0000,   -2.5154,   -5.0307,  ..., -243.9894, -246.5048,\n",
      "         -249.0201],\n",
      "        [   0.0000,    2.5122,    5.0243,  ...,  243.6806,  246.1928,\n",
      "          248.7050],\n",
      "        [   0.0000,   -1.6375,   -3.2749,  ..., -158.8350, -160.4724,\n",
      "         -162.1099],\n",
      "        ...,\n",
      "        [   0.0000,   -0.6291,   -1.2583,  ...,  -61.0275,  -61.6567,\n",
      "          -62.2858],\n",
      "        [   0.0000,    3.0202,    6.0404,  ...,  292.9589,  295.9791,\n",
      "          298.9993],\n",
      "        [   0.0000,   -2.8531,   -5.7062,  ..., -276.7522, -279.6053,\n",
      "         -282.4584]])\n",
      "tensor([[ 0.0000e+00,  2.2345e+00,  4.4689e+00,  ...,  2.1674e+02,\n",
      "          2.1898e+02,  2.2121e+02],\n",
      "        [ 0.0000e+00,  1.9445e-01,  3.8891e-01,  ...,  1.8862e+01,\n",
      "          1.9056e+01,  1.9251e+01],\n",
      "        [ 0.0000e+00, -5.6917e-01, -1.1383e+00,  ..., -5.5210e+01,\n",
      "         -5.5779e+01, -5.6348e+01],\n",
      "        ...,\n",
      "        [ 0.0000e+00,  2.0783e+00,  4.1566e+00,  ...,  2.0160e+02,\n",
      "          2.0367e+02,  2.0575e+02],\n",
      "        [ 0.0000e+00, -9.5181e-01, -1.9036e+00,  ..., -9.2325e+01,\n",
      "         -9.3277e+01, -9.4229e+01],\n",
      "        [ 0.0000e+00, -2.8836e+00, -5.7671e+00,  ..., -2.7971e+02,\n",
      "         -2.8259e+02, -2.8547e+02]])\n",
      "tensor([[ 0.0000e+00,  8.2282e-01,  1.6456e+00,  ...,  7.9814e+01,\n",
      "          8.0637e+01,  8.1459e+01],\n",
      "        [ 0.0000e+00, -1.0750e-01, -2.1500e-01,  ..., -1.0427e+01,\n",
      "         -1.0535e+01, -1.0642e+01],\n",
      "        [ 0.0000e+00,  1.1259e+00,  2.2519e+00,  ...,  1.0922e+02,\n",
      "          1.1034e+02,  1.1147e+02],\n",
      "        ...,\n",
      "        [ 0.0000e+00,  1.8549e+00,  3.7099e+00,  ...,  1.7993e+02,\n",
      "          1.8178e+02,  1.8364e+02],\n",
      "        [ 0.0000e+00, -1.5824e-01, -3.1649e-01,  ..., -1.5350e+01,\n",
      "         -1.5508e+01, -1.5666e+01],\n",
      "        [ 0.0000e+00, -2.1671e+00, -4.3342e+00,  ..., -2.1021e+02,\n",
      "         -2.1238e+02, -2.1454e+02]])\n",
      "tensor([[ 0.0000e+00, -9.8652e-01, -1.9730e+00,  ..., -9.5693e+01,\n",
      "         -9.6679e+01, -9.7666e+01],\n",
      "        [ 0.0000e+00, -1.7951e+00, -3.5903e+00,  ..., -1.7413e+02,\n",
      "         -1.7592e+02, -1.7772e+02],\n",
      "        [ 0.0000e+00, -1.7037e-01, -3.4075e-01,  ..., -1.6526e+01,\n",
      "         -1.6697e+01, -1.6867e+01],\n",
      "        ...,\n",
      "        [ 0.0000e+00,  2.5014e+00,  5.0028e+00,  ...,  2.4263e+02,\n",
      "          2.4513e+02,  2.4764e+02],\n",
      "        [ 0.0000e+00,  1.5171e+00,  3.0342e+00,  ...,  1.4716e+02,\n",
      "          1.4868e+02,  1.5019e+02],\n",
      "        [ 0.0000e+00,  2.2023e+00,  4.4047e+00,  ...,  2.1363e+02,\n",
      "          2.1583e+02,  2.1803e+02]])\n",
      "tensor([[  0.0000,  -0.5858,  -1.1715,  ..., -56.8192, -57.4049, -57.9907],\n",
      "        [  0.0000,  -0.3344,  -0.6689,  ..., -32.4395, -32.7739, -33.1084],\n",
      "        [  0.0000,   1.9818,   3.9635,  ..., 192.2302, 194.2120, 196.1937],\n",
      "        ...,\n",
      "        [  0.0000,   2.5275,   5.0550,  ..., 245.1660, 247.6935, 250.2210],\n",
      "        [  0.0000,   2.1351,   4.2702,  ..., 207.1049, 209.2400, 211.3751],\n",
      "        [  0.0000,  -0.4680,  -0.9360,  ..., -45.3961, -45.8641, -46.3321]])\n",
      "tensor([[   0.0000,   -3.1099,   -6.2198,  ..., -301.6609, -304.7708,\n",
      "         -307.8807],\n",
      "        [   0.0000,    2.5743,    5.1485,  ...,  249.7035,  252.2778,\n",
      "          254.8521],\n",
      "        [   0.0000,    1.7062,    3.4124,  ...,  165.4993,  167.2055,\n",
      "          168.9117],\n",
      "        ...,\n",
      "        [   0.0000,   -2.0416,   -4.0832,  ..., -198.0351, -200.0767,\n",
      "         -202.1183],\n",
      "        [   0.0000,   -0.3612,   -0.7224,  ...,  -35.0371,  -35.3983,\n",
      "          -35.7595],\n",
      "        [   0.0000,   -1.4428,   -2.8856,  ..., -139.9509, -141.3937,\n",
      "         -142.8365]])\n",
      "tensor([[   0.0000,    0.2975,    0.5950,  ...,   28.8583,   29.1558,\n",
      "           29.4533],\n",
      "        [   0.0000,   -2.1627,   -4.3254,  ..., -209.7806, -211.9433,\n",
      "         -214.1060],\n",
      "        [   0.0000,   -1.0955,   -2.1910,  ..., -106.2644, -107.3599,\n",
      "         -108.4554],\n",
      "        ...,\n",
      "        [   0.0000,    1.9401,    3.8802,  ...,  188.1880,  190.1281,\n",
      "          192.0682],\n",
      "        [   0.0000,   -2.1364,   -4.2728,  ..., -207.2294, -209.3658,\n",
      "         -211.5022],\n",
      "        [   0.0000,   -1.2232,   -2.4463,  ..., -118.6459, -119.8691,\n",
      "         -121.0922]])\n",
      "tensor([[ 0.0000e+00, -1.9366e+00, -3.8731e+00,  ..., -1.8785e+02,\n",
      "         -1.8978e+02, -1.9172e+02],\n",
      "        [ 0.0000e+00, -1.3753e-01, -2.7507e-01,  ..., -1.3341e+01,\n",
      "         -1.3478e+01, -1.3616e+01],\n",
      "        [ 0.0000e+00, -4.4557e-02, -8.9114e-02,  ..., -4.3220e+00,\n",
      "         -4.3666e+00, -4.4111e+00],\n",
      "        ...,\n",
      "        [ 0.0000e+00,  7.6866e-01,  1.5373e+00,  ...,  7.4560e+01,\n",
      "          7.5328e+01,  7.6097e+01],\n",
      "        [ 0.0000e+00, -1.4686e+00, -2.9371e+00,  ..., -1.4245e+02,\n",
      "         -1.4392e+02, -1.4539e+02],\n",
      "        [ 0.0000e+00,  1.6227e-01,  3.2455e-01,  ...,  1.5741e+01,\n",
      "          1.5903e+01,  1.6065e+01]])\n",
      "tensor([[   0.0000,    2.7777,    5.5555,  ...,  269.4408,  272.2185,\n",
      "          274.9962],\n",
      "        [   0.0000,   -0.9824,   -1.9647,  ...,  -95.2898,  -96.2722,\n",
      "          -97.2545],\n",
      "        [   0.0000,   -1.3665,   -2.7329,  ..., -132.5481, -133.9146,\n",
      "         -135.2810],\n",
      "        ...,\n",
      "        [   0.0000,    0.3510,    0.7019,  ...,   34.0422,   34.3931,\n",
      "           34.7441],\n",
      "        [   0.0000,   -0.5430,   -1.0859,  ...,  -52.6677,  -53.2107,\n",
      "          -53.7536],\n",
      "        [   0.0000,    2.3776,    4.7552,  ...,  230.6270,  233.0046,\n",
      "          235.3822]])\n",
      "tensor([[ 0.0000e+00, -2.5764e+00, -5.1528e+00,  ..., -2.4991e+02,\n",
      "         -2.5249e+02, -2.5506e+02],\n",
      "        [ 0.0000e+00,  1.4939e-01,  2.9877e-01,  ...,  1.4490e+01,\n",
      "          1.4640e+01,  1.4789e+01],\n",
      "        [ 0.0000e+00,  9.9814e-01,  1.9963e+00,  ...,  9.6820e+01,\n",
      "          9.7818e+01,  9.8816e+01],\n",
      "        ...,\n",
      "        [ 0.0000e+00,  2.9707e+00,  5.9414e+00,  ...,  2.8816e+02,\n",
      "          2.9113e+02,  2.9410e+02],\n",
      "        [ 0.0000e+00, -2.1518e+00, -4.3037e+00,  ..., -2.0873e+02,\n",
      "         -2.1088e+02, -2.1303e+02],\n",
      "        [ 0.0000e+00,  9.7987e-01,  1.9597e+00,  ...,  9.5048e+01,\n",
      "          9.6027e+01,  9.7007e+01]])\n",
      "tensor([[  0.0000,   2.1310,   4.2619,  ..., 206.7030, 208.8340, 210.9650],\n",
      "        [  0.0000,   2.6981,   5.3961,  ..., 261.7130, 264.4110, 267.1091],\n",
      "        [  0.0000,  -0.6062,  -1.2125,  ..., -58.8048, -59.4110, -60.0173],\n",
      "        ...,\n",
      "        [  0.0000,   1.2772,   2.5544,  ..., 123.8905, 125.1677, 126.4450],\n",
      "        [  0.0000,   0.3303,   0.6605,  ...,  32.0360,  32.3663,  32.6965],\n",
      "        [  0.0000,   0.6442,   1.2884,  ...,  62.4859,  63.1301,  63.7742]])\n",
      "tensor([[   0.0000,   -1.4781,   -2.9563,  ..., -143.3795, -144.8577,\n",
      "         -146.3358],\n",
      "        [   0.0000,   -2.4557,   -4.9114,  ..., -238.2006, -240.6563,\n",
      "         -243.1120],\n",
      "        [   0.0000,    1.6498,    3.2995,  ...,  160.0270,  161.6768,\n",
      "          163.3265],\n",
      "        ...,\n",
      "        [   0.0000,   -2.3580,   -4.7161,  ..., -228.7308, -231.0888,\n",
      "         -233.4469],\n",
      "        [   0.0000,    0.5725,    1.1449,  ...,   55.5278,   56.1002,\n",
      "           56.6727],\n",
      "        [   0.0000,    2.2442,    4.4885,  ...,  217.6915,  219.9357,\n",
      "          222.1800]])\n",
      "tensor([[   0.0000,   -0.9217,   -1.8435,  ...,  -89.4080,  -90.3298,\n",
      "          -91.2515],\n",
      "        [   0.0000,    1.4522,    2.9044,  ...,  140.8612,  142.3134,\n",
      "          143.7656],\n",
      "        [   0.0000,   -1.8325,   -3.6651,  ..., -177.7552, -179.5878,\n",
      "         -181.4203],\n",
      "        ...,\n",
      "        [   0.0000,   -2.8937,   -5.7874,  ..., -280.6909, -283.5847,\n",
      "         -286.4784],\n",
      "        [   0.0000,   -0.5252,   -1.0503,  ...,  -50.9401,  -51.4652,\n",
      "          -51.9904],\n",
      "        [   0.0000,    0.3047,    0.6094,  ...,   29.5559,   29.8606,\n",
      "           30.1653]])\n",
      "tensor([[ 0.0000e+00,  1.1116e+00,  2.2231e+00,  ...,  1.0782e+02,\n",
      "          1.0893e+02,  1.1004e+02],\n",
      "        [ 0.0000e+00,  1.3063e-01,  2.6127e-01,  ...,  1.2671e+01,\n",
      "          1.2802e+01,  1.2933e+01],\n",
      "        [ 0.0000e+00,  1.7267e+00,  3.4534e+00,  ...,  1.6749e+02,\n",
      "          1.6922e+02,  1.7094e+02],\n",
      "        ...,\n",
      "        [ 0.0000e+00, -3.0311e+00, -6.0623e+00,  ..., -2.9402e+02,\n",
      "         -2.9705e+02, -3.0008e+02],\n",
      "        [ 0.0000e+00, -6.1550e-01, -1.2310e+00,  ..., -5.9704e+01,\n",
      "         -6.0319e+01, -6.0935e+01],\n",
      "        [ 0.0000e+00,  9.0969e-01,  1.8194e+00,  ...,  8.8240e+01,\n",
      "          8.9150e+01,  9.0059e+01]])\n",
      "tensor([[   0.0000,    2.9632,    5.9264,  ...,  287.4320,  290.3952,\n",
      "          293.3584],\n",
      "        [   0.0000,   -1.3837,   -2.7673,  ..., -134.2157, -135.5994,\n",
      "         -136.9830],\n",
      "        [   0.0000,    0.9789,    1.9578,  ...,   94.9541,   95.9330,\n",
      "           96.9119],\n",
      "        ...,\n",
      "        [   0.0000,    0.6386,    1.2772,  ...,   61.9460,   62.5846,\n",
      "           63.2232],\n",
      "        [   0.0000,   -2.6302,   -5.2604,  ..., -255.1299, -257.7601,\n",
      "         -260.3903],\n",
      "        [   0.0000,    0.7088,    1.4176,  ...,   68.7538,   69.4626,\n",
      "           70.1714]])\n",
      "tensor([[   0.0000,    1.7294,    3.4587,  ...,  167.7493,  169.4787,\n",
      "          171.2080],\n",
      "        [   0.0000,   -1.5500,   -3.1000,  ..., -150.3504, -151.9004,\n",
      "         -153.4504],\n",
      "        [   0.0000,   -2.1917,   -4.3834,  ..., -212.5944, -214.7861,\n",
      "         -216.9778],\n",
      "        ...,\n",
      "        [   0.0000,   -1.2234,   -2.4469,  ..., -118.6734, -119.8968,\n",
      "         -121.1203],\n",
      "        [   0.0000,    1.0632,    2.1264,  ...,  103.1290,  104.1922,\n",
      "          105.2554],\n",
      "        [   0.0000,    1.1229,    2.2458,  ...,  108.9234,  110.0464,\n",
      "          111.1693]])\n",
      "tensor([[   0.0000,   -0.9129,   -1.8257,  ...,  -88.5485,  -89.4614,\n",
      "          -90.3743],\n",
      "        [   0.0000,   -0.8389,   -1.6777,  ...,  -81.3690,  -82.2079,\n",
      "          -83.0467],\n",
      "        [   0.0000,   -1.9898,   -3.9796,  ..., -193.0095, -194.9993,\n",
      "         -196.9891],\n",
      "        ...,\n",
      "        [   0.0000,    1.2951,    2.5902,  ...,  125.6235,  126.9186,\n",
      "          128.2137],\n",
      "        [   0.0000,   -2.6719,   -5.3439,  ..., -259.1789, -261.8509,\n",
      "         -264.5228],\n",
      "        [   0.0000,    1.1243,    2.2486,  ...,  109.0566,  110.1809,\n",
      "          111.3052]])\n",
      "tensor([[ 0.0000e+00, -2.4293e+00, -4.8585e+00,  ..., -2.3564e+02,\n",
      "         -2.3807e+02, -2.4050e+02],\n",
      "        [ 0.0000e+00,  5.0824e-01,  1.0165e+00,  ...,  4.9299e+01,\n",
      "          4.9807e+01,  5.0316e+01],\n",
      "        [ 0.0000e+00,  2.8924e-02,  5.7847e-02,  ...,  2.8056e+00,\n",
      "          2.8345e+00,  2.8634e+00],\n",
      "        ...,\n",
      "        [ 0.0000e+00,  2.0649e+00,  4.1298e+00,  ...,  2.0030e+02,\n",
      "          2.0236e+02,  2.0443e+02],\n",
      "        [ 0.0000e+00, -4.1050e-01, -8.2100e-01,  ..., -3.9819e+01,\n",
      "         -4.0229e+01, -4.0640e+01],\n",
      "        [ 0.0000e+00, -2.1055e+00, -4.2110e+00,  ..., -2.0424e+02,\n",
      "         -2.0634e+02, -2.0845e+02]])\n",
      "tensor([[   0.0000,    1.7878,    3.5755,  ...,  173.4120,  175.1998,\n",
      "          176.9875],\n",
      "        [   0.0000,   -2.6449,   -5.2897,  ..., -256.5512, -259.1961,\n",
      "         -261.8409],\n",
      "        [   0.0000,    0.6242,    1.2483,  ...,   60.5434,   61.1675,\n",
      "           61.7917],\n",
      "        ...,\n",
      "        [   0.0000,   -2.7771,   -5.5541,  ..., -269.3747, -272.1518,\n",
      "         -274.9288],\n",
      "        [   0.0000,   -1.7149,   -3.4298,  ..., -166.3473, -168.0622,\n",
      "         -169.7771],\n",
      "        [   0.0000,   -1.0916,   -2.1832,  ..., -105.8833, -106.9749,\n",
      "         -108.0664]])\n"
     ]
    }
   ],
   "source": [
    "k_points= 100\n",
    "n_time_points= 10\n",
    "ts_start= 100\n",
    "n_points = 20000\n",
    "box_size = 10.08\n",
    "time_arr = np.linspace(0, 100, 1000)\n",
    "\n",
    "# tk_arr = np.pi*((2*torch.range(1,k_points)+1)/(box_size))\n",
    "tk_arr = torch.linspace(0, 100, k_points) * 2.*np.pi / box_size\n",
    "\n",
    "tkx_arr = torch.vstack([tk_arr, torch.zeros(k_points), torch.zeros(k_points)]).T.to(\n",
    "    device\n",
    ")\n",
    "tky_arr = torch.vstack([torch.zeros(k_points), tk_arr, torch.zeros(k_points)]).T.to(\n",
    "    device\n",
    ")\n",
    "tkz_arr = torch.vstack([torch.zeros(k_points), torch.zeros(k_points), tk_arr]).T.to(\n",
    "    device\n",
    ")\n",
    "# Randomly distribute 8000 points in a box 1.08 x 1.08 x 1.08\n",
    "\n",
    "\n",
    "# Generate 8000 random points in a box of size 1.08 x 1.08 x 1.08\n",
    "tcom_arr = (torch.rand(n_points, 3,1000).to(device) - .5)*box_size\n",
    "\n",
    "time_step = (len(time_arr) - ts_start) // n_time_points\n",
    "\n",
    "# Full Q-tensor structure factor\n",
    "# timer.milestone()\n",
    "Sx_time_arr = torch.zeros((k_points, n_time_points)).to(device)\n",
    "Sy_time_arr = torch.zeros((k_points, n_time_points)).to(device)\n",
    "Sz_time_arr = torch.zeros((k_points, n_time_points)).to(device)\n",
    "\n",
    "for i in range(n_time_points):\n",
    "    time_ind = ts_start + i * time_step\n",
    "    tcom = tcom_arr[:, :, time_ind]\n",
    "\n",
    "    # tQ_arr = aa.nematic_order.make_nematic_tensor_arr(tdir, device)\n",
    "    # tQ_arr = torch.complex(tQ_arr, torch.zeros_like(tQ_arr))\n",
    "\n",
    "    Sx_time_arr[:, i] = aa.nematic_order.make_structure_factor(\n",
    "         tcom, tkx_arr, device=device\n",
    "    )\n",
    "    Sy_time_arr[:, i] = aa.nematic_order.make_structure_factor(\n",
    "        tcom, tky_arr, device=device\n",
    "    )\n",
    "    Sz_time_arr[:, i] = aa.nematic_order.make_structure_factor(\n",
    "        tcom, tkz_arr, device=device\n",
    "    )"
   ]
  },
  {
   "cell_type": "code",
   "execution_count": 57,
   "id": "73a73f15",
   "metadata": {},
   "outputs": [
    {
     "data": {
      "text/plain": [
       "tensor(-8.2799e-05)"
      ]
     },
     "execution_count": 57,
     "metadata": {},
     "output_type": "execute_result"
    },
    {
     "data": {
      "text/plain": [
       "tensor(-8.1442e-05)"
      ]
     },
     "execution_count": 57,
     "metadata": {},
     "output_type": "execute_result"
    },
    {
     "name": "stdout",
     "output_type": "stream",
     "text": [
      "tensor([ 9.9990e-01,  9.2080e-05,  6.2533e-05, -2.7684e-06,  6.8814e-05,\n",
      "         1.7810e-05,  6.1189e-05,  6.1685e-05,  4.5411e-05,  1.9430e-05,\n",
      "         1.1553e-05,  3.0220e-05,  1.3867e-04, -3.1361e-05,  4.3531e-05,\n",
      "         1.2893e-05,  1.2114e-04,  9.6769e-05,  2.3235e-06,  6.2579e-05,\n",
      "        -1.0714e-06, -4.6428e-06,  5.9682e-06,  2.2952e-05,  7.5876e-05,\n",
      "         2.7689e-05, -3.4037e-05,  5.6364e-05, -1.7086e-05,  1.3685e-05,\n",
      "         9.6447e-06, -7.6561e-06,  5.5998e-05,  3.0840e-05, -1.1800e-05,\n",
      "         3.0410e-06,  6.1911e-05, -7.6406e-06,  3.6652e-06,  5.3515e-06,\n",
      "         2.1895e-05, -2.6226e-05, -3.2512e-05, -1.6372e-05, -2.3884e-05,\n",
      "         1.3238e-05, -1.5442e-05,  1.2039e-05,  7.4908e-06,  4.0184e-05,\n",
      "        -2.4216e-05, -5.1416e-05, -4.9555e-05, -4.5371e-05, -2.5415e-05,\n",
      "        -1.3219e-05, -3.7192e-05, -1.8278e-05, -3.3488e-05, -3.7281e-05,\n",
      "        -2.3470e-05, -3.4699e-05,  1.3568e-05, -1.4481e-05, -2.0983e-05,\n",
      "        -3.5554e-05, -2.5430e-05, -5.6676e-05, -1.1385e-06, -4.5100e-05,\n",
      "        -4.7102e-05, -4.0527e-05, -3.5321e-05, -3.2417e-05, -7.0214e-05,\n",
      "        -2.6620e-05, -4.0434e-05, -4.8432e-05, -5.0880e-05, -4.8995e-05,\n",
      "        -4.0984e-05, -3.7742e-05, -6.7530e-05, -6.3866e-05, -1.5654e-05,\n",
      "        -3.6563e-05, -5.9858e-05, -5.9956e-05, -3.7558e-05, -5.2027e-05,\n",
      "        -8.2799e-05, -6.4836e-05, -6.1701e-05, -4.4960e-05, -5.6638e-05,\n",
      "        -3.2303e-05, -5.4580e-05, -7.8158e-05, -5.9011e-05, -4.8874e-05])\n"
     ]
    },
    {
     "name": "stderr",
     "output_type": "stream",
     "text": [
      "/var/folders/st/fgw_z95d55x71m603j17ld300000gr/T/ipykernel_61641/131504020.py:26: UserWarning: Attempt to set non-positive xlim on a log-scaled axis will be ignored.\n",
      "  _ = axarr.set_xlim(0, 2)\n"
     ]
    },
    {
     "data": {
      "image/png": "[encoded data removed]",
      "text/plain": [
       "<Figure size 800x600 with 1 Axes>"
      ]
     },
     "metadata": {},
     "output_type": "display_data"
    }
   ],
   "source": [
    "fig, axarr = plt.subplots(1,1, figsize=(8, 6))\n",
    "\n",
    "\n",
    "_ = axarr.loglog(tk_arr, Sx_time_arr.mean(dim=1).cpu(), label=\"$ S_x$\")\n",
    "_ = axarr.loglog(tk_arr, Sz_time_arr.mean(dim=1).cpu(), label=\"$ S_z$\")\n",
    "\n",
    "min(Sx_time_arr.mean(dim=1).cpu())\n",
    "min(Sz_time_arr.mean(dim=1).cpu())\n",
    "\n",
    "print(Sx_time_arr.mean(dim=1).cpu())\n",
    "\n",
    "_ = axarr.loglog(\n",
    "    tk_arr,\n",
    "     (1./ ((tk_arr) ** 2)),\n",
    "    label=\"$1/k^2$\",\n",
    "    linestyle=\"--\",\n",
    ")\n",
    "\n",
    "_ = axarr.loglog(\n",
    "    tk_arr,\n",
    "     (torch.sin(tk_arr)**2 / ((tk_arr) ** 2)),\n",
    "    label=\"$sinc^2(k)$\",\n",
    "    linestyle=\"--\",\n",
    ")\n",
    "\n",
    "_ = axarr.set_xlim(0, 2)\n",
    "# _ = axarr.set_ylim(0.0001, 1)\n",
    "\n",
    "# _ = axarr.set_xscale(\"linear\")\n",
    "# _ = axarr.set_yscale(\"linear\")\n",
    "_ = axarr.set_xlabel(\"k [μm$^{-1}$]\")\n",
    "_ = axarr.set_ylabel(\"S(k)\")\n",
    "_ = axarr.legend()"
   ]
  },
  {
   "attachments": {},
   "cell_type": "markdown",
   "id": "98b9a5a4",
   "metadata": {},
   "source": []
  },
  {
   "cell_type": "markdown",
   "id": "575309ec",
   "metadata": {},
   "source": []
  }
 ],
 "metadata": {
  "kernelspec": {
   "display_name": "Python (alens_analysis)",
   "language": "python",
   "name": "alens_analysis"
  },
  "language_info": {
   "codemirror_mode": {
    "name": "ipython",
    "version": 3
   },
   "file_extension": ".py",
   "mimetype": "text/x-python",
   "name": "python",
   "nbconvert_exporter": "python",
   "pygments_lexer": "ipython3",
   "version": "3.11.3"
  }
 },
 "nbformat": 4,
 "nbformat_minor": 5
}
