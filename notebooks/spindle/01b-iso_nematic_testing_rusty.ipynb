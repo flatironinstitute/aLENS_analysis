{
 "cells": [
  {
   "attachments": {},
   "cell_type": "markdown",
   "id": "3bfde5a6",
   "metadata": {},
   "source": [
    "# Imports\n",
    "Import libraries and write settings here."
   ]
  },
  {
   "cell_type": "code",
   "execution_count": 13,
   "id": "0a59c077",
   "metadata": {
    "ExecuteTime": {
     "end_time": "2022-02-24T18:14:40.055005Z",
     "start_time": "2022-02-24T18:14:36.992644Z"
    }
   },
   "outputs": [
    {
     "data": {
      "text/html": [
       "<style>.container { width:80% !important; }</style>"
      ],
      "text/plain": [
       "<IPython.core.display.HTML object>"
      ]
     },
     "metadata": {},
     "output_type": "display_data"
    },
    {
     "data": {
      "text/plain": [
       "'1.13.0'"
      ]
     },
     "execution_count": 13,
     "metadata": {},
     "output_type": "execute_result"
    },
    {
     "name": "stdout",
     "output_type": "stream",
     "text": [
      "torch device: cuda\n"
     ]
    }
   ],
   "source": [
    "# Notebooks specific imports ########################################\n",
    "from IPython import get_ipython\n",
    "ipython = get_ipython()\n",
    "#Expand notebook display\n",
    "from IPython.display import display, HTML\n",
    "display(HTML(\"<style>.container { width:80% !important; }</style>\"))\n",
    "# Display all cell outputs\n",
    "from IPython.core.interactiveshell import InteractiveShell\n",
    "InteractiveShell.ast_node_interactivity = 'all'\n",
    "# autoreload extension\n",
    "if 'autoreload' not in ipython.extension_manager.loaded:\n",
    "    %load_ext autoreload\n",
    "%autoreload 2\n",
    "from tqdm.notebook import tqdm\n",
    "# End notebooks specific imports ####################################\n",
    "\n",
    "# Basic useful imports\n",
    "import yaml\n",
    "from pathlib import Path\n",
    "from pprint import pprint\n",
    "import h5py\n",
    "\n",
    "# Data manipulation\n",
    "import numpy as np\n",
    "from scipy.spatial import cKDTree\n",
    "\n",
    "# Visualization\n",
    "import matplotlib as mpl\n",
    "import matplotlib.pyplot as plt\n",
    "\n",
    "# From alens_analysis\n",
    "import alens_analysis as aa\n",
    "import alens_analysis.chromatin as aac\n",
    "\n",
    "import torch\n",
    "torch.__version__\n",
    "device = torch.device(\"cuda\" if torch.cuda.is_available() else \"cpu\")\n",
    "print(f'torch device: {device}')\n",
    "\n",
    "# Locations\n",
    "alens_data_path = Path.home() / 'ceph/DATA/Motor_Inference/IsoNemTesting'\n",
    "\n",
    "graph_sty = {\n",
    "    \"axes.titlesize\": 20,\n",
    "    \"axes.labelsize\": 24,\n",
    "    \"lines.linewidth\": 2,\n",
    "    \"lines.markersize\": 2,\n",
    "    \"xtick.labelsize\": 24,\n",
    "    \"ytick.labelsize\": 24,\n",
    "    \"font.size\": 20,\n",
    "    \"font.sans-serif\": 'Helvetica',\n",
    "    \"text.usetex\": False,\n",
    "    'mathtext.fontset': 'cm',\n",
    "}\n",
    "plt.style.use(graph_sty)\n",
    "        "
   ]
  },
  {
   "cell_type": "code",
   "execution_count": null,
   "id": "37144a1f",
   "metadata": {},
   "outputs": [],
   "source": [
    "from scipy.spatial.transform import Rotation as R\n",
    "\n",
    "def rotation_matrix_from_vectors(vec1, vec2):\n",
    "    \"\"\" Find the rotation matrix that aligns vec1 to vec2\n",
    "    :param vec1: A 3d \"source\" vector\n",
    "    :param vec2: A 3d \"destination\" vector\n",
    "    :return mat: A transform matrix (3x3) which when applied to vec1, aligns it with vec2.\n",
    "    \"\"\"\n",
    "    # Normalize vectors\n",
    "    vec1 = vec1 / np.linalg.norm(vec1)\n",
    "    vec2 = vec2 / np.linalg.norm(vec2)\n",
    "\n",
    "    # Compute the cross product and dot product\n",
    "    cross_prod = np.cross(vec1, vec2)\n",
    "    dot_prod = np.dot(vec1, vec2)\n",
    "\n",
    "    # Compute the rotation angle\n",
    "    angle = np.arccos(dot_prod)\n",
    "\n",
    "    # Compute the rotation axis\n",
    "    axis = cross_prod / np.linalg.norm(cross_prod)\n",
    "\n",
    "    # Use scipy to compute the rotation matrix\n",
    "    rotation_vector = axis * angle\n",
    "    rotation = R.from_rotvec(rotation_vector)\n",
    "    rotation_matrix = rotation.as_matrix()\n",
    "\n",
    "    return rotation_matrix\n",
    "\n",
    "def filter_ghost_particles(com_arr, n_arr):\n",
    "    ghost_vec = np.array([0,0,0])\n",
    "    mask = np.all(com_arr[:,:] == ghost_vec, axis=1)\n",
    "    return com_arr[~mask], n_arr[~mask]\n",
    "\n",
    "def zrho_corr_new(n_arr, com_arr, time=None, distance=1.0, boxsize=None):  \n",
    "    if time is None:\n",
    "        positions, normals = filter_ghost_particles(com_arr, n_arr)\n",
    "        # normal vector of segments, centerpoints, time and cutoff distcnce\n",
    "    else:\n",
    "        positions, normals = filter_ghost_particles(com_arr[:,:,time], n_arr[:,:,time])\n",
    "    print(positions.shape)\n",
    "    tree = cKDTree(positions, boxsize=boxsize)\n",
    "    # pairs = tree.query_ball_tree(tree, r=distance)\n",
    "    # for pair in pairs:\n",
    "    #     print(len(pair))\n",
    "    \n",
    "    zpos = []\n",
    "    rhopos = []\n",
    "    zvec = np.array([0,0,1])\n",
    "    rot_neigh_pos_list = []\n",
    "    for cur_seg, pos in enumerate(positions):\n",
    "        neighbor_inds = tree.query_ball_point(pos, r=distance)\n",
    "        print(neighbor_inds)\n",
    "        n_vec = normals[cur_seg,:] # Normal vector of current segment\n",
    "        # neighbor_inds.remove(cur_seg) # Don't count self distances\n",
    "        neigh_pos = positions[neighbor_inds,:] - positions[cur_seg,:]\n",
    "\n",
    "        # Rotation matrix that transforms current segments orientation to zvec\n",
    "        rot_mat = rotation_matrix_from_vectors(n_vec, zvec)\n",
    "        # Rotate all neighbors to align with current zvec\n",
    "        rot_neigh_pos_list += [np.einsum('ij,kj->ki', rot_mat, neigh_pos)]\n",
    "\n",
    "    rot_neigh_pos_arr = np.vstack(rot_neigh_pos_list)\n",
    "    rhopos = np.linalg.norm(rot_neigh_pos_arr[:,:2], axis=1)\n",
    "    zpos = rot_neigh_pos_arr[:,2]\n",
    "    return zpos, rhopos "
   ]
  },
  {
   "cell_type": "code",
   "execution_count": 3,
   "id": "f3e36123",
   "metadata": {},
   "outputs": [
    {
     "name": "stdout",
     "output_type": "stream",
     "text": [
      "###### RunConfig dictionary ########\n"
     ]
    },
    {
     "data": {
      "text/plain": [
       "True"
      ]
     },
     "execution_count": 3,
     "metadata": {},
     "output_type": "execute_result"
    },
    {
     "name": "stdout",
     "output_type": "stream",
     "text": [
      "{'KBT': 0.00411,\n",
      " 'boundaries': None,\n",
      " 'conMaxIte': 100000,\n",
      " 'conResTol': '1e-5',\n",
      " 'conSolverChoice': 0,\n",
      " 'dt': 1e-05,\n",
      " 'initBoxHigh': [0.58, 0.58, 0.58],\n",
      " 'initBoxLow': [-0.58, -0.58, -0.58],\n",
      " 'initCircularX': False,\n",
      " 'initOrient': [0, 0, 2],\n",
      " 'initPreSteps': 100,\n",
      " 'linkKappa': 1000.0,\n",
      " 'logLevel': 3,\n",
      " 'monolayer': False,\n",
      " 'rngSeed': 1234,\n",
      " 'simBoxHigh': [0.58, 0.58, 0.58],\n",
      " 'simBoxLow': [-0.58, -0.58, -0.58],\n",
      " 'simBoxPBC': [True, True, True],\n",
      " 'sylinderColBuf': 0.025,\n",
      " 'sylinderDiameter': 0.025,\n",
      " 'sylinderDiameterColRatio': 1.0,\n",
      " 'sylinderFixed': False,\n",
      " 'sylinderLength': 0.125,\n",
      " 'sylinderLengthColRatio': 1.0,\n",
      " 'sylinderLengthSigma': 0,\n",
      " 'sylinderNumber': 8000,\n",
      " 'timeSnap': 0.01,\n",
      " 'timeTotal': 10.0,\n",
      " 'timerLevel': 3,\n",
      " 'viscosity': 0.01}\n",
      " The viscosity of the fluid is 0.01 pN s/um^2\n"
     ]
    }
   ],
   "source": [
    "print( \"###### RunConfig dictionary ########\")\n",
    "# Load in the yaml dictionary\n",
    "data_path= alens_data_path / 'NemN8000ld5rho.4dte-5/simulations/dt1e-05'\n",
    "data_path.exists()\n",
    "run_config_str = (data_path / 'RunConfig.yaml')\n",
    "param_dict = yaml.load(run_config_str.open(), Loader=yaml.FullLoader)  \n",
    "pprint(param_dict)\n",
    "print(\" The viscosity of the fluid is\", param_dict['viscosity'], \"pN s/um^2\")"
   ]
  },
  {
   "attachments": {},
   "cell_type": "markdown",
   "id": "dc791024",
   "metadata": {},
   "source": [
    "## Nematic order testing"
   ]
  },
  {
   "cell_type": "code",
   "execution_count": 4,
   "id": "eef8488a",
   "metadata": {},
   "outputs": [],
   "source": [
    "opts = lambda: None \n",
    "opts.path = alens_data_path / 'NemN8000ld5rho.4dte-5/simulations/dt1e-05' # Notice the different path\n",
    "opts.analysis = 'collect'\n",
    "opts.analysis_dir = opts.path / 'analysis'\n",
    "opts.analysis_dir.mkdir(exist_ok=True)\n",
    "\n",
    "#aa.seed_analysis(opts)\n"
   ]
  },
  {
   "attachments": {},
   "cell_type": "markdown",
   "id": "640c892c",
   "metadata": {},
   "source": [
    "Now we wish to calculate how aligned all the filaments are over time. This is known as the nematic order and is the largest eigenvalue from the nematic order tensor \n",
    "$$Q_{\\alpha\\beta} = \\frac{1}{N}\\sum_{i=1}^N \\left( \\hat{u}_{i\\alpha}\\hat{u}_{i\\beta} - \\frac{1}{d}\\delta_{\\alpha\\beta} \\right)$$\n",
    "where $\\hat{u}_i$ is the unit vector along the filament $i$, $N$ is the number of filaments, and $d\\in \\{2,3\\}$ is the number of spatial dimension of the system. aLENS analysis provides a function `calc_nematic_order` function to do just this.\n",
    "However, because we are in a periodic box and _aLENS_ only keeps track of the tips of the filaments, we need to correct data for the periodic boundary conditions.  Luckily, aLENS analysis also provides the function `apply_pbc_to_raw_syl_data` in the helpers modules. This function takes in the raw data and the parameters of the simulation and returns the corrected data. "
   ]
  },
  {
   "cell_type": "code",
   "execution_count": 5,
   "id": "7c8d0c16",
   "metadata": {},
   "outputs": [
    {
     "name": "stdout",
     "output_type": "stream",
     "text": [
      "(8000, 9, 1003)\n"
     ]
    }
   ],
   "source": [
    "with h5py.File(next(opts.analysis_dir.glob('raw*.h5')), 'r') as h5_data:\n",
    "    param_dict = yaml.load(h5_data.attrs['RunConfig'], Loader=yaml.FullLoader)  \n",
    "    protein_dict = yaml.load(h5_data.attrs['ProteinConfig'], Loader=yaml.FullLoader)  \n",
    "    box_lower = np.array(param_dict['simBoxLow'])\n",
    "    box_upper = np.array(param_dict['simBoxHigh'])\n",
    "    time_arr = h5_data['time'][:] # Load in time array, [:] loads data as numpy array\n",
    "    # Load in sylinder data\n",
    "    sy_dat = h5_data['raw_data/sylinders'][...]\n",
    "    # aLENS analysis has some useful helper functions for post-processing data\n",
    "    # This function applies periodic boundary conditions to the raw sylinder data.\n",
    "    sy_dat = aa.helpers.apply_pbc_to_raw_syl_data(sy_dat, box_lower, box_upper)\n",
    "    print(sy_dat.shape)\n",
    "\n",
    "    "
   ]
  },
  {
   "cell_type": "code",
   "execution_count": 7,
   "id": "84444f62",
   "metadata": {},
   "outputs": [
    {
     "data": {
      "image/png": "[encoded data removed]",
      "text/plain": [
       "<Figure size 432x288 with 1 Axes>"
      ]
     },
     "metadata": {
      "needs_background": "light"
     },
     "output_type": "display_data"
    }
   ],
   "source": [
    "nematic_order = aa.nematic_order.calc_nematic_order(sy_dat)\n",
    "_ = plt.plot(time_arr, nematic_order)\n",
    "_ = plt.xlabel(\"Time [s]\")\n",
    "_ = plt.ylabel(\"Nematic order \")"
   ]
  },
  {
   "cell_type": "code",
   "execution_count": 8,
   "id": "75e97ac1",
   "metadata": {},
   "outputs": [
    {
     "name": "stdout",
     "output_type": "stream",
     "text": [
      "(8000, 9, 1003)\n"
     ]
    }
   ],
   "source": [
    "opts = lambda: None \n",
    "opts.path = alens_data_path / 'NemN8000ld5rho.5dte-5/simulations/dt1e-05' # Notice the different path\n",
    "opts.analysis = 'collect'\n",
    "opts.analysis_dir = opts.path / 'analysis'\n",
    "opts.analysis_dir.mkdir(exist_ok=True)\n",
    "\n",
    "#aa.seed_analysis(opts)\n",
    "\n",
    "with h5py.File(next(opts.analysis_dir.glob('raw*.h5')), 'r') as h5_data:\n",
    "    param_dict = yaml.load(h5_data.attrs['RunConfig'], Loader=yaml.FullLoader)  \n",
    "    protein_dict = yaml.load(h5_data.attrs['ProteinConfig'], Loader=yaml.FullLoader)  \n",
    "    box_lower = np.array(param_dict['simBoxLow'])\n",
    "    box_upper = np.array(param_dict['simBoxHigh'])\n",
    "    time_arr = h5_data['time'][:] # Load in time array, [:] loads data as numpy array\n",
    "    # Load in sylinder data\n",
    "    sy_dat = h5_data['raw_data/sylinders'][...]\n",
    "    # aLENS analysis has some useful helper functions for post-processing data\n",
    "    # This function applies periodic boundary conditions to the raw sylinder data.\n",
    "    sy_dat_rho5_ld5 = aa.helpers.apply_pbc_to_raw_syl_data(sy_dat, box_lower, box_upper)\n",
    "    print(sy_dat.shape)\n",
    "\n"
   ]
  },
  {
   "cell_type": "code",
   "execution_count": 10,
   "id": "134ec0de",
   "metadata": {},
   "outputs": [
    {
     "data": {
      "image/png": "[encoded data removed]",
      "text/plain": [
       "<Figure size 432x288 with 1 Axes>"
      ]
     },
     "metadata": {
      "needs_background": "light"
     },
     "output_type": "display_data"
    }
   ],
   "source": [
    "nematic_order = aa.nematic_order.calc_nematic_order(sy_dat)\n",
    "_ = plt.semilogx(time_arr, nematic_order)\n",
    "_ = plt.xlabel(\"Time [s]\")\n",
    "_ = plt.ylabel(\"Nematic order \")"
   ]
  },
  {
   "cell_type": "markdown",
   "id": "f92616c8",
   "metadata": {},
   "source": [
    "# Nematic fluctuations"
   ]
  },
  {
   "cell_type": "code",
   "execution_count": 26,
   "id": "bb73ed18",
   "metadata": {},
   "outputs": [],
   "source": [
    "k_points = 100 \n",
    "com_arr = .5 * (sy_dat[:, 2:5, -1] + sy_dat[:, 5:8, -1])\n",
    "tcom_arr = torch.from_numpy(com_arr).to(device)\n",
    "dir_arr = sy_dat[:, 5:8, -1] - sy_dat[:, 2:5, -1]\n",
    "\n",
    "tk_arr = torch.logspace(-1, 2, k_points)\n",
    "tk_arr = torch.vstack([torch.zeros(k_points), torch.zeros(k_points), tk_arr]).T.to(device)\n",
    "# k_arr = np.vstack([np.zeros(k_points), k_arr, np.zeros(k_points)]).T\n",
    "tQ_arr = torch.from_numpy(aa.nematic_order.make_nematic_tensor_arr(dir_arr)).to(device)\n",
    "\n",
    "S_arr = torch.zeros(k_points).to(device)\n",
    "\n",
    "for i in range(k_points):\n",
    "    S_arr[i] = aa.nematic_order.make_structure_factor_torch(tQ_arr, tcom_arr, tk_arr[i], device=device)\n",
    "\n"
   ]
  },
  {
   "cell_type": "code",
   "execution_count": 22,
   "id": "ee1a4d49",
   "metadata": {},
   "outputs": [
    {
     "data": {
      "text/plain": [
       "[<matplotlib.lines.Line2D at 0x7f8182cd3a30>]"
      ]
     },
     "execution_count": 22,
     "metadata": {},
     "output_type": "execute_result"
    },
    {
     "data": {
      "text/plain": [
       "[<matplotlib.lines.Line2D at 0x7f8182cd3d00>]"
      ]
     },
     "execution_count": 22,
     "metadata": {},
     "output_type": "execute_result"
    },
    {
     "data": {
      "image/png": "[encoded data removed]",
      "text/plain": [
       "<Figure size 432x288 with 1 Axes>"
      ]
     },
     "metadata": {
      "needs_background": "light"
     },
     "output_type": "display_data"
    }
   ],
   "source": [
    "plt.loglog(k_arr[:,2], S_arr)\n",
    "plt.loglog(k_arr[:,2], 1/k_arr[:,2]**2)\n"
   ]
  },
  {
   "cell_type": "code",
   "execution_count": null,
   "id": "cce64084",
   "metadata": {},
   "outputs": [],
   "source": []
  }
 ],
 "metadata": {
  "kernelspec": {
   "display_name": "alens",
   "language": "python",
   "name": "python3"
  },
  "language_info": {
   "codemirror_mode": {
    "name": "ipython",
    "version": 3
   },
   "file_extension": ".py",
   "mimetype": "text/x-python",
   "name": "python",
   "nbconvert_exporter": "python",
   "pygments_lexer": "ipython3",
   "version": "3.8.3"
  }
 },
 "nbformat": 4,
 "nbformat_minor": 5
}
