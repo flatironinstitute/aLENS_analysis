{
 "cells": [
  {
   "attachments": {},
   "cell_type": "markdown",
   "id": "3bfde5a6",
   "metadata": {},
   "source": [
    "# Imports\n",
    "Import libraries and write settings here."
   ]
  },
  {
   "cell_type": "code",
   "execution_count": 1,
   "id": "0a59c077",
   "metadata": {
    "ExecuteTime": {
     "end_time": "2022-02-24T18:14:40.055005Z",
     "start_time": "2022-02-24T18:14:36.992644Z"
    }
   },
   "outputs": [
    {
     "data": {
      "text/html": [
       "<style>.container { width:80% !important; }</style>"
      ],
      "text/plain": [
       "<IPython.core.display.HTML object>"
      ]
     },
     "metadata": {},
     "output_type": "display_data"
    }
   ],
   "source": [
    "# Notebooks specific imports ########################################\n",
    "from IPython import get_ipython\n",
    "ipython = get_ipython()\n",
    "#Expand notebook display\n",
    "from IPython.display import display, HTML\n",
    "display(HTML(\"<style>.container { width:80% !important; }</style>\"))\n",
    "# Display all cell outputs\n",
    "from IPython.core.interactiveshell import InteractiveShell\n",
    "InteractiveShell.ast_node_interactivity = 'all'\n",
    "# autoreload extension\n",
    "if 'autoreload' not in ipython.extension_manager.loaded:\n",
    "    %load_ext autoreload\n",
    "%autoreload 2\n",
    "from tqdm.notebook import tqdm\n",
    "# End notebooks specific imports ####################################\n",
    "\n",
    "# Basic useful imports\n",
    "import yaml\n",
    "from pathlib import Path\n",
    "import h5py\n",
    "\n",
    "# Data manipulation\n",
    "import numpy as np\n",
    "from scipy.spatial import cKDTree\n",
    "\n",
    "# Visualization\n",
    "import matplotlib as mpl\n",
    "import matplotlib.pyplot as plt\n",
    "\n",
    "# From alens_analysis\n",
    "import alens_analysis as aa\n",
    "import alens_analysis.chromatin as aac\n",
    "\n",
    "\n",
    "# Locations\n",
    "alens_data_path = Path.home() / 'projects/DATA/Spindle/'\n",
    "\n",
    "graph_sty = {\n",
    "    \"axes.titlesize\": 20,\n",
    "    \"axes.labelsize\": 24,\n",
    "    \"lines.linewidth\": 2,\n",
    "    \"lines.markersize\": 2,\n",
    "    \"xtick.labelsize\": 24,\n",
    "    \"ytick.labelsize\": 24,\n",
    "    \"font.size\": 20,\n",
    "    \"font.sans-serif\": 'Helvetica',\n",
    "    \"text.usetex\": False,\n",
    "    'mathtext.fontset': 'cm',\n",
    "}\n",
    "plt.style.use(graph_sty)\n",
    "        "
   ]
  },
  {
   "cell_type": "code",
   "execution_count": 11,
   "id": "c66fdff4",
   "metadata": {},
   "outputs": [],
   "source": [
    "from scipy.spatial.transform import Rotation as R\n",
    "\n",
    "def rotation_matrix_from_vectors(vec1, vec2):\n",
    "    \"\"\" Find the rotation matrix that aligns vec1 to vec2\n",
    "    :param vec1: A 3d \"source\" vector\n",
    "    :param vec2: A 3d \"destination\" vector\n",
    "    :return mat: A transform matrix (3x3) which when applied to vec1, aligns it with vec2.\n",
    "    \"\"\"\n",
    "    # Normalize vectors\n",
    "    vec1 = vec1 / np.linalg.norm(vec1)\n",
    "    vec2 = vec2 / np.linalg.norm(vec2)\n",
    "\n",
    "    # Compute the cross product and dot product\n",
    "    cross_prod = np.cross(vec1, vec2)\n",
    "    dot_prod = np.dot(vec1, vec2)\n",
    "\n",
    "    # Compute the rotation angle\n",
    "    angle = np.arccos(dot_prod)\n",
    "\n",
    "    # Compute the rotation axis\n",
    "    axis = cross_prod / np.linalg.norm(cross_prod)\n",
    "\n",
    "    # Use scipy to compute the rotation matrix\n",
    "    rotation_vector = axis * angle\n",
    "    rotation = R.from_rotvec(rotation_vector)\n",
    "    rotation_matrix = rotation.as_matrix()\n",
    "\n",
    "    return rotation_matrix\n",
    "\n",
    "def make_pbc_points(pos, boxsize):\n",
    "    pbc_points = []\n",
    "    shift = [-1., 0., 1.]\n",
    "    for i in shift:\n",
    "        for j in shift:\n",
    "            for k in shift:\n",
    "                pbc_points.append(pos + np.array([i, j, k])* boxsize)\n",
    "    return np.vstack(pbc_points)\n",
    "\n",
    "def filter_ghost_particles(com_arr, n_arr):\n",
    "    ghost_vec = np.array([0,0,0])\n",
    "    mask = np.all(com_arr[:,:] == ghost_vec, axis=1)\n",
    "    return com_arr[~mask], n_arr[~mask]\n",
    "\n",
    "def nematic_lattice_coarse_grain(sy_dat, time=-1, distance=1.0, num_lattice_points=10, \n",
    "                         boxsize=None, shift=0.0, pbc=True):\n",
    "    # Get data for analysis from hdf5 file formatted particles\n",
    "    positions = .5 * (sy_dat[:, 2:5, time] + sy_dat[:, 5:8, time])\n",
    "    n_arr = sy_dat[:, 5:8, time] - sy_dat[:, 2:5, time]\n",
    "    n_arr /= np.linalg.norm(n_arr, axis=1)[:,None]\n",
    "\n",
    "    x = np.linspace(0, boxsize, num_lattice_points, endpoint=False)\n",
    "    y = np.linspace(0, boxsize, num_lattice_points, endpoint=False)\n",
    "    z = np.linspace(0, boxsize, num_lattice_points, endpoint=False)\n",
    "    xv, yv, zv = np.meshgrid(x, y, z)\n",
    "    lattice_pos = np.stack((xv, yv, zv), axis=-1).reshape(-1, 3)\n",
    "\n",
    "    # Create a KDTree for fast neighbor search\n",
    "    lattice_tree = cKDTree(lattice_pos)\n",
    "    \n",
    "    if pbc:\n",
    "        particle_pos = make_pbc_points(positions, boxsize)\n",
    "        n_arr = np.tile(n_arr, (27, 1))\n",
    "    else:\n",
    "        particle_pos = positions\n",
    "\n",
    "    particle_tree = cKDTree(particle_pos)\n",
    "\n",
    "    # Cell query for coarse graining\n",
    "    # pairs = lattice_tree.query_ball_tree(particle_tree, r=distance, p=\"infinity\")\n",
    "\n",
    "    # Sphereical query for coarse graining\n",
    "    pairs = lattice_tree.query_ball_tree(particle_tree, r=distance, p=2)\n",
    "    \n",
    "    nem_order_arr = np.zeros((num_lattice_points**3))\n",
    "    nem_director_arr = np.zeros((num_lattice_points**3, 3))\n",
    "    density_arr = np.zeros((num_lattice_points**3))\n",
    "    for cur_seg, neigh_inds in enumerate(pairs):\n",
    "        # check to see if there are any neighbors\n",
    "        if not neigh_inds:\n",
    "            continue\n",
    "\n",
    "        density_arr[cur_seg] = float(len(neigh_inds))\n",
    "        neigh_n_arr = n_arr[neigh_inds,:]\n",
    "        # Analyze nematic order of neighbors\n",
    "        nem_order_arr[cur_seg], nem_director_arr[cur_seg,:] = aa.nematic_order.nematic_analysis(neigh_n_arr)\n",
    "\n",
    "    return lattice_pos, nem_order_arr, nem_director_arr, density_arr\n",
    "\n",
    "\n",
    "def zrho_corr(sy_dat, time=-1, distance=1.0, boxsize=None, shift=0.0, pbc=True):  \n",
    "    # Get data for analysis from hdf5 file formatted particles\n",
    "    com_arr = .5 * (sy_dat[:, 2:5, time] + sy_dat[:, 5:8, time])\n",
    "    n_arr = sy_dat[:, 5:8, time] - sy_dat[:, 2:5, time]\n",
    "    n_arr /= np.linalg.norm(n_arr, axis=1)[:,None]\n",
    "\n",
    "    positions, normals = filter_ghost_particles(com_arr[:,:], n_arr[:,:])\n",
    "\n",
    "    # Create a KDTree for fast neighbor search\n",
    "    tree = cKDTree(positions)\n",
    "    \n",
    "    if pbc:\n",
    "        match_pos = make_pbc_points(positions, boxsize)\n",
    "    else:\n",
    "        match_pos = positions\n",
    "\n",
    "    match_tree = cKDTree(match_pos)\n",
    "    pairs = tree.query_ball_tree(match_tree, r=distance)\n",
    "    \n",
    "    zvec = np.array([0,0,1.])\n",
    "    rot_neigh_pos_list = []\n",
    "    for cur_seg, neigh_inds in enumerate(pairs):\n",
    "        # neigh_inds.remove(cur_seg) # Don't count self distances\n",
    "        n_vec = normals[cur_seg,:] # Normal vector of current segment\n",
    "        neigh_pos = match_pos[neigh_inds,:] - positions[cur_seg,:]\n",
    "        \n",
    "        # if normal is aligned in the z direction, no need to rotate\n",
    "        if np.all(n_vec == zvec):\n",
    "            rot_neigh_pos_list += [neigh_pos]\n",
    "            continue\n",
    "\n",
    "        # Rotation matrix that transforms current segments orientation to zvec\n",
    "        rot_mat = rotation_matrix_from_vectors(n_vec, zvec)\n",
    "        # Rotate all neighbors to align with current zvec\n",
    "        rot_neigh_pos_list += [np.einsum('ij,kj->ki', rot_mat, neigh_pos)]\n",
    "\n",
    "    rot_neigh_pos_arr = np.vstack(rot_neigh_pos_list)\n",
    "\n",
    "    # Create a boolean mask where True values correspond to rows that are equal to zero_vec\n",
    "    # and apply it to rot_neigh_pos_arr to remove self counting\n",
    "    zero_vec = np.array([0,0,0])\n",
    "    mask = np.all(rot_neigh_pos_arr == zero_vec, axis=1)\n",
    "    rot_neigh_pos_arr = rot_neigh_pos_arr[~mask]\n",
    "\n",
    "    # Extract the dimensions you want\n",
    "    rhopos = np.linalg.norm(rot_neigh_pos_arr[:,:2], axis=1)\n",
    "    zpos = rot_neigh_pos_arr[:,2]\n",
    "    return zpos, rhopos "
   ]
  },
  {
   "cell_type": "code",
   "execution_count": 12,
   "id": "965f08db",
   "metadata": {},
   "outputs": [],
   "source": [
    "# make a list of points that sit on a 3d cubic lattice of n points\n",
    "n = 15 \n",
    "L = 5\n",
    "x = np.linspace(0, L, n, endpoint=False)\n",
    "y = np.linspace(0, L, n, endpoint=False)\n",
    "z = np.linspace(0, L, n, endpoint=False)\n",
    "xv, yv, zv = np.meshgrid(x, y, z)\n",
    "\n",
    "end0_points = np.stack((xv, yv, zv), axis=-1).reshape(-1, 3)\n",
    "end1_points = end0_points + np.array([0.0, 1.0, 0.])\n",
    "buffer = np.zeros((end0_points.shape[0], 2))\n",
    "sy_dat = np.hstack([buffer, end0_points, end1_points])[:,:,np.newaxis]\n",
    "\n",
    "zpos, rhopos = zrho_corr(sy_dat, time=0, distance=4, boxsize=5., pbc=True)\n",
    "\n",
    "# zpos, rhopos = zrho_corr_new(matrix,points, distance=2.5, boxsize=5.001)\n",
    "# zpos, rhopos = zrho_corr_new(matrix,points, distance=1.0, boxsize=[5.001,5.001,5.001])"
   ]
  },
  {
   "cell_type": "code",
   "execution_count": 8,
   "id": "b484cdad",
   "metadata": {},
   "outputs": [
    {
     "name": "stdout",
     "output_type": "stream",
     "text": [
      "24124884\n"
     ]
    },
    {
     "data": {
      "image/png": "[encoded data removed]",
      "text/plain": [
       "<Figure size 640x480 with 1 Axes>"
      ]
     },
     "metadata": {},
     "output_type": "display_data"
    }
   ],
   "source": [
    "rhoarr = np.array(rhopos)\n",
    "zarr = np.array(zpos)\n",
    "print(len(rhoarr))\n",
    "heatmap, rhoedges, zedges = np.histogram2d(rhoarr, zarr, bins=50, weights=1./(rhoarr+ 1), range=[[0, 5], [-2, 2]])\n",
    "extent = [rhoedges[0], rhoedges[-1], zedges[0], zedges[-1]]\n",
    "\n",
    "heatmap = heatmap\n",
    "_ = plt.clf()\n",
    "_ = plt.imshow(heatmap.T, extent=extent, origin='lower')\n",
    "_ = plt.xlabel(\"ρ [μm]\")\n",
    "_ = plt.ylabel(\"z [μm]\")"
   ]
  },
  {
   "cell_type": "code",
   "execution_count": 5,
   "id": "ffa7be27",
   "metadata": {},
   "outputs": [
    {
     "data": {
      "text/plain": [
       "False"
      ]
     },
     "execution_count": 5,
     "metadata": {},
     "output_type": "execute_result"
    }
   ],
   "source": [
    "vec1 = np.array([0,0,1])\n",
    "vec2 = np.array([0,0,2])\n",
    "np.all(vec1 == vec2)"
   ]
  },
  {
   "cell_type": "code",
   "execution_count": null,
   "id": "069b0879",
   "metadata": {},
   "outputs": [],
   "source": []
  }
 ],
 "metadata": {
  "kernelspec": {
   "display_name": "Python (alens_analysis)",
   "language": "python",
   "name": "alens_analysis"
  },
  "language_info": {
   "codemirror_mode": {
    "name": "ipython",
    "version": 3
   },
   "file_extension": ".py",
   "mimetype": "text/x-python",
   "name": "python",
   "nbconvert_exporter": "python",
   "pygments_lexer": "ipython3",
   "version": "3.11.3"
  }
 },
 "nbformat": 4,
 "nbformat_minor": 5
}
