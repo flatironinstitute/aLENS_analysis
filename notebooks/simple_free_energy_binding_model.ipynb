{
 "cells": [
  {
   "cell_type": "markdown",
   "id": "68fbe336",
   "metadata": {},
   "source": [
    "# Introduction\n",
    "State notebook purpose here"
   ]
  },
  {
   "cell_type": "markdown",
   "id": "ff37e55a",
   "metadata": {},
   "source": [
    "### Imports\n",
    "Import libraries and write settings here."
   ]
  },
  {
   "cell_type": "code",
   "execution_count": 3,
   "id": "7d21de1b",
   "metadata": {
    "ExecuteTime": {
     "end_time": "2021-06-08T16:31:00.617591Z",
     "start_time": "2021-06-08T16:31:00.584725Z"
    }
   },
   "outputs": [
    {
     "data": {
      "text/html": [
       "<style>.container { width:80% !important; }</style>"
      ],
      "text/plain": [
       "<IPython.core.display.HTML object>"
      ]
     },
     "metadata": {},
     "output_type": "display_data"
    }
   ],
   "source": [
    "# Notebooks specific imports\n",
    "from IPython import get_ipython\n",
    "ipython = get_ipython()\n",
    "#Expand notebook display\n",
    "from IPython.core.display import display, HTML\n",
    "display(HTML(\"<style>.container { width:80% !important; }</style>\"))\n",
    "# Display all cell outputs\n",
    "from IPython.core.interactiveshell import InteractiveShell\n",
    "InteractiveShell.ast_node_interactivity = 'all'\n",
    "# autoreload extension\n",
    "if 'autoreload' not in ipython.extension_manager.loaded:\n",
    "    %load_ext autoreload\n",
    "%autoreload 2\n",
    "\n",
    "# Basic useful imports\n",
    "import re\n",
    "import time\n",
    "import yaml\n",
    "from pprint import pprint\n",
    "from pathlib import Path\n",
    "import h5py\n",
    "\n",
    "# Data manipulation\n",
    "import numpy as np\n",
    "from scipy.special import erf\n",
    "from scipy.integrate import quad\n",
    "\n",
    "# Visualization\n",
    "import matplotlib as mpl\n",
    "import matplotlib.pyplot as plt\n",
    "from matplotlib.lines import Line2D\n",
    "from matplotlib.patches import (Circle, RegularPolygon, FancyArrowPatch, ArrowStyle)\n",
    "from matplotlib.ticker import (MultipleLocator, FormatStrFormatter,\n",
    "                               AutoMinorLocator, NullFormatter)\n",
    "import matplotlib.colors as colors"
   ]
  },
  {
   "cell_type": "markdown",
   "id": "06dde3d2",
   "metadata": {},
   "source": [
    "### Style settings"
   ]
  },
  {
   "cell_type": "code",
   "execution_count": 4,
   "id": "5443e56f",
   "metadata": {
    "ExecuteTime": {
     "end_time": "2021-06-08T16:31:01.437483Z",
     "start_time": "2021-06-08T16:31:01.415194Z"
    }
   },
   "outputs": [],
   "source": [
    "graph_sty = {\n",
    "    \"axes.titlesize\": 20,\n",
    "    \"axes.labelsize\": 24,\n",
    "    \"lines.linewidth\": 3,\n",
    "    \"lines.markersize\": 10,\n",
    "    \"xtick.labelsize\": 24,\n",
    "    \"ytick.labelsize\": 24,\n",
    "    \"font.size\": 20,\n",
    "    \"font.sans-serif\": 'Helvetica',\n",
    "    \"text.usetex\": False,\n",
    "    'mathtext.fontset': 'cm',\n",
    "}\n",
    "plt.style.use(graph_sty)\n",
    "        "
   ]
  },
  {
   "cell_type": "markdown",
   "id": "b74b3c33",
   "metadata": {},
   "source": [
    "# Functions"
   ]
  },
  {
   "cell_type": "code",
   "execution_count": 11,
   "id": "3ee9bb6a",
   "metadata": {
    "ExecuteTime": {
     "end_time": "2021-06-08T16:43:52.814777Z",
     "start_time": "2021-06-08T16:43:52.792156Z"
    }
   },
   "outputs": [],
   "source": [
    "def free_energy_gauss_well(y, y_site, ks, well_depth, well_sigma):\n",
    "    xi = y - y_site\n",
    "    U_s = .5*ks*y*y\n",
    "    U_w = -well_depth * np.exp(-.5*xi*xi/(well_sigma*well_sigma))\n",
    "    return U_s +U_w"
   ]
  },
  {
   "cell_type": "markdown",
   "id": "936b1565",
   "metadata": {},
   "source": [
    "# Results/Graphs"
   ]
  },
  {
   "cell_type": "code",
   "execution_count": 31,
   "id": "495259ff",
   "metadata": {
    "ExecuteTime": {
     "end_time": "2021-06-08T17:00:56.832431Z",
     "start_time": "2021-06-08T17:00:56.591195Z"
    }
   },
   "outputs": [],
   "source": [
    "#parameters\n",
    "ks = 50.\n",
    "y_site = 2.5\n",
    "well_depth = 50.\n",
    "well_sigma = .1\n"
   ]
  },
  {
   "cell_type": "code",
   "execution_count": 32,
   "id": "170648da",
   "metadata": {
    "ExecuteTime": {
     "end_time": "2021-06-08T17:00:58.043111Z",
     "start_time": "2021-06-08T17:00:57.953489Z"
    }
   },
   "outputs": [
    {
     "data": {
      "text/plain": [
       "[<matplotlib.lines.Line2D at 0x7f4e8614a7f0>]"
      ]
     },
     "execution_count": 32,
     "metadata": {},
     "output_type": "execute_result"
    },
    {
     "data": {
      "image/png": "[encoded data removed]",
      "text/plain": [
       "<Figure size 432x288 with 1 Axes>"
      ]
     },
     "metadata": {
      "needs_background": "light"
     },
     "output_type": "display_data"
    }
   ],
   "source": [
    "y_arr = np.linspace(0,4,500)\n",
    "plt.plot(y_arr, free_energy_gauss_well(y_arr, y_site, ks, well_depth, well_sigma))"
   ]
  },
  {
   "cell_type": "code",
   "execution_count": 33,
   "id": "095495c5",
   "metadata": {
    "ExecuteTime": {
     "end_time": "2021-06-08T17:00:59.666899Z",
     "start_time": "2021-06-08T17:00:59.568525Z"
    }
   },
   "outputs": [
    {
     "data": {
      "text/plain": [
       "[<matplotlib.lines.Line2D at 0x7f4e85932760>]"
      ]
     },
     "execution_count": 33,
     "metadata": {},
     "output_type": "execute_result"
    },
    {
     "data": {
      "text/plain": [
       "[<matplotlib.lines.Line2D at 0x7f4e85932b80>]"
      ]
     },
     "execution_count": 33,
     "metadata": {},
     "output_type": "execute_result"
    },
    {
     "data": {
      "text/plain": [
       "[<matplotlib.lines.Line2D at 0x7f4e85932cd0>]"
      ]
     },
     "execution_count": 33,
     "metadata": {},
     "output_type": "execute_result"
    },
    {
     "data": {
      "text/plain": [
       "[<matplotlib.lines.Line2D at 0x7f4e858bb040>]"
      ]
     },
     "execution_count": 33,
     "metadata": {},
     "output_type": "execute_result"
    },
    {
     "data": {
      "text/plain": [
       "[<matplotlib.lines.Line2D at 0x7f4e858bb3d0>]"
      ]
     },
     "execution_count": 33,
     "metadata": {},
     "output_type": "execute_result"
    },
    {
     "data": {
      "image/png": "[encoded data removed]",
      "text/plain": [
       "<Figure size 432x288 with 1 Axes>"
      ]
     },
     "metadata": {
      "needs_background": "light"
     },
     "output_type": "display_data"
    }
   ],
   "source": [
    "y_arr = np.linspace(0,4,100)\n",
    "y_site_arr = np.linspace(0,4,20)\n",
    "\n",
    "Y, S = np.meshgrid(y_arr, y_site_arr)\n",
    "fe_mat = free_energy_gauss_well(Y, S, ks, well_depth, well_sigma)\n",
    "\n",
    "for i in range(5):\n",
    "    plt.plot(y_arr, fe_mat[i*4])"
   ]
  },
  {
   "cell_type": "markdown",
   "id": "7395ec90",
   "metadata": {},
   "source": [
    "# Conclusions and Next Steps"
   ]
  },
  {
   "cell_type": "code",
   "execution_count": null,
   "id": "a5cabab4",
   "metadata": {},
   "outputs": [],
   "source": []
  }
 ],
 "metadata": {
  "kernelspec": {
   "display_name": "Python 3",
   "language": "python",
   "name": "python3"
  },
  "language_info": {
   "codemirror_mode": {
    "name": "ipython",
    "version": 3
   },
   "file_extension": ".py",
   "mimetype": "text/x-python",
   "name": "python",
   "nbconvert_exporter": "python",
   "pygments_lexer": "ipython3",
   "version": "3.8.12"
  }
 },
 "nbformat": 4,
 "nbformat_minor": 5
}
