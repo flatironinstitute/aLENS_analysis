{
 "cells": [
  {
   "cell_type": "code",
   "execution_count": 1,
   "metadata": {},
   "outputs": [
    {
     "name": "stderr",
     "output_type": "stream",
     "text": [
      "/mnt/home/sholden/miniconda3/envs/analysis/lib/python3.11/site-packages/tqdm/auto.py:21: TqdmWarning: IProgress not found. Please update jupyter and ipywidgets. See https://ipywidgets.readthedocs.io/en/stable/user_install.html\n",
      "  from .autonotebook import tqdm as notebook_tqdm\n"
     ]
    }
   ],
   "source": [
    "import numpy as np\n",
    "import matplotlib.pyplot as plt\n",
    "import json\n",
    "\n",
    "import alens_analysis as aa\n",
    "\n",
    "graph_sty = {\"axes.titlesize\": 20,\n",
    "             \"axes.labelsize\": 24,\n",
    "             \"lines.linewidth\": 2,\n",
    "             \"lines.markersize\": 2,\n",
    "             \"xtick.labelsize\": 24,\n",
    "             \"ytick.labelsize\": 24,\n",
    "             \"font.size\": 20,\n",
    "             \"font.sans-serif\": 'Helvetica',\n",
    "             \"text.usetex\": False,\n",
    "             \"mathtext.fontset\": 'cm'}\n",
    "plt.style.use(graph_sty)\n",
    "import logging\n",
    "logging.getLogger('matplotlib.font_manager').disabled = True\n",
    "\n",
    "from pathlib import Path\n",
    "\n",
    "alens_simulation_directory = Path.home() / 'projects/aLENS/Examples/Active3DNematics'\n",
    "simulation_data_path = alens_simulation_directory / 'analysis/raw_Active3DNematics.h5'\n",
    "simulation_config_file = alens_simulation_directory / 'RunConfig.yaml'"
   ]
  },
  {
   "cell_type": "markdown",
   "metadata": {},
   "source": [
    "#### Construct the empirical motor density aa.motor_distributions.Empirical_Motor_Density_Constructor.empirical_motor_density\n",
    "#### This is a list of dictionaries of length retrieve_num_T_steps. If retrieve_num_T_steps == `all' then it takes all the data\n",
    "#### Each entry is a dictionary with keys ``rod0,rod1\" where rod0, rod1 are the integer indices of the rods/sylinders\n",
    "#### The values are lists of coordinate pairs corresponding to the binding sites \\in [-L/2, L/2] of crosslinking motors"
   ]
  },
  {
   "cell_type": "code",
   "execution_count": 2,
   "metadata": {},
   "outputs": [],
   "source": [
    "save_file_name = Path(\"empirical_motor_density.json\")"
   ]
  },
  {
   "cell_type": "code",
   "execution_count": 3,
   "metadata": {},
   "outputs": [
    {
     "name": "stdout",
     "output_type": "stream",
     "text": [
      "10 / 15\n"
     ]
    }
   ],
   "source": [
    "emd = aa.motor_densities.Empirical_Motor_Density_Constructor(simulation_data_path, simulation_config_file, retrieve_num_T_steps=15, autosave=True, save_file_name=save_file_name)"
   ]
  },
  {
   "cell_type": "markdown",
   "metadata": {},
   "source": [
    "#### Construct a smoothed version of aa.motor_distributions.Empirical_Motor_Density_Constructor.empirical_motor_density"
   ]
  },
  {
   "cell_type": "code",
   "execution_count": 4,
   "metadata": {},
   "outputs": [],
   "source": [
    "smoothed_motor_density = aa.motor_densities.Empirical_Motor_Density_Smoother(save_file_name, simulation_config_file, std_param=0.08, smoothing_type=\"full\")"
   ]
  },
  {
   "cell_type": "markdown",
   "metadata": {},
   "source": [
    "#### Plot the smoothed density in time in a given directory (given as str)"
   ]
  },
  {
   "cell_type": "code",
   "execution_count": 5,
   "metadata": {},
   "outputs": [
    {
     "name": "stdout",
     "output_type": "stream",
     "text": [
      "10 / 15\n"
     ]
    }
   ],
   "source": [
    "plot_smoothed_motor_density_dir = \"smoothed_density\"\n",
    "smoothed_motor_density.plot_smoothed_motor_density(plot_smoothed_motor_density_dir)"
   ]
  }
 ],
 "metadata": {
  "kernelspec": {
   "display_name": "analysis",
   "language": "python",
   "name": "python3"
  },
  "language_info": {
   "codemirror_mode": {
    "name": "ipython",
    "version": 3
   },
   "file_extension": ".py",
   "mimetype": "text/x-python",
   "name": "python",
   "nbconvert_exporter": "python",
   "pygments_lexer": "ipython3",
   "version": "3.11.3"
  }
 },
 "nbformat": 4,
 "nbformat_minor": 2
}
