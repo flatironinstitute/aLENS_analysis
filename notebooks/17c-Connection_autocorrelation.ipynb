{
 "cells": [
  {
   "cell_type": "markdown",
   "id": "9a7d5050",
   "metadata": {},
   "source": [
    "# Introduction\n",
    "State notebook purpose here"
   ]
  },
  {
   "cell_type": "markdown",
   "id": "b2f76ee2",
   "metadata": {},
   "source": [
    "### Imports\n",
    "Import libraries and write settings here."
   ]
  },
  {
   "cell_type": "code",
   "execution_count": 7,
   "id": "c3d377cd",
   "metadata": {
    "ExecuteTime": {
     "end_time": "2022-02-08T00:47:58.244499Z",
     "start_time": "2022-02-08T00:47:57.977872Z"
    }
   },
   "outputs": [
    {
     "data": {
      "text/html": [
       "<style>.container { width:80% !important; }</style>"
      ],
      "text/plain": [
       "<IPython.core.display.HTML object>"
      ]
     },
     "metadata": {},
     "output_type": "display_data"
    },
    {
     "name": "stdout",
     "output_type": "stream",
     "text": [
      "torch device: cuda\n"
     ]
    }
   ],
   "source": [
    "# Notebooks specific imports\n",
    "from IPython import get_ipython\n",
    "ipython = get_ipython()\n",
    "#Expand notebook display\n",
    "from IPython.core.display import display, HTML\n",
    "display(HTML(\"<style>.container { width:80% !important; }</style>\"))\n",
    "# Display all cell outputs\n",
    "from IPython.core.interactiveshell import InteractiveShell\n",
    "InteractiveShell.ast_node_interactivity = 'all'\n",
    "# autoreload extension\n",
    "if 'autoreload' not in ipython.extension_manager.loaded:\n",
    "    %load_ext autoreload\n",
    "%autoreload 2\n",
    "from tqdm.notebook import tqdm\n",
    "\n",
    "# Basic useful imports\n",
    "import re\n",
    "import time\n",
    "import yaml\n",
    "from pprint import pprint\n",
    "from pathlib import Path\n",
    "import h5py\n",
    "import gc\n",
    "import pickle as pkl\n",
    "\n",
    "# Data manipulation\n",
    "import numpy as np\n",
    "from scipy.optimize import curve_fit\n",
    "from scipy.special import erf, erfinv\n",
    "from scipy.integrate import quad\n",
    "from scipy.signal import savgol_filter, correlate, fftconvolve\n",
    "from scipy import fftpack\n",
    "import torch\n",
    "device = torch.device(\"cuda\" if torch.cuda.is_available() else \"cpu\")\n",
    "print(f'torch device: {device}')\n",
    "\n",
    "# Visualization\n",
    "import matplotlib as mpl\n",
    "import matplotlib.pyplot as plt\n",
    "from matplotlib.lines import Line2D\n",
    "from matplotlib.patches import (Circle, RegularPolygon, FancyArrowPatch, ArrowStyle)\n",
    "from matplotlib.ticker import (MultipleLocator, FormatStrFormatter,\n",
    "                               AutoMinorLocator, NullFormatter)\n",
    "import matplotlib.colors as mcolors\n",
    "import matplotlib.pylab as plb\n",
    "\n",
    "# From alens_analysis.py\n",
    "import alens_analysis as aa\n",
    "from alens_analysis.colormaps import register_cmaps\n",
    "import alens_analysis.chromatin as aac\n",
    "import alens_analysis.chromatin.chrom_analysis as ca\n",
    "import alens_analysis.chromatin.chrom_condensate_analysis as cca\n",
    "import alens_analysis.chromatin.chrom_graph_funcs as cgf\n",
    "import alens_analysis.chromatin.chrom_poly_stats as cps\n",
    "import alens_analysis.helpers as ahlp\n",
    "import alens_analysis.read_func as arf\n",
    "from alens_analysis import cluster_analysis as cla\n",
    "\n",
    "# Locations\n",
    "ws_path = Path('/home/alamson/DATA/Chromatin/')\n",
    "mnt_path = Path.home() / 'projects/DATA/Chromatin/'\n",
    "ceph_path = Path.home() / 'ceph/DATA/Chromatin/'\n",
    "cond_path = Path.home() / 'ceph/DATA/Chromatin/CondCharPaper'"
   ]
  },
  {
   "cell_type": "code",
   "execution_count": 5,
   "id": "eb69ae3d",
   "metadata": {},
   "outputs": [
    {
     "data": {
      "text/plain": [
       "'1.13.0'"
      ]
     },
     "execution_count": 5,
     "metadata": {},
     "output_type": "execute_result"
    }
   ],
   "source": [
    "torch.__version__\n",
    "\n",
    "import warnings\n",
    "\n",
    "warnings.filterwarnings('ignore')"
   ]
  },
  {
   "cell_type": "markdown",
   "id": "81d682df",
   "metadata": {},
   "source": [
    "### Style settings"
   ]
  },
  {
   "cell_type": "code",
   "execution_count": 6,
   "id": "ab32eb02",
   "metadata": {
    "ExecuteTime": {
     "end_time": "2022-02-08T00:48:00.028983Z",
     "start_time": "2022-02-08T00:48:00.000810Z"
    }
   },
   "outputs": [],
   "source": [
    "graph_sty = {\n",
    "    \"axes.titlesize\": 20,\n",
    "    \"axes.labelsize\": 24,\n",
    "    \"lines.linewidth\": 2,\n",
    "    \"lines.markersize\": 2,\n",
    "    \"xtick.labelsize\": 24,\n",
    "    \"ytick.labelsize\": 24,\n",
    "    \"font.size\": 20,\n",
    "    \"font.sans-serif\": 'Helvetica',\n",
    "    \"text.usetex\": False,\n",
    "    'mathtext.fontset': 'cm',\n",
    "}\n",
    "plt.style.use(graph_sty)\n",
    "\n",
    "register_cmaps()\n",
    "plt.rcParams['image.cmap'] = 'YlOrRd'\n",
    "#plt.rcParams['image.cmap'] = 'emct8'\n",
    "#plt.rcParams['image.cmap'] = 'warm'\n",
    "#plt.rcParams['image.cmap'] = 'twilight'\n",
    "#plt.rcParams['image.cmap'] = 'coolwarm'\n",
    "#plt.rcParams['image.cmap'] = 'RdYlBu_r'\n",
    "        "
   ]
  },
  {
   "cell_type": "markdown",
   "id": "e7f8c568",
   "metadata": {},
   "source": [
    "# Functions"
   ]
  },
  {
   "cell_type": "code",
   "execution_count": 4,
   "id": "6ff63aae",
   "metadata": {},
   "outputs": [],
   "source": [
    "def power_spec_graph_func(fig, axarr, data_path, param_str, label_str,\n",
    "                        ss_ind=1,\n",
    "                        end_ind=-1,\n",
    "                        start_bead=0,\n",
    "                        end_bead=None):\n",
    "    try:\n",
    "        axarr[0,0].sharey(axarr[0,1])\n",
    "        axarr[0,0].sharex(axarr[0,1])\n",
    "        axarr[1,0].sharex(axarr[1,1])\n",
    "        axarr[1,0].sharey(axarr[1,1])\n",
    "\n",
    "        mp = re.compile(f'{param_str}(\\d*\\.?\\d+)')\n",
    "        param_dirs = sorted(\n",
    "            [pd for pd in data_path.glob('*/')],\n",
    "            key=lambda x: float(mp.match(str(x.name))[1]))\n",
    "        param_vals = [float(mp.match(str(pd.name))[1]) for pd in param_dirs]\n",
    "\n",
    "        # Make color scale\n",
    "        log_pvs = np.log10(param_vals)\n",
    "        norm_log_pvs = (log_pvs-log_pvs.min())/((log_pvs.max() - log_pvs.min()))\n",
    "        colors = plb.cm.plasma(norm_log_pvs)\n",
    "\n",
    "        for i, pd in tqdm(enumerate(param_dirs)):\n",
    "            avg_power_spec_list = []\n",
    "            power_spec_list = []\n",
    "            sd_h5_data_lst = []\n",
    "            for h5p in pd.glob('s*/analysis/raw*.h5'):\n",
    "                try:\n",
    "                    sd_h5_data_lst+=[h5py.File(h5p, 'r')]   \n",
    "                except:\n",
    "                    print(f'Could not open {h5p}.')\n",
    "            if len(sd_h5_data_lst) == 0:\n",
    "                continue\n",
    "\n",
    "            for h5_data in sd_h5_data_lst:\n",
    "                time_arr = h5_data['time'][:-ss_ind+end_ind]\n",
    "                sy_dat = h5_data['raw_data']['sylinders'][start_bead:end_bead,\n",
    "                                                        :, ss_ind:end_ind]\n",
    "                com_arr = .5 * (sy_dat[:, 2:5, :] + sy_dat[:, 5:8, :])\n",
    "\n",
    "                power_spec = cps.power_spec(com_arr, device)\n",
    "                n_ps_pos_vals = int(power_spec.size(dim=0)/2)\n",
    "                freq = torch.fft.fftfreq(power_spec.size(dim=0), time_arr[2]-time_arr[1])[:n_ps_pos_vals]\n",
    "\n",
    "                _ = axarr[0, 0].plot(freq, power_spec.real.cpu()[:n_ps_pos_vals], color=colors[i], alpha=.1)\n",
    "                _ = axarr[1, 0].plot(freq, power_spec.imag.cpu()[:n_ps_pos_vals], color=colors[i], alpha=.1)\n",
    "\n",
    "                power_spec_list += [power_spec[:n_ps_pos_vals]]\n",
    "\n",
    "            min_length = min([len(avg) for avg in power_spec_list])\n",
    "            power_spec_mat = torch.stack([avg[-min_length:] for avg in power_spec_list])\n",
    "            \n",
    "            avg_power_spec_list += [power_spec_mat.mean(axis=0)]\n",
    "            # std_auto_corr_list += [power_spec_mat.std(axis=0)]\n",
    "            \n",
    "            label = re.split(r'(^[^\\d]+)',str(pd.name))[1:][1]\n",
    "            for h5d in sd_h5_data_lst:\n",
    "                h5d.close()\n",
    "            \n",
    "            # Make sure you get the right scale of the frequency array\n",
    "            #   Nyquist frequency should be 1/(2 * \\Delta t)\n",
    "            n_ps_pos_vals = int(avg_power_spec_list[-1][:min_length].size(dim=0)/2)\n",
    "            freq_arr = torch.fft.fftfreq(avg_power_spec_list[-1][:min_length].size(dim=0), time_arr[2]-time_arr[1])[:n_ps_pos_vals]\n",
    "\n",
    "            _ = axarr[0, 1].plot(freq_arr, avg_power_spec_list[-1].real.to('cpu')[:n_ps_pos_vals], \n",
    "                                 color=colors[i], label=f\"{label_str}$= {label}$\")\n",
    "            _ = axarr[1, 1].plot(freq_arr, avg_power_spec_list[-1].imag.to('cpu')[:n_ps_pos_vals], \n",
    "                                 color=colors[i], label=f\"$ k_o = {label}$\")\n",
    "        \n",
    "        _ = axarr[0,0].set_ylabel('Real power spectrum \\n' + r'Re$[\\langle \\tilde{r}(\\omega)\\tilde{r}^*(\\omega)\\rangle]$')\n",
    "        _ = axarr[1,0].set_ylabel('Imaginary power spectrum \\n' + r'Im$[\\langle \\tilde{r}(\\omega)\\tilde{r}^*(\\omega)\\rangle]$')\n",
    "        _ = axarr[0,0].set_xlabel('Frequency $\\omega$ (sec$^{-1}$)')\n",
    "        _ = axarr[0,1].set_xlabel('Frequency $\\omega$ (sec$^{-1}$)')\n",
    "        _ = axarr[1,0].set_xlabel('Frequency $\\omega$ (sec$^{-1}$)')\n",
    "        _ = axarr[1,1].set_xlabel('Frequency $\\omega$ (sec$^{-1}$)')\n",
    "        _ = axarr[0,0].set_yscale('log')\n",
    "        _ = axarr[0,0].set_xscale('log')\n",
    "        _ = axarr[1,0].set_yscale('log')\n",
    "        _ = axarr[1,0].set_xscale('log')\n",
    "\n",
    "        _ = axarr[0,1].legend(loc='center left', bbox_to_anchor=(1.05, .5))\n",
    "        fig.tight_layout()\n",
    "\n",
    "    except:\n",
    "        raise\n",
    "    finally:\n",
    "        for h5d in sd_h5_data_lst:\n",
    "            h5d.close()\n"
   ]
  },
  {
   "cell_type": "markdown",
   "id": "9ea6ca43",
   "metadata": {},
   "source": [
    "# Data generation"
   ]
  },
  {
   "cell_type": "code",
   "execution_count": null,
   "id": "aa7a4679",
   "metadata": {},
   "outputs": [],
   "source": [
    "data_dir_list = {\n",
    "cond_path /\"22-09_aLc1_scan6.12_line200-6400_sticky_runs/simulations\", \n",
    "cond_path /\"22-08-12_aLchr1_scan6.4_line800_sticky55nm_eps1_5um_Ke5-200/simulations\", \n",
    "cond_path /\"22-10-16_aLc1_line800_sticky55nm_kod.1-300/simulations\", \n",
    "cond_path /\"22-10-18_aLchr1_scan7.12_Ke30_kod3.05_line800_stickyL.01-.07/simulations\", \n",
    "cond_path /\"22-11-23_aLchr1_scan8.12_line800_Ke50_Ls55nm_kod.1-300/simulations\", \n",
    "cond_path /\"22-11-23_aLchr1_scan8.12_line800_sticky20nm_kod3_Ke1-200/simulations\", \n",
    "cond_path /\"22-11-23_aLchr1_scan7.12_line800_sticky10-70nm_kod3_Ke5/simulations\", \n",
    "cond_path /\"22-11-23_aLchr1_scan8.12_line800_Ke10_Ls55nm_kod.1-300/simulations\", \n",
    "}\n",
    "\n",
    "running_dir_list = {\n",
    "cond_path /\"22-10-18_aLchr1_scan7.12_Ke30_kod3.05_line800_2xLs.01-.07/simulations\", \n",
    "cond_path /\"22-12-08_aLc1_line800_Ke30_2xLs55nm_kod.1-300/simulations\", \n",
    "cond_path /\"22-12-08_aLchr1_scan8.12_line800_2xLs55nm_kod3_Ke1-200/simulations\", \n",
    "cond_path /\"22-12-07_aLchr1_scan8.12_line800_Ls55nm_kod3_Ke1-200/simulations\", \n",
    "cond_path /\"22-12-08_aLchr1_scan8.12_line800_Ls0.1-0.7_kod3_Ke1-200/simulations\"\n",
    "}"
   ]
  },
  {
   "cell_type": "code",
   "execution_count": null,
   "id": "44908b9c",
   "metadata": {},
   "outputs": [
    {
     "name": "stdout",
     "output_type": "stream",
     "text": [
      "22-08-12_aLchr1_scan6.4_line800_sticky55nm_eps1_5um_Ke5-200/simulations\n",
      "22-08-12_aLchr1_scan8.12_line800_sticky55nm_eps1_5um_Ke5-200/simulations\n",
      "22-09_aLc1_scan6.12_line200-6400_sticky_runs/simulations\n",
      "22-10-16_aLc1_line800_sticky55nm_kod.1-300/simulations\n",
      "22-10-18_aLchr1_scan7.12_Ke30_kod3.05_line800_2xLs.01-.07/simulations\n",
      "22-10-18_aLchr1_scan7.12_Ke30_kod3.05_line800_stickyL.01-.07/simulations\n",
      "22-11-23_aLchr1_scan7.12_line800_sticky10-70nm_kod3_Ke5/simulations\n",
      "22-11-23_aLchr1_scan8.12_line800_Ke10_Ls55nm_kod.1-300/simulations\n",
      "22-11-23_aLchr1_scan8.12_line800_Ke50_Ls55nm_kod.1-300/simulations\n",
      "22-11-23_aLchr1_scan8.12_line800_sticky20nm_kod3_Ke1-200/simulations\n",
      "22-12-07_aLchr1_scan8.12_line800_Ls55nm_kod3_Ke1-200/simulations\n",
      "22-12-08_aLc1_line800_Ke30_2xLs55nm_kod.1-300/simulations\n",
      "22-12-08_aLchr1_scan8.12_line800_2xLs55nm_kod3_Ke1-200/simulations\n",
      "22-12-08_aLchr1_scan8.12_line800_Ls0.1-0.7_kod3_Ke1-200/simulations\n"
     ]
    }
   ],
   "source": [
    "for pth in sorted(list(cond_path.glob(\"*/simulations\"))):\n",
    "    print(pth.relative_to(cond_path))"
   ]
  },
  {
   "cell_type": "markdown",
   "id": "e3a29692",
   "metadata": {},
   "source": [
    "## Connection matrix"
   ]
  },
  {
   "cell_type": "code",
   "execution_count": 17,
   "id": "9c7f8e04",
   "metadata": {},
   "outputs": [
    {
     "name": "stdout",
     "output_type": "stream",
     "text": [
      "['0', '0', '-0.0729312', '0.190561', '-0.147463', '-0.117474', '0.127417', '-0.118772', '0', '12']\n",
      "800\n"
     ]
    }
   ],
   "source": [
    "prot_dat_path = Path(\"/dev/shm/2xLs55nm_omp2/result/result0-399/ProteinAscii_1.dat\")\n",
    "syl_dat_path = Path(\"/dev/shm/2xLs55nm_omp2/result/result0-399/SylinderAscii_1.dat\")\n",
    "prots = arf.read_dat_xlp(prot_dat_path)\n",
    "syls = [fil.get_dat()\n",
    "            for fil in arf.read_dat_sylinder(syl_dat_path) \n",
    "            if (fil.fil_type != 'L')]\n",
    "print(prots[0].get_dat())\n",
    "# print(syls[50].gid)\n",
    "print(len(syls))\n",
    "n_beads = len(syls)\n",
    "\n"
   ]
  },
  {
   "cell_type": "code",
   "execution_count": 19,
   "id": "e452362a",
   "metadata": {},
   "outputs": [],
   "source": [
    "connect_mat = np.zeros((n_beads, n_beads))\n",
    "for prot in prots:\n",
    "    end0, end1 = map(int, prot.get_dat()[-2:])\n",
    "    if end0 < 0 or end1 < 0:\n",
    "        continue\n",
    "    connect_mat[end0, end1] += 1\n",
    "    # For undirected connections, make matrix symmetric\n",
    "    connect_mat[end1, end0] = connect_mat[end0, end1]"
   ]
  },
  {
   "cell_type": "code",
   "execution_count": 22,
   "id": "9c194342",
   "metadata": {},
   "outputs": [
    {
     "data": {
      "text/plain": [
       "<matplotlib.collections.PolyCollection at 0x7f493b7666a0>"
      ]
     },
     "execution_count": 22,
     "metadata": {},
     "output_type": "execute_result"
    },
    {
     "name": "stderr",
     "output_type": "stream",
     "text": [
      "findfont: Font family ['sans-serif'] not found. Falling back to DejaVu Sans.\n"
     ]
    },
    {
     "data": {
      "image/png": "[encoded data removed]",
      "text/plain": [
       "<Figure size 432x288 with 1 Axes>"
      ]
     },
     "metadata": {
      "needs_background": "light"
     },
     "output_type": "display_data"
    }
   ],
   "source": [
    "plt.pcolor(connect_mat)"
   ]
  },
  {
   "cell_type": "code",
   "execution_count": 23,
   "id": "4459b80a",
   "metadata": {},
   "outputs": [
    {
     "data": {
      "text/plain": [
       "3020.0"
      ]
     },
     "execution_count": 23,
     "metadata": {},
     "output_type": "execute_result"
    }
   ],
   "source": [
    "np.sum(connect_mat)"
   ]
  },
  {
   "cell_type": "code",
   "execution_count": 26,
   "id": "b90e54b9",
   "metadata": {},
   "outputs": [],
   "source": [
    "from scipy.sparse import csc_matrix\n",
    "csc_connect = csc_matrix((n_beads, n_beads))\n",
    "for prot in prots:\n",
    "    end0, end1 = map(int, prot.get_dat()[-2:])\n",
    "    if end0 < 0 or end1 < 0:\n",
    "        continue\n",
    "    csc_connect[end0, end1] += 1\n",
    "    # For undirected connections, make matrix symmetric\n",
    "    csc_connect[end1, end0] = csc_connect[end0, end1]"
   ]
  },
  {
   "cell_type": "code",
   "execution_count": 28,
   "id": "9c194342",
   "metadata": {},
   "outputs": [
    {
     "data": {
      "text/plain": [
       "<matplotlib.collections.PolyCollection at 0x7f48489553a0>"
      ]
     },
     "execution_count": 28,
     "metadata": {},
     "output_type": "execute_result"
    },
    {
     "data": {
      "image/png": "[encoded data removed]",
      "text/plain": [
       "<Figure size 432x288 with 1 Axes>"
      ]
     },
     "metadata": {
      "needs_background": "light"
     },
     "output_type": "display_data"
    }
   ],
   "source": [
    "plt.pcolor(csc_connect.toarray())"
   ]
  },
  {
   "cell_type": "code",
   "execution_count": 25,
   "id": "11807a9a",
   "metadata": {},
   "outputs": [
    {
     "data": {
      "text/plain": [
       "'1.5.2'"
      ]
     },
     "execution_count": 25,
     "metadata": {},
     "output_type": "execute_result"
    }
   ],
   "source": [
    "import scipy\n",
    "scipy.__version__"
   ]
  },
  {
   "cell_type": "code",
   "execution_count": null,
   "id": "4da2f98a",
   "metadata": {},
   "outputs": [],
   "source": []
  }
 ],
 "metadata": {
  "kernelspec": {
   "display_name": "Python 3.8.3 ('alens')",
   "language": "python",
   "name": "python3"
  },
  "language_info": {
   "codemirror_mode": {
    "name": "ipython",
    "version": 3
   },
   "file_extension": ".py",
   "mimetype": "text/x-python",
   "name": "python",
   "nbconvert_exporter": "python",
   "pygments_lexer": "ipython3",
   "version": "3.8.3"
  },
  "vscode": {
   "interpreter": {
    "hash": "04146d75943cb6a04ff81d0ce375eb0d834c6eb9906502527655c87a9ca8d951"
   }
  }
 },
 "nbformat": 4,
 "nbformat_minor": 5
}
