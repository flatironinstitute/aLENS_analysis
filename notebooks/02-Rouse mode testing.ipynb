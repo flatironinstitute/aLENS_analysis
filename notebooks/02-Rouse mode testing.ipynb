{
 "cells": [
  {
   "cell_type": "markdown",
   "id": "b8acf911",
   "metadata": {},
   "source": [
    "# Introduction\n",
    "State notebook purpose here"
   ]
  },
  {
   "cell_type": "markdown",
   "id": "ed060f65",
   "metadata": {},
   "source": [
    "### Imports\n",
    "Import libraries and write settings here."
   ]
  },
  {
   "cell_type": "code",
   "execution_count": 1,
   "id": "993ad021",
   "metadata": {
    "ExecuteTime": {
     "end_time": "2021-10-05T19:09:17.168370Z",
     "start_time": "2021-10-05T19:09:16.153118Z"
    }
   },
   "outputs": [
    {
     "data": {
      "text/html": [
       "<style>.container { width:80% !important; }</style>"
      ],
      "text/plain": [
       "<IPython.core.display.HTML object>"
      ]
     },
     "metadata": {},
     "output_type": "display_data"
    },
    {
     "name": "stderr",
     "output_type": "stream",
     "text": [
      "\n",
      "OPENMP DISPLAY ENVIRONMENT BEGIN\n",
      "  _OPENMP = '201511'\n",
      "  OMP_DYNAMIC = 'FALSE'\n",
      "  OMP_NESTED = 'FALSE'\n",
      "  OMP_NUM_THREADS = '32'\n",
      "  OMP_SCHEDULE = 'DYNAMIC'\n",
      "  OMP_PROC_BIND = 'FALSE'\n",
      "  OMP_PLACES = ''\n",
      "  OMP_STACKSIZE = '0'\n",
      "  OMP_WAIT_POLICY = 'PASSIVE'\n",
      "  OMP_THREAD_LIMIT = '4294967295'\n",
      "  OMP_MAX_ACTIVE_LEVELS = '1'\n",
      "  OMP_CANCELLATION = 'FALSE'\n",
      "  OMP_DEFAULT_DEVICE = '0'\n",
      "  OMP_MAX_TASK_PRIORITY = '0'\n",
      "  OMP_DISPLAY_AFFINITY = 'FALSE'\n",
      "  OMP_AFFINITY_FORMAT = 'level %L thread %i affinity %A'\n",
      "OPENMP DISPLAY ENVIRONMENT END\n"
     ]
    }
   ],
   "source": [
    "# Notebooks specific imports\n",
    "from IPython import get_ipython\n",
    "ipython = get_ipython()\n",
    "#Expand notebook display\n",
    "from IPython.core.display import display, HTML\n",
    "display(HTML(\"<style>.container { width:80% !important; }</style>\"))\n",
    "# Display all cell outputs\n",
    "from IPython.core.interactiveshell import InteractiveShell\n",
    "InteractiveShell.ast_node_interactivity = 'all'\n",
    "# autoreload extension\n",
    "if 'autoreload' not in ipython.extension_manager.loaded:\n",
    "    %load_ext autoreload\n",
    "%autoreload 2\n",
    "\n",
    "# Basic useful imports\n",
    "import re\n",
    "import time\n",
    "import yaml\n",
    "from pprint import pprint\n",
    "from pathlib import Path\n",
    "import h5py\n",
    "\n",
    "# Data manipulation\n",
    "import numpy as np\n",
    "from scipy.special import erf\n",
    "from scipy.integrate import quad\n",
    "\n",
    "# Visualization\n",
    "import matplotlib as mpl\n",
    "import matplotlib.pyplot as plt\n",
    "from matplotlib.lines import Line2D\n",
    "from matplotlib.patches import (Circle, RegularPolygon, FancyArrowPatch, ArrowStyle)\n",
    "from matplotlib.ticker import (MultipleLocator, FormatStrFormatter,\n",
    "                               AutoMinorLocator, NullFormatter)\n",
    "import matplotlib.colors as colors"
   ]
  },
  {
   "cell_type": "markdown",
   "id": "67689893",
   "metadata": {},
   "source": [
    "### Style settings"
   ]
  },
  {
   "cell_type": "code",
   "execution_count": 2,
   "id": "1c999d66",
   "metadata": {
    "ExecuteTime": {
     "end_time": "2021-10-05T19:09:17.185884Z",
     "start_time": "2021-10-05T19:09:17.171453Z"
    }
   },
   "outputs": [],
   "source": [
    "graph_sty = {\n",
    "    \"axes.titlesize\": 20,\n",
    "    \"axes.labelsize\": 24,\n",
    "    \"lines.linewidth\": 3,\n",
    "    \"lines.markersize\": 10,\n",
    "    \"xtick.labelsize\": 24,\n",
    "    \"ytick.labelsize\": 24,\n",
    "    \"font.size\": 20,\n",
    "    \"font.sans-serif\": 'Helvetica',\n",
    "    \"text.usetex\": False,\n",
    "    'mathtext.fontset': 'cm',\n",
    "}\n",
    "plt.style.use(graph_sty)\n",
    "        "
   ]
  },
  {
   "cell_type": "markdown",
   "id": "61177d0f",
   "metadata": {
    "heading_collapsed": true
   },
   "source": [
    "# Line/Rouse mode testing"
   ]
  },
  {
   "cell_type": "markdown",
   "id": "f1e93d97",
   "metadata": {
    "heading_collapsed": true,
    "hidden": true
   },
   "source": [
    "## 512 line scan dt.001-.1"
   ]
  },
  {
   "cell_type": "markdown",
   "id": "030baac0",
   "metadata": {
    "heading_collapsed": true,
    "hidden": true
   },
   "source": [
    "### dt0.1"
   ]
  },
  {
   "cell_type": "code",
   "execution_count": null,
   "id": "e01d4766",
   "metadata": {
    "ExecuteTime": {
     "end_time": "2021-04-26T19:48:32.150833Z",
     "start_time": "2021-04-26T19:45:36.057348Z"
    },
    "hidden": true,
    "scrolled": false
   },
   "outputs": [],
   "source": [
    "data_path = (ceph_path /\"21-04-23_AMchr1_line512_scan5.1_dt.001-.1/simulations/dt0.100/\")\n",
    "ss_ind = 0\n",
    "with h5py.File(next(data_path.glob('*.h5')), 'r+') as h5_data:\n",
    "    time_arr = h5_data['time'][ss_ind:]\n",
    "    sy_dat = h5_data['raw_data']['sylinders'][:,:,ss_ind:]\n",
    "    nbeads = com_arr.shape[0]\n",
    "    com_arr = .5 * (sy_dat[:, 2:5, :] + sy_dat[:, 5:8, :])\n",
    "    mode_mat = get_rouse_modes(com_arr)\n",
    "    \n",
    "    ##com_arr = .5 * (sy_dat[:, 2:5, :] + sy_dat[:, 5:8, :])\n",
    "log_contact_avg_mat = aa.get_time_avg_contact_mat(com_arr, avg_block_step = 4)\n",
    "mode_mat = get_rouse_modes(com_arr)\n",
    "\n",
    "#Graphing\n",
    "make_segment_distr_graphs(com_arr, [], [0,1], 1,2)\n",
    "fig1, ax1 = aa.make_min_distr_plots(com_arr, log_contact_avg_mat, rel_ind=0, hist_max=1.)\n",
    "fig2, ax2 = make_total_distr_plots(com_arr, log_contact_avg_mat, rel_ind=0, hist_max=1.)\n",
    "make_rouse_analysis_plots(time_arr, mode_mat, nbeads, max_ind=40)\n",
    "\n"
   ]
  },
  {
   "cell_type": "markdown",
   "id": "555503b6",
   "metadata": {
    "heading_collapsed": true,
    "hidden": true
   },
   "source": [
    "### dt0.030"
   ]
  },
  {
   "cell_type": "code",
   "execution_count": null,
   "id": "61220ff6",
   "metadata": {
    "ExecuteTime": {
     "end_time": "2021-04-26T19:56:22.604286Z",
     "start_time": "2021-04-26T19:53:06.469303Z"
    },
    "hidden": true,
    "scrolled": false
   },
   "outputs": [],
   "source": [
    "data_path = (ceph_path /\"21-04-23_AMchr1_line512_scan5.1_dt.001-.1/simulations/dt0.030/\")\n",
    "ss_ind = 0\n",
    "with h5py.File(next(data_path.glob('*.h5')), 'r+') as h5_data:\n",
    "    time_arr = h5_data['time'][ss_ind:]\n",
    "    sy_dat = h5_data['raw_data']['sylinders'][:,:,ss_ind:]\n",
    "    nbeads = com_arr.shape[0]\n",
    "    com_arr = .5 * (sy_dat[:, 2:5, :] + sy_dat[:, 5:8, :])\n",
    "    mode_mat = get_rouse_modes(com_arr)\n",
    "    \n",
    "    ##com_arr = .5 * (sy_dat[:, 2:5, :] + sy_dat[:, 5:8, :])\n",
    "log_contact_avg_mat = aa.get_time_avg_contact_mat(com_arr, avg_block_step = 4)\n",
    "mode_mat = get_rouse_modes(com_arr)\n",
    "\n",
    "# Graphing\n",
    "make_segment_distr_graphs(com_arr, [], [0,1], 1,2)\n",
    "fig1, ax1 = aa.make_min_distr_plots(com_arr, log_contact_avg_mat, rel_ind=0, hist_max=1.)\n",
    "fig2, ax2 = make_total_distr_plots(com_arr, log_contact_avg_mat, rel_ind=0, hist_max=1.)\n",
    "make_rouse_analysis_plots(time_arr, mode_mat, nbeads, max_ind=40)"
   ]
  },
  {
   "cell_type": "markdown",
   "id": "76951e0c",
   "metadata": {
    "heading_collapsed": true,
    "hidden": true
   },
   "source": [
    "### dt0.01"
   ]
  },
  {
   "cell_type": "code",
   "execution_count": null,
   "id": "17448dde",
   "metadata": {
    "ExecuteTime": {
     "end_time": "2021-04-26T19:53:06.189761Z",
     "start_time": "2021-04-26T19:50:15.320760Z"
    },
    "hidden": true,
    "scrolled": false
   },
   "outputs": [],
   "source": [
    "data_path = (ceph_path /\"21-04-23_AMchr1_line512_scan5.1_dt.001-.1/simulations/dt0.010/\")\n",
    "ss_ind = 0\n",
    "with h5py.File(next(data_path.glob('*.h5')), 'r+') as h5_data:\n",
    "    time_arr = h5_data['time'][ss_ind:]\n",
    "    sy_dat = h5_data['raw_data']['sylinders'][:,:,ss_ind:]\n",
    "    nbeads = com_arr.shape[0]\n",
    "    com_arr = .5 * (sy_dat[:, 2:5, :] + sy_dat[:, 5:8, :])\n",
    "    mode_mat = get_rouse_modes(com_arr)\n",
    "    \n",
    "    ##com_arr = .5 * (sy_dat[:, 2:5, :] + sy_dat[:, 5:8, :])\n",
    "log_contact_avg_mat = aa.get_time_avg_contact_mat(com_arr, avg_block_step = 4)\n",
    "mode_mat = get_rouse_modes(com_arr)\n",
    "\n",
    "# Graphing\n",
    "make_segment_distr_graphs(com_arr, [], [0,1], 1,2)\n",
    "fig1, ax1 = aa.make_min_distr_plots(com_arr, log_contact_avg_mat, rel_ind=0, hist_max=1.)\n",
    "fig2, ax2 = make_total_distr_plots(com_arr, log_contact_avg_mat, rel_ind=0, hist_max=1.)\n",
    "make_rouse_analysis_plots(time_arr, mode_mat, nbeads, max_ind=40)"
   ]
  },
  {
   "cell_type": "markdown",
   "id": "0dea8d8d",
   "metadata": {
    "heading_collapsed": true,
    "hidden": true
   },
   "source": [
    "### dt0.003"
   ]
  },
  {
   "cell_type": "code",
   "execution_count": null,
   "id": "da6124cb",
   "metadata": {
    "ExecuteTime": {
     "end_time": "2021-04-27T20:39:58.564425Z",
     "start_time": "2021-04-27T20:37:07.081969Z"
    },
    "hidden": true,
    "scrolled": false
   },
   "outputs": [],
   "source": [
    "data_path = (ceph_path /\"21-04-23_AMchr1_line512_scan5.1_dt.001-.1/simulations/dt0.003/\")\n",
    "ss_ind = 0\n",
    "with h5py.File(next(data_path.glob('*.h5')), 'r+') as h5_data:\n",
    "    time_arr = h5_data['time'][ss_ind:]\n",
    "    sy_dat = h5_data['raw_data']['sylinders'][:,:,ss_ind:]\n",
    "    nbeads = com_arr.shape[0]\n",
    "    com_arr = .5 * (sy_dat[:, 2:5, :] + sy_dat[:, 5:8, :])\n",
    "    mode_mat = get_rouse_modes(com_arr)\n",
    "    \n",
    "    ##com_arr = .5 * (sy_dat[:, 2:5, :] + sy_dat[:, 5:8, :])\n",
    "log_contact_avg_mat = aa.get_time_avg_contact_mat(com_arr, avg_block_step = 4)\n",
    "mode_mat = get_rouse_modes(com_arr)\n",
    "\n",
    "# Graphing\n",
    "make_segment_distr_graphs(com_arr, [], [0,1], 1,2)\n",
    "fig1, ax1 = aa.make_min_distr_plots(com_arr, log_contact_avg_mat, rel_ind=0, hist_max=1.)\n",
    "fig2, ax2 = make_total_distr_plots(com_arr, log_contact_avg_mat, rel_ind=0, hist_max=1.)\n",
    "make_rouse_analysis_plots(time_arr, mode_mat, nbeads, max_ind=40)"
   ]
  },
  {
   "cell_type": "markdown",
   "id": "15a03c95",
   "metadata": {
    "heading_collapsed": true,
    "hidden": true
   },
   "source": [
    "### dt0.001"
   ]
  },
  {
   "cell_type": "code",
   "execution_count": null,
   "id": "a2ddcbfe",
   "metadata": {
    "ExecuteTime": {
     "start_time": "2021-04-26T19:50:15.318Z"
    },
    "hidden": true,
    "scrolled": false
   },
   "outputs": [],
   "source": [
    "data_path = (ceph_path /\"21-04-23_AMchr1_line512_scan5.1_dt.001-.1/simulations/dt0.001/\")\n",
    "ss_ind = 0\n",
    "with h5py.File(next(data_path.glob('*.h5')), 'r+') as h5_data:\n",
    "    time_arr = h5_data['time'][ss_ind:]\n",
    "    sy_dat = h5_data['raw_data']['sylinders'][:,:,ss_ind:]\n",
    "    nbeads = com_arr.shape[0]\n",
    "    com_arr = .5 * (sy_dat[:, 2:5, :] + sy_dat[:, 5:8, :])\n",
    "    mode_mat = get_rouse_modes(com_arr)\n",
    "    \n",
    "    ##com_arr = .5 * (sy_dat[:, 2:5, :] + sy_dat[:, 5:8, :])\n",
    "log_contact_avg_mat = aa.get_time_avg_contact_mat(com_arr, avg_block_step = 4)\n",
    "mode_mat = get_rouse_modes(com_arr)\n",
    "\n",
    "# Graphing\n",
    "make_segment_distr_graphs(com_arr, [], [0,1], 1,2)\n",
    "fig1, ax1 = aa.make_min_distr_plots(com_arr, log_contact_avg_mat, rel_ind=0, hist_max=1.)\n",
    "fig2, ax2 = make_total_distr_plots(com_arr, log_contact_avg_mat, rel_ind=0, hist_max=1.)\n",
    "make_rouse_analysis_plots(time_arr, mode_mat, nbeads, max_ind=40)"
   ]
  },
  {
   "cell_type": "markdown",
   "id": "653bd937",
   "metadata": {
    "heading_collapsed": true,
    "hidden": true
   },
   "source": [
    "## 512 RS line scan dt.001-.1"
   ]
  },
  {
   "cell_type": "markdown",
   "id": "9e9419fe",
   "metadata": {
    "heading_collapsed": true,
    "hidden": true
   },
   "source": [
    "### dt0.1"
   ]
  },
  {
   "cell_type": "code",
   "execution_count": null,
   "id": "08d40473",
   "metadata": {
    "ExecuteTime": {
     "end_time": "2021-04-27T20:47:55.223334Z",
     "start_time": "2021-04-27T20:41:57.458149Z"
    },
    "hidden": true,
    "scrolled": false
   },
   "outputs": [],
   "source": [
    "data_path = (ceph_path /\"21-04-23_AMchr1_RS_line512_scan5.1_dt.001-.1/simulations/dt0.100/\")\n",
    "ss_ind = 0\n",
    "with h5py.File(next(data_path.glob('*.h5')), 'r+') as h5_data:\n",
    "    time_arr = h5_data['time'][ss_ind:]\n",
    "    sy_dat = h5_data['raw_data']['sylinders'][:,:,ss_ind:]\n",
    "    nbeads = com_arr.shape[0]\n",
    "    com_arr = .5 * (sy_dat[:, 2:5, :] + sy_dat[:, 5:8, :])\n",
    "    mode_mat = get_rouse_modes(com_arr)\n",
    "    \n",
    "    ##com_arr = .5 * (sy_dat[:, 2:5, :] + sy_dat[:, 5:8, :])\n",
    "log_contact_avg_mat = aa.get_time_avg_contact_mat(com_arr, avg_block_step = 4)\n",
    "mode_mat = get_rouse_modes(com_arr)\n",
    "\n",
    "#Graphing\n",
    "make_segment_distr_graphs(com_arr, [], [0,1], 1,2)\n",
    "fig1, ax1 = aa.make_min_distr_plots(com_arr, log_contact_avg_mat, rel_ind=0, hist_max=1.)\n",
    "#fig2, ax2 = make_total_distr_plots(com_arr, log_contact_avg_mat, rel_ind=0, hist_max=1.)\n",
    "make_rouse_analysis_plots(time_arr, mode_mat, nbeads, max_ind=80)\n",
    "\n"
   ]
  },
  {
   "cell_type": "markdown",
   "id": "717c98b9",
   "metadata": {
    "heading_collapsed": true,
    "hidden": true
   },
   "source": [
    "### dt0.030"
   ]
  },
  {
   "cell_type": "code",
   "execution_count": null,
   "id": "2c983fc5",
   "metadata": {
    "ExecuteTime": {
     "end_time": "2021-04-27T20:53:50.152125Z",
     "start_time": "2021-04-27T20:47:55.473953Z"
    },
    "hidden": true,
    "scrolled": false
   },
   "outputs": [],
   "source": [
    "data_path = (ceph_path /\"21-04-23_AMchr1_RS_line512_scan5.1_dt.001-.1/simulations/dt0.030/\")\n",
    "ss_ind = 0\n",
    "with h5py.File(next(data_path.glob('*.h5')), 'r+') as h5_data:\n",
    "    time_arr = h5_data['time'][ss_ind:]\n",
    "    sy_dat = h5_data['raw_data']['sylinders'][:,:,ss_ind:]\n",
    "    nbeads = com_arr.shape[0]\n",
    "    com_arr = .5 * (sy_dat[:, 2:5, :] + sy_dat[:, 5:8, :])\n",
    "    mode_mat = get_rouse_modes(com_arr)\n",
    "    \n",
    "    ##com_arr = .5 * (sy_dat[:, 2:5, :] + sy_dat[:, 5:8, :])\n",
    "log_contact_avg_mat = aa.get_time_avg_contact_mat(com_arr, avg_block_step = 4)\n",
    "mode_mat = get_rouse_modes(com_arr)\n",
    "\n",
    "# Graphing\n",
    "make_segment_distr_graphs(com_arr, [], [0,1], 1,2)\n",
    "fig1, ax1 = aa.make_min_distr_plots(com_arr, log_contact_avg_mat, rel_ind=0, hist_max=1.)\n",
    "#fig2, ax2 = make_total_distr_plots(com_arr, log_contact_avg_mat, rel_ind=0, hist_max=1.)\n",
    "make_rouse_analysis_plots(time_arr, mode_mat, nbeads, max_ind=40)"
   ]
  },
  {
   "cell_type": "markdown",
   "id": "e9b45434",
   "metadata": {
    "heading_collapsed": true,
    "hidden": true
   },
   "source": [
    "### dt0.01"
   ]
  },
  {
   "cell_type": "code",
   "execution_count": null,
   "id": "6e2a9598",
   "metadata": {
    "ExecuteTime": {
     "end_time": "2021-04-27T21:07:28.675005Z",
     "start_time": "2021-04-27T21:00:56.542257Z"
    },
    "hidden": true,
    "scrolled": false
   },
   "outputs": [],
   "source": [
    "data_path = (ceph_path /\"21-04-23_AMchr1_RS_line512_scan5.1_dt.001-.1/simulations/dt0.010/\")\n",
    "ss_ind = 0\n",
    "with h5py.File(next(data_path.glob('*.h5')), 'r+') as h5_data:\n",
    "    time_arr = h5_data['time'][ss_ind:]\n",
    "    sy_dat = h5_data['raw_data']['sylinders'][:,:,ss_ind:]\n",
    "    nbeads = com_arr.shape[0]\n",
    "    com_arr = .5 * (sy_dat[:, 2:5, :] + sy_dat[:, 5:8, :])\n",
    "    mode_mat = get_rouse_modes(com_arr)\n",
    "    \n",
    "    ##com_arr = .5 * (sy_dat[:, 2:5, :] + sy_dat[:, 5:8, :])\n",
    "log_contact_avg_mat = aa.get_time_avg_contact_mat(com_arr, avg_block_step = 4)\n",
    "mode_mat = get_rouse_modes(com_arr)\n",
    "\n",
    "# Graphing\n",
    "make_segment_distr_graphs(com_arr, [], [0,1], 1,2)\n",
    "fig1, ax1 = aa.make_min_distr_plots(com_arr, log_contact_avg_mat, rel_ind=0, hist_max=1.)\n",
    "#fig2, ax2 = make_total_distr_plots(com_arr, log_contact_avg_mat, rel_ind=0, hist_max=1.)\n",
    "make_rouse_analysis_plots(time_arr, mode_mat, nbeads, max_ind=40)"
   ]
  },
  {
   "cell_type": "markdown",
   "id": "87f28478",
   "metadata": {
    "heading_collapsed": true,
    "hidden": true
   },
   "source": [
    "### dt0.003"
   ]
  },
  {
   "cell_type": "code",
   "execution_count": null,
   "id": "d30ea94e",
   "metadata": {
    "ExecuteTime": {
     "end_time": "2021-04-26T20:08:22.070250Z",
     "start_time": "2021-04-26T20:05:30.933919Z"
    },
    "hidden": true,
    "scrolled": false
   },
   "outputs": [],
   "source": [
    "data_path = (ceph_path /\"21-04-23_AMchr1_RS_line512_scan5.1_dt.001-.1/simulations/dt0.003/\")\n",
    "ss_ind = 0\n",
    "with h5py.File(next(data_path.glob('*.h5')), 'r+') as h5_data:\n",
    "    time_arr = h5_data['time'][ss_ind:]\n",
    "    sy_dat = h5_data['raw_data']['sylinders'][:,:,ss_ind:]\n",
    "    nbeads = com_arr.shape[0]\n",
    "    com_arr = .5 * (sy_dat[:, 2:5, :] + sy_dat[:, 5:8, :])\n",
    "    mode_mat = get_rouse_modes(com_arr)\n",
    "    \n",
    "    ##com_arr = .5 * (sy_dat[:, 2:5, :] + sy_dat[:, 5:8, :])\n",
    "log_contact_avg_mat = aa.get_time_avg_contact_mat(com_arr, avg_block_step = 4)\n",
    "mode_mat = get_rouse_modes(com_arr)\n",
    "\n",
    "# Graphing\n",
    "make_segment_distr_graphs(com_arr, [], [0,1], 1,2)\n",
    "fig1, ax1 = aa.make_min_distr_plots(com_arr, log_contact_avg_mat, rel_ind=0, hist_max=1.)\n",
    "fig2, ax2 = make_total_distr_plots(com_arr, log_contact_avg_mat, rel_ind=0, hist_max=1.)\n",
    "make_rouse_analysis_plots(time_arr, mode_mat, nbeads, max_ind=40)"
   ]
  },
  {
   "cell_type": "code",
   "execution_count": null,
   "id": "bdbc057d",
   "metadata": {
    "ExecuteTime": {
     "end_time": "2021-04-26T20:56:06.560705Z",
     "start_time": "2021-04-26T20:55:56.719077Z"
    },
    "hidden": true,
    "scrolled": false
   },
   "outputs": [],
   "source": [
    "# Graphing\n",
    "#make_segment_distr_graphs(com_arr, [], [0,1], 1,2)\n",
    "#fig1, ax1 = aa.make_min_distr_plots(com_arr, log_contact_avg_mat, rel_ind=0, hist_max=1.)\n",
    "#fig2, ax2 = make_total_distr_plots(com_arr, log_contact_avg_mat, rel_ind=0, hist_max=1.)\n",
    "make_rouse_analysis_plots(time_arr, mode_mat, nbeads, max_ind=100)"
   ]
  },
  {
   "cell_type": "markdown",
   "id": "9429aa9f",
   "metadata": {
    "hidden": true
   },
   "source": [
    "### dt0.001"
   ]
  },
  {
   "cell_type": "code",
   "execution_count": null,
   "id": "7a7a77ce",
   "metadata": {
    "ExecuteTime": {
     "start_time": "2021-04-26T19:50:15.318Z"
    },
    "hidden": true,
    "scrolled": false
   },
   "outputs": [],
   "source": [
    "data_path = (ceph_path /\"21-04-23_AMchr1_RS_line512_scan5.1_dt.001-.1/simulations/dt0.001/\")\n",
    "ss_ind = 0\n",
    "with h5py.File(next(data_path.glob('*.h5')), 'r+') as h5_data:\n",
    "    time_arr = h5_data['time'][ss_ind:]\n",
    "    sy_dat = h5_data['raw_data']['sylinders'][:,:,ss_ind:]\n",
    "    nbeads = com_arr.shape[0]\n",
    "    com_arr = .5 * (sy_dat[:, 2:5, :] + sy_dat[:, 5:8, :])\n",
    "    mode_mat = get_rouse_modes(com_arr)\n",
    "    \n",
    "    ##com_arr = .5 * (sy_dat[:, 2:5, :] + sy_dat[:, 5:8, :])\n",
    "log_contact_avg_mat = aa.get_time_avg_contact_mat(com_arr, avg_block_step = 4)\n",
    "mode_mat = get_rouse_modes(com_arr)\n",
    "\n",
    "# Graphing\n",
    "make_segment_distr_graphs(com_arr, [], [0,1], 1,2)\n",
    "fig1, ax1 = aa.make_min_distr_plots(com_arr, log_contact_avg_mat, rel_ind=0, hist_max=1.)\n",
    "fig2, ax2 = make_total_distr_plots(com_arr, log_contact_avg_mat, rel_ind=0, hist_max=1.)\n",
    "make_rouse_analysis_plots(time_arr, mode_mat, nbeads, max_ind=40)"
   ]
  },
  {
   "cell_type": "markdown",
   "id": "5a11bdc0",
   "metadata": {
    "heading_collapsed": true,
    "hidden": true
   },
   "source": [
    "## 512 RS $l_o=0$ line"
   ]
  },
  {
   "cell_type": "code",
   "execution_count": null,
   "id": "cec25b6f",
   "metadata": {
    "ExecuteTime": {
     "end_time": "2021-05-06T19:15:58.002223Z",
     "start_time": "2021-05-06T19:13:10.989138Z"
    },
    "hidden": true,
    "scrolled": false
   },
   "outputs": [],
   "source": [
    "data_path = (ceph_path /\"21-04-29_AMchr1_RS_line512_lo0/\")\n",
    "ss_ind = 0\n",
    "with h5py.File(next(data_path.glob('*.h5')), 'r+') as h5_data:\n",
    "    time_arr = h5_data['time'][ss_ind:]\n",
    "    sy_dat = h5_data['raw_data']['sylinders'][:,:,ss_ind:]\n",
    "    nbeads = com_arr.shape[0]\n",
    "    com_arr = .5 * (sy_dat[:, 2:5, :] + sy_dat[:, 5:8, :])\n",
    "    \n",
    "    ##com_arr = .5 * (sy_dat[:, 2:5, :] + sy_dat[:, 5:8, :])\n",
    "log_contact_avg_mat = aa.get_time_avg_contact_mat(com_arr, avg_block_step = 4)\n",
    "mode_mat = get_rouse_modes(com_arr)\n",
    "\n",
    "# Graphing\n",
    "make_segment_distr_graphs(com_arr, [], [0,1], 1,2)\n",
    "fig1, ax1 = aa.make_min_distr_plots(com_arr, log_contact_avg_mat, rel_ind=0, hist_max=1.)\n",
    "fig2, ax2 = make_total_distr_plots(com_arr, log_contact_avg_mat, rel_ind=0, hist_max=1.)\n",
    "make_rouse_analysis_plots(time_arr, mode_mat, nbeads, max_ind=20)"
   ]
  },
  {
   "cell_type": "markdown",
   "id": "38dde3bd",
   "metadata": {
    "heading_collapsed": true,
    "hidden": true
   },
   "source": [
    "## 512 RS $l_o=0$ line equil"
   ]
  },
  {
   "cell_type": "code",
   "execution_count": null,
   "id": "d6ff0d99",
   "metadata": {
    "ExecuteTime": {
     "end_time": "2021-05-11T15:43:02.243064Z",
     "start_time": "2021-05-11T15:42:52.952560Z"
    },
    "hidden": true,
    "scrolled": false
   },
   "outputs": [],
   "source": [
    "data_path = (ceph_path /\"21-05-07_AMchr1_RS_line512eq_lo0/\")\n",
    "ss_ind = 0\n",
    "with h5py.File(next(data_path.glob('*.h5')), 'r+') as h5_data:\n",
    "    time_arr = h5_data['time'][ss_ind:]\n",
    "    sy_dat = h5_data['raw_data']['sylinders'][:,:,ss_ind:]\n",
    "    nbeads = com_arr.shape[0]\n",
    "    com_arr = .5 * (sy_dat[:, 2:5, :] + sy_dat[:, 5:8, :])\n",
    "    \n",
    "    ##com_arr = .5 * (sy_dat[:, 2:5, :] + sy_dat[:, 5:8, :])\n",
    "log_contact_avg_mat = aa.get_time_avg_contact_mat(com_arr, avg_block_step = 4)\n",
    "mode_mat = get_rouse_modes(com_arr)\n",
    "\n",
    "# Graphing\n",
    "fig0, ax0 = make_segment_distr_graphs(com_arr, [], [0,1], 1,2)\n",
    "fig1, ax1 = aa.make_min_distr_plots(com_arr, log_contact_avg_mat, rel_ind=0, hist_max=1.)\n",
    "fig2, ax2 = make_rouse_analysis_plots(time_arr, mode_mat, nbeads, max_ind=40)"
   ]
  },
  {
   "cell_type": "markdown",
   "id": "41153bd8",
   "metadata": {
    "heading_collapsed": true,
    "hidden": true
   },
   "source": [
    "## 512 RS $l_o=0, k_l=36.50$ line"
   ]
  },
  {
   "cell_type": "code",
   "execution_count": null,
   "id": "9761184f",
   "metadata": {
    "ExecuteTime": {
     "end_time": "2021-05-07T14:19:37.366701Z",
     "start_time": "2021-05-07T14:16:51.334522Z"
    },
    "hidden": true,
    "scrolled": false
   },
   "outputs": [],
   "source": [
    "data_path = (ceph_path /\"21-04-29_AMchr1_RS_line512_lo0_kl36.50/\")\n",
    "ss_ind = 0\n",
    "with h5py.File(next(data_path.glob('*.h5')), 'r+') as h5_data:\n",
    "    time_arr = h5_data['time'][ss_ind:]\n",
    "    sy_dat = h5_data['raw_data']['sylinders'][:,:,ss_ind:]\n",
    "    nbeads = com_arr.shape[0]\n",
    "    com_arr = .5 * (sy_dat[:, 2:5, :] + sy_dat[:, 5:8, :])\n",
    "\n",
    "log_contact_avg_mat = aa.get_time_avg_contact_mat(com_arr, avg_block_step = 4)\n",
    "mode_mat = get_rouse_modes(com_arr)\n",
    "\n",
    "# Graphing\n",
    "fig0, ax0 = make_segment_distr_graphs(com_arr, [], [0,1], 1,2)\n",
    "fig1, ax1 = aa.make_min_distr_plots(com_arr, log_contact_avg_mat, rel_ind=0, hist_max=1.)\n",
    "fig2, ax2 = make_rouse_analysis_plots(time_arr, mode_mat, nbeads, max_ind=40)"
   ]
  },
  {
   "cell_type": "markdown",
   "id": "3b2c3d76",
   "metadata": {
    "heading_collapsed": true,
    "hidden": true
   },
   "source": [
    "## 512 RS $l_o=0, k_l=36.50$ line equil"
   ]
  },
  {
   "cell_type": "code",
   "execution_count": null,
   "id": "05a7ef55",
   "metadata": {
    "ExecuteTime": {
     "end_time": "2021-05-11T15:44:42.215182Z",
     "start_time": "2021-05-11T15:44:30.842566Z"
    },
    "hidden": true,
    "scrolled": false
   },
   "outputs": [],
   "source": [
    "data_path = (ceph_path /\"21-05-05_AMchr1_RS_line512_lo0_kl36.50/\")\n",
    "ss_ind = 0\n",
    "with h5py.File(next(data_path.glob('*.h5')), 'r+') as h5_data:\n",
    "    time_arr = h5_data['time'][ss_ind:]\n",
    "    sy_dat = h5_data['raw_data']['sylinders'][:,:,ss_ind:]\n",
    "    nbeads = com_arr.shape[0]\n",
    "    com_arr = .5 * (sy_dat[:, 2:5, :] + sy_dat[:, 5:8, :])\n",
    "    \n",
    "log_contact_avg_mat = aa.get_time_avg_contact_mat(com_arr, avg_block_step = 4)\n",
    "mode_mat = get_rouse_modes(com_arr)\n",
    "\n",
    "# Graphing\n",
    "fig0, ax0 = make_segment_distr_graphs(com_arr, [], [0,1], 1,2)\n",
    "fig1, ax1 = aa.make_min_distr_plots(com_arr, log_contact_avg_mat, rel_ind=0, hist_max=1.)\n",
    "fig2, ax2 = make_rouse_analysis_plots(time_arr, mode_mat, nbeads, max_ind=40)"
   ]
  },
  {
   "cell_type": "markdown",
   "id": "7d520c0e",
   "metadata": {
    "heading_collapsed": true,
    "hidden": true
   },
   "source": [
    "## 512 RS $l_o=0, k_l=36.50, dt=.003$ line equil"
   ]
  },
  {
   "cell_type": "code",
   "execution_count": null,
   "id": "b936955b",
   "metadata": {
    "ExecuteTime": {
     "end_time": "2021-05-13T21:02:34.462085Z",
     "start_time": "2021-05-13T21:02:23.845017Z"
    },
    "hidden": true,
    "scrolled": false
   },
   "outputs": [],
   "source": [
    "data_path = (ceph_path /\"21-05-05_AMchr1_RS_line512_lo0_kl36.50_dt.003/\")\n",
    "ss_ind = 0\n",
    "with h5py.File(next(data_path.glob('*.h5')), 'r+') as h5_data:\n",
    "    time_arr = h5_data['time'][ss_ind:]\n",
    "    sy_dat = h5_data['raw_data']['sylinders'][:,:,ss_ind:]\n",
    "    nbeads = com_arr.shape[0]\n",
    "    com_arr = .5 * (sy_dat[:, 2:5, :] + sy_dat[:, 5:8, :])\n",
    "    #mode_mat = get_rouse_modes(com_arr)\n",
    "\n",
    "log_contact_avg_mat = aa.get_time_avg_contact_mat(com_arr, avg_block_step = 4)\n",
    "mode_mat = get_rouse_modes(com_arr)\n",
    "\n",
    "# Graphing\n",
    "fig0, ax0 = make_segment_distr_graphs(com_arr, [], [0,1], 1,2)\n",
    "fig1, ax1 = aa.make_min_distr_plots(com_arr, log_contact_avg_mat, rel_ind=0, hist_max=1.)\n",
    "fig2, ax2 = make_rouse_analysis_plots(time_arr, mode_mat, nbeads, max_ind=40)"
   ]
  },
  {
   "cell_type": "markdown",
   "id": "2ae059a0",
   "metadata": {
    "heading_collapsed": true,
    "hidden": true
   },
   "source": [
    "## 512 RS $l_o=0, k_l=36.50, dt=.0001, \\eta=1.0$ line equil"
   ]
  },
  {
   "cell_type": "code",
   "execution_count": null,
   "id": "7318f265",
   "metadata": {
    "ExecuteTime": {
     "end_time": "2021-05-13T21:01:26.458548Z",
     "start_time": "2021-05-13T21:01:24.333296Z"
    },
    "hidden": true,
    "scrolled": false
   },
   "outputs": [],
   "source": [
    "data_path = (ceph_path /\"21-05-11_AMchr1_RS_line512eq_lo0_kl36.50_visc1.0/\")\n",
    "ss_ind = 0\n",
    "with h5py.File(next(data_path.glob('*.h5')), 'r+') as h5_data:\n",
    "    time_arr = h5_data['time'][ss_ind:]\n",
    "    sy_dat = h5_data['raw_data']['sylinders'][:,:,ss_ind:]\n",
    "    nbeads = com_arr.shape[0]\n",
    "    com_arr = .5 * (sy_dat[:, 2:5, :] + sy_dat[:, 5:8, :])\n",
    "    #mode_mat = get_rouse_modes(com_arr)\n",
    "\n",
    "log_contact_avg_mat = aa.get_time_avg_contact_mat(com_arr, avg_block_step = 4)\n",
    "mode_mat = get_rouse_modes(com_arr)\n",
    "\n",
    "# Graphing\n",
    "fig0, ax0 = make_segment_distr_graphs(com_arr, [], [0,1], 1,2)\n",
    "fig1, ax1 = aa.make_min_distr_plots(com_arr, log_contact_avg_mat, rel_ind=0, hist_max=1.)\n",
    "fig2, ax2 = make_rouse_analysis_plots(time_arr, mode_mat, nbeads, max_ind=40)"
   ]
  },
  {
   "cell_type": "markdown",
   "id": "3237afb3",
   "metadata": {
    "hidden": true
   },
   "source": [
    "## 512 RS $l_o=0, k_l=36.50, dt=.0001, \\eta=1.0, ts=.1$ line equil"
   ]
  },
  {
   "cell_type": "code",
   "execution_count": null,
   "id": "27054cfe",
   "metadata": {
    "ExecuteTime": {
     "end_time": "2021-05-13T20:59:09.254579Z",
     "start_time": "2021-05-13T20:58:58.296722Z"
    },
    "hidden": true,
    "scrolled": false
   },
   "outputs": [],
   "source": [
    "data_path = (ceph_path /\"21-05-12_AMchr1_RS_line512eq_lo0_kl36.50_visc1.0_ts.1/\")\n",
    "ss_ind = 0\n",
    "with h5py.File(next(data_path.glob('*.h5')), 'r+') as h5_data:\n",
    "    time_arr = h5_data['time'][ss_ind:]\n",
    "    sy_dat = h5_data['raw_data']['sylinders'][:,:,ss_ind:]\n",
    "    nbeads = com_arr.shape[0]\n",
    "    com_arr = .5 * (sy_dat[:, 2:5, :] + sy_dat[:, 5:8, :])\n",
    "    #mode_mat = get_rouse_modes(com_arr)\n",
    "\n",
    "log_contact_avg_mat = aa.get_time_avg_contact_mat(com_arr, avg_block_step = 4)\n",
    "mode_mat = get_rouse_modes(com_arr)\n",
    "\n",
    "# Graphing\n",
    "fig0, ax0 = make_segment_distr_graphs(com_arr, [], [0,1], 1,2)\n",
    "fig1, ax1 = aa.make_min_distr_plots(com_arr, log_contact_avg_mat, rel_ind=0, hist_max=1.)\n",
    "fig2, ax2 = make_rouse_analysis_plots(time_arr, mode_mat, nbeads, max_ind=50)"
   ]
  },
  {
   "cell_type": "code",
   "execution_count": null,
   "id": "e4d14af2",
   "metadata": {
    "hidden": true
   },
   "outputs": [],
   "source": []
  },
  {
   "cell_type": "markdown",
   "id": "810dc3d4",
   "metadata": {},
   "source": [
    "# Conclusions and Next Steps"
   ]
  }
 ],
 "metadata": {
  "kernelspec": {
   "display_name": "Python 3.8.3 64-bit ('base': conda)",
   "language": "python",
   "name": "python383jvsc74a57bd080f8396c7711fd0a45116f94b5a120739eca45e30931c52fb3eac85a39a13ac5"
  },
  "language_info": {
   "codemirror_mode": {
    "name": "ipython",
    "version": 3
   },
   "file_extension": ".py",
   "mimetype": "text/x-python",
   "name": "python",
   "nbconvert_exporter": "python",
   "pygments_lexer": "ipython3",
   "version": "3.8.3"
  }
 },
 "nbformat": 4,
 "nbformat_minor": 5
}
