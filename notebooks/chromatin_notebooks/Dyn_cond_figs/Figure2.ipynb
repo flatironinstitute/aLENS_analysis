{
 "cells": [
  {
   "attachments": {},
   "cell_type": "markdown",
   "id": "2e8d1da0",
   "metadata": {},
   "source": [
    "# Introduction\n",
    "State notebook purpose here"
   ]
  },
  {
   "attachments": {},
   "cell_type": "markdown",
   "id": "f6a5de28",
   "metadata": {},
   "source": [
    "### Imports\n",
    "Import libraries and write settings here."
   ]
  },
  {
   "cell_type": "code",
   "execution_count": 1,
   "id": "a7b09a88",
   "metadata": {
    "ExecuteTime": {
     "end_time": "2022-02-24T18:14:40.055005Z",
     "start_time": "2022-02-24T18:14:36.992644Z"
    }
   },
   "outputs": [
    {
     "data": {
      "text/html": [
       "<style>.container { width:80% !important; }</style>"
      ],
      "text/plain": [
       "<IPython.core.display.HTML object>"
      ]
     },
     "metadata": {},
     "output_type": "display_data"
    }
   ],
   "source": [
    "# Notebooks specific imports\n",
    "from IPython import get_ipython\n",
    "ipython = get_ipython()\n",
    "#Expand notebook display\n",
    "\n",
    "from IPython.display import display, HTML\n",
    "display(HTML(\"<style>.container { width:80% !important; }</style>\"))\n",
    "# Display all cell outputs\n",
    "from IPython.core.interactiveshell import InteractiveShell\n",
    "InteractiveShell.ast_node_interactivity = 'all'\n",
    "# autoreload extension\n",
    "if 'autoreload' not in ipython.extension_manager.loaded:\n",
    "    %load_ext autoreload\n",
    "%autoreload 2\n",
    "from tqdm.notebook import tqdm\n",
    "\n",
    "# Basic useful imports\n",
    "import re\n",
    "import time\n",
    "import yaml\n",
    "from pprint import pprint\n",
    "from pathlib import Path\n",
    "import h5py\n",
    "import warnings\n",
    "\n",
    "# Data manipulation\n",
    "import numpy as np\n",
    "from scipy.special import erf\n",
    "from scipy.integrate import quad\n",
    "import scipy.stats as stats\n",
    "from scipy.signal import savgol_filter\n",
    "from scipy.spatial import ConvexHull\n",
    "\n",
    "# Visualization\n",
    "import matplotlib as mpl\n",
    "import matplotlib.pyplot as plt\n",
    "import matplotlib.colors as mcolors\n",
    "from matplotlib.lines import Line2D\n",
    "from matplotlib.patches import (Circle, RegularPolygon, FancyArrowPatch, ArrowStyle)\n",
    "from matplotlib.ticker import (MultipleLocator, FormatStrFormatter,\n",
    "                               AutoMinorLocator, NullFormatter)\n",
    "import matplotlib.colors as mcolors\n",
    "\n",
    "# Clustering stuff\n",
    "from sklearn.cluster import MeanShift, estimate_bandwidth, DBSCAN, OPTICS\n",
    "from itertools import cycle\n",
    "# plt.cm.tab20.colors\n",
    "\n",
    "# From alens_analysis.py\n",
    "import alens_analysis as aa\n",
    "import alens_analysis.chromatin as aac\n",
    "import alens_analysis.chromatin.chrom_analysis as ca\n",
    "import alens_analysis.chromatin.chrom_condensate_analysis as cca\n",
    "import alens_analysis.chromatin.chrom_graph_funcs as cgf\n",
    "from alens_analysis import cluster_analysis as cla\n",
    "\n",
    "from alens_analysis.colormaps import register_cmaps\n",
    "\n",
    "# Locations\n",
    "ws_path = Path('/home/alamson/DATA/Chromatin/')\n",
    "mnt_path = Path.home() / 'projects/DATA/Chromatin/'\n",
    "ceph_path = Path.home() / 'ceph/DATA/Chromatin/'"
   ]
  },
  {
   "cell_type": "code",
   "execution_count": 2,
   "id": "7756adb7",
   "metadata": {},
   "outputs": [],
   "source": [
    "# Consistent settings\n",
    "ss_ind = 1\n",
    "end_ind = None\n",
    "start_bead = 0\n",
    "end_bead = None"
   ]
  },
  {
   "attachments": {},
   "cell_type": "markdown",
   "id": "8a16555f",
   "metadata": {},
   "source": [
    "### Style settings"
   ]
  },
  {
   "cell_type": "code",
   "execution_count": 3,
   "id": "de030e66",
   "metadata": {
    "ExecuteTime": {
     "end_time": "2022-02-23T16:45:26.563354Z",
     "start_time": "2022-02-23T16:45:26.527234Z"
    }
   },
   "outputs": [],
   "source": [
    "graph_sty = {\n",
    "    \"axes.titlesize\": 20,\n",
    "    \"axes.labelsize\": 24,\n",
    "    \"lines.linewidth\": 2,\n",
    "    \"lines.markersize\": 2,\n",
    "    \"xtick.labelsize\": 24,\n",
    "    \"ytick.labelsize\": 24,\n",
    "    \"font.size\": 20,\n",
    "    \"font.sans-serif\": 'Helvetica',\n",
    "    \"text.usetex\": False,\n",
    "    'mathtext.fontset': 'cm',\n",
    "}\n",
    "plt.style.use(graph_sty)\n",
    "\n",
    "colors = cycle(mcolors.XKCD_COLORS.keys())\n",
    "# mcolors.__dict__\n",
    "# colors = cycle(\"bgrcmykbgrcmykbgrcmykbgrcmyk\")\n",
    "\n",
    "register_cmaps()\n",
    "#plt.rcParams['image.cmap'] = 'emct8'\n",
    "#plt.rcParams['image.cmap'] = 'warm'\n",
    "plt.rcParams['image.cmap'] = 'YlOrRd'\n",
    "#plt.rcParams['image.cmap'] = 'twilight'\n",
    "#plt.rcParams['image.cmap'] = 'coolwarm'\n",
    "#plt.rcParams['image.cmap'] = 'RdYlBu_r'\n",
    "        "
   ]
  },
  {
   "cell_type": "code",
   "execution_count": 4,
   "id": "ff6adf3b",
   "metadata": {},
   "outputs": [
    {
     "name": "stdout",
     "output_type": "stream",
     "text": [
      "1 xkcd:cloudy blue\n",
      "2 xkcd:dark pastel green\n",
      "3 xkcd:dust\n"
     ]
    }
   ],
   "source": [
    "for i, c in zip([1,2,3], mcolors.XKCD_COLORS.keys()):\n",
    "    print(i, c)\n",
    "    "
   ]
  },
  {
   "cell_type": "markdown",
   "id": "92d12a15",
   "metadata": {},
   "source": [
    "## Figure 2a (number of beads in condensates)"
   ]
  },
  {
   "cell_type": "code",
   "execution_count": 5,
   "id": "aeea1091",
   "metadata": {},
   "outputs": [],
   "source": [
    "def plot_confidence_int(ax, mean, std, color='b', ci=.95):\n",
    "    degrees_freedom = avg_num_clust_beads_arr.shape[0] - 1\n",
    "    confidence_interval = stats.t.ppf((1 + ci) / 2., degrees_freedom) * std_dev / np.sqrt(avg_num_clust_beads_arr.shape[0])\n",
    "\n",
    "    _ = ax.plot(time_arr, mean, label='Mean', color=color)\n",
    "    _ = ax.fill_between(time_arr, mean - confidence_interval, mean + confidence_interval, color=color, alpha=.1)"
   ]
  },
  {
   "cell_type": "code",
   "execution_count": 6,
   "id": "a954ba18",
   "metadata": {},
   "outputs": [
    {
     "name": "stdout",
     "output_type": "stream",
     "text": [
      "/mnt/home/alamson/ceph/DATA/Chromatin/DynCondPaper/23-10-20_aLc1_slice4.5.13_line1600_Pin3-9um_2xKe3-300_ks100/simulations/Ke30_Pin5.0um\n"
     ]
    }
   ],
   "source": [
    "data_path_list = [ceph_path / \"DynCondPaper/23-10-20_aLc1_slice4.5.13_line1600_Pin3-9um_2xKe3-300_ks100/simulations/Ke30_Pin5.0um/\", \n",
    "                  ceph_path / \"DynCondPaper/23-10-20_aLc1_slice4.5.13_line1600_Pin3-9um_2xKe3-300_ks100/simulations/Ke30_Pin3.0um/\",\n",
    "                  ceph_path / \"DynCondPaper/23-10-20_aLc1_slice4.5.13_line1600_Pin3-9um_2xKe3-300_ks100/simulations/Ke30_Pin9.0um/\"]\n",
    "# [x] Baseline (2x Ke 30, pin 5um)\n",
    "# [x] short_separation (2x Ke 30, pin 3um)\n",
    "# [x] large separation (2x Ke 30 pin 9um\n",
    "# low Ke (2x Ke 3, pin 5um)\n",
    "# high Ke (2x Ke 300, pin 5um)\n",
    "\n",
    "part_min=40\n",
    "\n",
    "try:\n",
    "    fig, axarr = plt.subplots(1, 1, figsize=(10, 6))\n",
    "    for data_path, color, label in zip(data_path_list, mcolors.XKCD_COLORS.keys(), ['Baseline', 'Short separation', 'Large separation']):\n",
    "        print(data_path)\n",
    "        sd_h5_file_lst = [h5p for h5p in data_path.glob('s*/analysis/raw_data.h5')]\n",
    "        with h5py.File(sd_h5_file_lst[0], 'r') as h5d:\n",
    "            time_arr = h5d['time'][ss_ind:end_ind]\n",
    "            nbeads = h5d['raw_data']['sylinders'][start_bead:end_bead, 0, 0].shape[0]\n",
    "\n",
    "        avg_num_clust_beads_arr = np.zeros((len(sd_h5_file_lst), time_arr.size))\n",
    "        for ih, h5d in enumerate(sd_h5_file_lst):\n",
    "            h5_clust_file = h5d.parent / 'cluster_analysis.h5'\n",
    "            with h5py.File(h5_clust_file, 'r') as h5_data:\n",
    "                cluster_grp = h5_data['clusters']\n",
    "                # time_arr = h5_data['time'][...]\n",
    "                time_grp_list = sorted(cluster_grp.values(), key=lambda x: x.attrs['time'])\n",
    "                clusters = []\n",
    "                for tg in time_grp_list:\n",
    "                    clusters += [[cla.Cluster(h5_data = c) for c in tg.values()]]\n",
    "\n",
    "            # num_clusters_list = np.zeros(len(clusters))\n",
    "            # avg_num_cluster_beads_list = np.zeros(len(clusters))\n",
    "            assert len(clusters) == time_arr.size\n",
    "\n",
    "            bead_ind_arr = np.zeros((nbeads, time_arr.size))\n",
    "            one_mask = np.ones(nbeads)\n",
    "            for c, clust_grp in enumerate(clusters):\n",
    "                # Secondary thresholding\n",
    "                clust_grp = [clust for clust in clust_grp if len(clust.part_ids) > part_min]\n",
    "                # num_clusters_list[c] += [len(clust_grp)]\n",
    "                num_beads = 0\n",
    "                for i, clust in enumerate(clust_grp):\n",
    "                    num_beads += len(clust.part_ids)\n",
    "                    bead_ind_arr[clust.part_ids, c] += one_mask[clust.part_ids]\n",
    "\n",
    "                avg_num_clust_beads_arr[ih, c] += num_beads\n",
    "\n",
    "        mean = avg_num_clust_beads_arr.mean(axis=0)\n",
    "        std_dev = avg_num_clust_beads_arr.std(axis=0)\n",
    "        plot_confidence_int(axarr, mean, std_dev, color=color)\n",
    "\n",
    "    _ = axarr.set_ylabel('Number of beads in clusters')\n",
    "    _ = axarr.set_xlabel('Time (sec)')\n",
    "    _ = axarr.legend(loc='center left', bbox_to_anchor=(1.05, .5))\n",
    "        \n",
    "\n",
    "except:\n",
    "    raise\n",
    "finally:\n",
    "    pass\n",
    "    # for h5d in sd_h5_data_lst:\n",
    "    #     h5d.close()"
   ]
  },
  {
   "cell_type": "markdown",
   "id": "1055b3ad",
   "metadata": {},
   "source": []
  }
 ],
 "metadata": {
  "kernelspec": {
   "display_name": "Python 3.8.3 ('alens')",
   "language": "python",
   "name": "python3"
  },
  "language_info": {
   "codemirror_mode": {
    "name": "ipython",
    "version": 3
   },
   "file_extension": ".py",
   "mimetype": "text/x-python",
   "name": "python",
   "nbconvert_exporter": "python",
   "pygments_lexer": "ipython3",
   "version": "3.8.3"
  },
  "vscode": {
   "interpreter": {
    "hash": "04146d75943cb6a04ff81d0ce375eb0d834c6eb9906502527655c87a9ca8d951"
   }
  }
 },
 "nbformat": 4,
 "nbformat_minor": 5
}
