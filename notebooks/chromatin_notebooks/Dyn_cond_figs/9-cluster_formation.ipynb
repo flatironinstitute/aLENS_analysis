{
 "cells": [
  {
   "attachments": {},
   "cell_type": "markdown",
   "id": "2e8d1da0",
   "metadata": {},
   "source": [
    "# Introduction\n",
    "State notebook purpose here"
   ]
  },
  {
   "attachments": {},
   "cell_type": "markdown",
   "id": "f6a5de28",
   "metadata": {},
   "source": [
    "### Imports\n",
    "Import libraries and write settings here."
   ]
  },
  {
   "cell_type": "code",
   "execution_count": 14,
   "id": "a7b09a88",
   "metadata": {
    "ExecuteTime": {
     "end_time": "2022-02-24T18:14:40.055005Z",
     "start_time": "2022-02-24T18:14:36.992644Z"
    }
   },
   "outputs": [
    {
     "data": {
      "text/html": [
       "<style>.container { width:80% !important; }</style>"
      ],
      "text/plain": [
       "<IPython.core.display.HTML object>"
      ]
     },
     "metadata": {},
     "output_type": "display_data"
    }
   ],
   "source": [
    "# Notebooks specific imports\n",
    "from IPython import get_ipython\n",
    "\n",
    "ipython = get_ipython()\n",
    "# Expand notebook display\n",
    "\n",
    "from IPython.display import display, HTML\n",
    "\n",
    "display(HTML(\"<style>.container { width:80% !important; }</style>\"))\n",
    "# Display all cell outputs\n",
    "from IPython.core.interactiveshell import InteractiveShell\n",
    "\n",
    "InteractiveShell.ast_node_interactivity = \"all\"\n",
    "# autoreload extension\n",
    "if \"autoreload\" not in ipython.extension_manager.loaded:\n",
    "    %load_ext autoreload\n",
    "%autoreload 2\n",
    "from tqdm.notebook import tqdm\n",
    "\n",
    "# Basic useful imports\n",
    "import re\n",
    "import time\n",
    "import yaml\n",
    "from pprint import pprint\n",
    "from pathlib import Path\n",
    "import h5py\n",
    "import warnings\n",
    "from cycler import cycler\n",
    "\n",
    "# Data manipulation\n",
    "import numpy as np\n",
    "from scipy.special import erf\n",
    "from scipy.integrate import quad\n",
    "import scipy.stats as stats\n",
    "from scipy.signal import savgol_filter\n",
    "from scipy.spatial import ConvexHull\n",
    "from scipy.optimize import root_scalar\n",
    "\n",
    "# Visualization\n",
    "import matplotlib as mpl\n",
    "import matplotlib.pyplot as plt\n",
    "import matplotlib.colors as mcolors\n",
    "from mpl_toolkits.axes_grid1 import make_axes_locatable\n",
    "from matplotlib.lines import Line2D\n",
    "from matplotlib.patches import (\n",
    "    Circle,\n",
    "    RegularPolygon,\n",
    "    FancyArrowPatch,\n",
    "    ArrowStyle,\n",
    "    Rectangle,\n",
    ")\n",
    "from matplotlib.ticker import (\n",
    "    MultipleLocator,\n",
    "    FormatStrFormatter,\n",
    "    AutoMinorLocator,\n",
    "    NullFormatter,\n",
    ")\n",
    "import matplotlib.colors as mcolors\n",
    "import matplotlib.gridspec as gridspec\n",
    "\n",
    "# Clustering stuff\n",
    "from sklearn.cluster import MeanShift, estimate_bandwidth, DBSCAN, OPTICS\n",
    "from itertools import cycle\n",
    "# plt.cm.tab20.colors\n",
    "\n",
    "# From alens_analysis.py\n",
    "import alens_analysis as aa\n",
    "import alens_analysis.chromatin as aac\n",
    "import alens_analysis.chromatin.chrom_analysis as ca\n",
    "import alens_analysis.chromatin.chrom_condensate_analysis as cca\n",
    "import alens_analysis.chromatin.chrom_graph_funcs as cgf\n",
    "from alens_analysis import cluster_analysis as cla\n",
    "from alens_analysis import rouse_mode_analysis as rma\n",
    "\n",
    "from alens_analysis.colormaps import register_cmaps\n",
    "\n",
    "# Locations\n",
    "ws_path = Path(\"/home/alamson/DATA/Chromatin/\")\n",
    "mnt_path = Path.home() / \"projects/DATA/Chromatin/\"\n",
    "ceph_path = Path.home() / \"ceph/DATA/Chromatin/\""
   ]
  },
  {
   "cell_type": "code",
   "execution_count": 15,
   "id": "7756adb7",
   "metadata": {},
   "outputs": [],
   "source": [
    "# Consistent settings\n",
    "ss_ind = 1\n",
    "end_ind = None\n",
    "start_bead = 0\n",
    "end_bead = None\n",
    "part_min = 40"
   ]
  },
  {
   "attachments": {},
   "cell_type": "markdown",
   "id": "8a16555f",
   "metadata": {},
   "source": [
    "### Style settings"
   ]
  },
  {
   "cell_type": "code",
   "execution_count": 16,
   "id": "a9ead59d",
   "metadata": {},
   "outputs": [],
   "source": [
    "graph_sty = {\n",
    "    \"axes.titlesize\": 20,\n",
    "    \"axes.labelsize\": 24,\n",
    "    \"lines.linewidth\": 2,\n",
    "    \"lines.markersize\": 2,\n",
    "    \"xtick.labelsize\": 24,\n",
    "    \"ytick.labelsize\": 24,\n",
    "    \"font.size\": 20,\n",
    "    \"font.sans-serif\": \"Helvetica\",\n",
    "    \"text.usetex\": False,\n",
    "    \"mathtext.fontset\": \"cm\",\n",
    "    \"axes.grid\": True,\n",
    "}\n",
    "plt.style.use(graph_sty)\n",
    "# plt.style.use('bmh')\n",
    "colors = cycle(mcolors.XKCD_COLORS.keys())\n",
    "# mcolors.__dict__\n",
    "# colors = cycle(\"bgrcmykbgrcmykbgrcmykbgrcmyk\")\n",
    "\n",
    "register_cmaps()\n",
    "# plt.rcParams['image.cmap'] = 'emct8'\n",
    "# plt.rcParams['image.cmap'] = 'warm'\n",
    "plt.rcParams[\"image.cmap\"] = \"YlOrRd\"\n",
    "# plt.rcParams['image.cmap'] = 'twilight'\n",
    "# plt.rcParams['image.cmap'] = 'coolwarm'\n",
    "# plt.rcParams['image.cmap'] = 'RdYlBu_r'"
   ]
  },
  {
   "cell_type": "code",
   "execution_count": 17,
   "id": "f4f46b43",
   "metadata": {},
   "outputs": [],
   "source": [
    "slice_path = (\n",
    "    ceph_path\n",
    "    / \"DynCondPaper/24-03-08_aLc1_slice5.5.13_line1600_Pin3-11um_2xKe3-300_ks100/simulations\"\n",
    ")"
   ]
  },
  {
   "cell_type": "code",
   "execution_count": 22,
   "id": "584b3b11",
   "metadata": {},
   "outputs": [
    {
     "data": {
      "text/plain": [
       "[<matplotlib.lines.Line2D at 0x7fcf63584af0>]"
      ]
     },
     "execution_count": 22,
     "metadata": {},
     "output_type": "execute_result"
    },
    {
     "data": {
      "text/plain": [
       "[<matplotlib.lines.Line2D at 0x7fcf6350f6a0>]"
      ]
     },
     "execution_count": 22,
     "metadata": {},
     "output_type": "execute_result"
    },
    {
     "data": {
      "text/plain": [
       "[<matplotlib.lines.Line2D at 0x7fcf6350f9d0>]"
      ]
     },
     "execution_count": 22,
     "metadata": {},
     "output_type": "execute_result"
    },
    {
     "data": {
      "text/plain": [
       "[<matplotlib.lines.Line2D at 0x7fcf6350fd00>]"
      ]
     },
     "execution_count": 22,
     "metadata": {},
     "output_type": "execute_result"
    },
    {
     "data": {
      "image/png": "[encoded data removed]",
      "text/plain": [
       "<Figure size 576x432 with 1 Axes>"
      ]
     },
     "metadata": {
      "needs_background": "light"
     },
     "output_type": "display_data"
    }
   ],
   "source": [
    "\n",
    "fig, axarr = plt.subplots(figsize=(8, 6), sharex='col', sharey='row' )\n",
    "# L_sep difference graph\n",
    "labels_to_graph_dict = {\n",
    "    3: \"Ke30_Pin3.0um\",\n",
    "    5: \"Ke30_Pin5.0um/\",\n",
    "    7: \"Ke30_Pin7.0um/\",\n",
    "    9: \"Ke30_Pin9.0um\",\n",
    "    # r\"$K_e = 30~\\mu {\\rm M}^{-1}, L_{sep} = 11~\\mu {\\rm m}$\": \"Pin11.0um_Ke30\",\n",
    "}\n",
    "\n",
    "for label, folder in labels_to_graph_dict.items():\n",
    "    with h5py.File(next((slice_path / folder).glob(\"s1/analysis/raw_data.h5\")), 'r') as h5_data:\n",
    "        sy_dat = h5_data['raw_data/sylinders'][:,:,1]\n",
    "        # com_arr = .5*(sy_dat[:,0] + sy_dat[:,1])\n",
    "        com_arr = .5 * (sy_dat[:, 2:5] + sy_dat[:, 5:8])\n",
    "        rouse_mode = rma.get_rouse_modes_at_t(com_arr, n_modes=50)\n",
    "        power_spec = np.einsum('ij,ij->i', rouse_mode, rouse_mode.conj())\n",
    "        axarr.plot(power_spec, label=label)\n",
    "\n",
    "\n",
    "_ = axarr.set_yscale('log')\n",
    "_ = axarr.legend(loc='center left', bbox_to_anchor=(1.05, .5))\n",
    "\n",
    "fig.tight_layout()\n",
    "\n",
    "# I need to do a better job analyzing this data but I don't have time right now.\n"
   ]
  },
  {
   "cell_type": "markdown",
   "id": "5059fc66",
   "metadata": {},
   "source": [
    "# Supplement figures"
   ]
  },
  {
   "cell_type": "code",
   "execution_count": null,
   "id": "80f386b2",
   "metadata": {},
   "outputs": [],
   "source": []
  }
 ],
 "metadata": {
  "kernelspec": {
   "display_name": "Python 3.8.3 ('alens')",
   "language": "python",
   "name": "python3"
  },
  "language_info": {
   "codemirror_mode": {
    "name": "ipython",
    "version": 3
   },
   "file_extension": ".py",
   "mimetype": "text/x-python",
   "name": "python",
   "nbconvert_exporter": "python",
   "pygments_lexer": "ipython3",
   "version": "3.8.3"
  },
  "vscode": {
   "interpreter": {
    "hash": "04146d75943cb6a04ff81d0ce375eb0d834c6eb9906502527655c87a9ca8d951"
   }
  }
 },
 "nbformat": 4,
 "nbformat_minor": 5
}
