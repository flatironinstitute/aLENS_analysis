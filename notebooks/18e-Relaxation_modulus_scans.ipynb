{
 "cells": [
  {
   "cell_type": "markdown",
   "id": "9a7d5050",
   "metadata": {},
   "source": [
    "# Introduction\n",
    "State notebook purpose here"
   ]
  },
  {
   "cell_type": "markdown",
   "id": "b2f76ee2",
   "metadata": {},
   "source": [
    "### Imports\n",
    "Import libraries and write settings here."
   ]
  },
  {
   "cell_type": "code",
   "execution_count": 1,
   "id": "c3d377cd",
   "metadata": {
    "ExecuteTime": {
     "end_time": "2022-02-08T00:47:58.244499Z",
     "start_time": "2022-02-08T00:47:57.977872Z"
    }
   },
   "outputs": [
    {
     "data": {
      "text/html": [
       "<style>.container { width:80% !important; }</style>"
      ],
      "text/plain": [
       "<IPython.core.display.HTML object>"
      ]
     },
     "metadata": {},
     "output_type": "display_data"
    },
    {
     "name": "stdout",
     "output_type": "stream",
     "text": [
      "cuda\n"
     ]
    }
   ],
   "source": [
    "# Notebooks specific imports\n",
    "from IPython import get_ipython\n",
    "ipython = get_ipython()\n",
    "#Expand notebook display\n",
    "from IPython.core.display import display, HTML\n",
    "display(HTML(\"<style>.container { width:80% !important; }</style>\"))\n",
    "# Display all cell outputs\n",
    "from IPython.core.interactiveshell import InteractiveShell\n",
    "InteractiveShell.ast_node_interactivity = 'all'\n",
    "# autoreload extension\n",
    "if 'autoreload' not in ipython.extension_manager.loaded:\n",
    "    %load_ext autoreload\n",
    "%autoreload 2\n",
    "from tqdm.notebook import tqdm\n",
    "\n",
    "# Basic useful imports\n",
    "import re\n",
    "import time\n",
    "import yaml\n",
    "from pprint import pprint\n",
    "from pathlib import Path\n",
    "import h5py\n",
    "import gc\n",
    "import pickle as pkl\n",
    "\n",
    "# Data manipulation\n",
    "import numpy as np\n",
    "from scipy.optimize import curve_fit\n",
    "from scipy.special import erf, erfinv\n",
    "import scipy.stats as stats\n",
    "from scipy.integrate import quad\n",
    "from scipy.signal import savgol_filter\n",
    "from scipy import fftpack\n",
    "import torch\n",
    "device = torch.device(\"cuda\" if torch.cuda.is_available() else \"cpu\")\n",
    "print(device)\n",
    "\n",
    "# Visualization\n",
    "import matplotlib as mpl\n",
    "import matplotlib.pyplot as plt\n",
    "from matplotlib.lines import Line2D\n",
    "from matplotlib.patches import (Circle, RegularPolygon, FancyArrowPatch, ArrowStyle)\n",
    "from matplotlib.ticker import (MultipleLocator, FormatStrFormatter,\n",
    "                               AutoMinorLocator, NullFormatter)\n",
    "import matplotlib.colors as mcolors\n",
    "import matplotlib.pylab as plb\n",
    "\n",
    "# From alens_analysis.py\n",
    "import alens_analysis as aa\n",
    "from alens_analysis.colormaps import register_cmaps\n",
    "import alens_analysis.chromatin as aac\n",
    "import alens_analysis.chromatin.chrom_analysis as ca\n",
    "import alens_analysis.chromatin.chrom_condensate_analysis as cca\n",
    "import alens_analysis.chromatin.chrom_graph_funcs as cgf\n",
    "import alens_analysis.chromatin.chrom_poly_stats as cps\n",
    "import alens_analysis.helpers as ahlp\n",
    "from alens_analysis import cluster_analysis as cla\n",
    "\n",
    "# Locations\n",
    "ws_path = Path('/home/alamson/DATA/Chromatin/')\n",
    "mnt_path = Path.home() / 'projects/DATA/Chromatin/'\n",
    "ceph_path = Path.home() / 'ceph/DATA/Chromatin/'\n",
    "cond_path = Path.home() / 'ceph/DATA/Chromatin/CondCharPaper'\n",
    "\n",
    "import warnings\n",
    "warnings.filterwarnings('ignore')"
   ]
  },
  {
   "cell_type": "markdown",
   "id": "81d682df",
   "metadata": {},
   "source": [
    "### Style settings"
   ]
  },
  {
   "cell_type": "code",
   "execution_count": 2,
   "id": "ab32eb02",
   "metadata": {
    "ExecuteTime": {
     "end_time": "2022-02-08T00:48:00.028983Z",
     "start_time": "2022-02-08T00:48:00.000810Z"
    }
   },
   "outputs": [],
   "source": [
    "graph_sty = {\n",
    "    \"axes.titlesize\": 20,\n",
    "    \"axes.labelsize\": 24,\n",
    "    \"lines.linewidth\": 2,\n",
    "    \"lines.markersize\": 2,\n",
    "    \"xtick.labelsize\": 24,\n",
    "    \"ytick.labelsize\": 24,\n",
    "    \"font.size\": 20,\n",
    "    \"font.sans-serif\": 'Helvetica',\n",
    "    \"text.usetex\": False,\n",
    "    'mathtext.fontset': 'cm',\n",
    "}\n",
    "plt.style.use(graph_sty)\n",
    "        "
   ]
  },
  {
   "cell_type": "markdown",
   "id": "e7f8c568",
   "metadata": {},
   "source": [
    "# Functions"
   ]
  },
  {
   "cell_type": "markdown",
   "id": "bb7c43e7",
   "metadata": {},
   "source": [
    "# Data"
   ]
  },
  {
   "cell_type": "code",
   "execution_count": 12,
   "id": "9beeb170",
   "metadata": {},
   "outputs": [],
   "source": [
    "data_dir_list = {\n",
    "    # cond_path / \"23-01-02_aLc1_line800_sticky55nm_kod.1-300_tsnap.1\",\n",
    "    # cond_path / \"23-01-02_aLc1_line800_sticky55nm_kod.1-300_tsnap.01\",\n",
    "    # cond_path / \"23-01-02_aLc1_line800_sticky55nm_kod.1-300_tsnap.001\",\n",
    "    # cond_path / \"23-01-02_aLc1_line800_sticky55nm_kod.1-300_tsnap.0001\",\n",
    "    # cond_path / \"23-02-05_aLc1_line800_sticky55nm_kod0-.03_tsnap.1\",\n",
    "    # cond_path / \"23-02-05_aLc1_line800_sticky55nm_kod0-.03_tsnap.01\",\n",
    "    # cond_path / \"23-02-05_aLc1_line800_sticky55nm_kod0-.03_tsnap.001\",\n",
    "    # cond_path / \"23-02-05_aLc1_line800_sticky55nm_kod0-.03_tsnap.0001\",\n",
    "}\n"
   ]
  },
  {
   "cell_type": "code",
   "execution_count": 103,
   "id": "04a01192",
   "metadata": {},
   "outputs": [],
   "source": [
    "param_dir = cond_path / \"23-01-02_aLc1_line800_sticky55nm_kod.1-300_tsnap.1/simulations/kod30\"\n",
    "# data_dir.exists()"
   ]
  },
  {
   "cell_type": "markdown",
   "id": "fe57f004",
   "metadata": {},
   "source": [
    "# Graphing"
   ]
  },
  {
   "cell_type": "code",
   "execution_count": 104,
   "id": "c4288f84",
   "metadata": {},
   "outputs": [
    {
     "data": {
      "application/vnd.jupyter.widget-view+json": {
       "model_id": "d3a0af629f7b4e4ab845f084a6b51367",
       "version_major": 2,
       "version_minor": 0
      },
      "text/plain": [
       "0it [00:00, ?it/s]"
      ]
     },
     "metadata": {},
     "output_type": "display_data"
    }
   ],
   "source": [
    "rouse_modes = []\n",
    "for data_dir in tqdm(param_dir.glob('s*')):\n",
    "    with h5py.File(next(data_dir.glob('analysis/raw*.h5')), 'r') as h5_data:\n",
    "        time_arr = h5_data['time'] \n",
    "        sy_dat = h5_data['raw_data']['sylinders'][:,:,:]\n",
    "        com_arr = .5 * (sy_dat[:, 2:5, :] + sy_dat[:, 5:8, :])\n",
    "        rouse_modes += [aa.get_rouse_modes(com_arr)]"
   ]
  },
  {
   "cell_type": "code",
   "execution_count": 116,
   "id": "c4288f84",
   "metadata": {},
   "outputs": [
    {
     "data": {
      "text/plain": [
       "[<matplotlib.lines.Line2D at 0x7f401e0ed940>,\n",
       " <matplotlib.lines.Line2D at 0x7f401e0eda30>,\n",
       " <matplotlib.lines.Line2D at 0x7f401e0edaf0>]"
      ]
     },
     "execution_count": 116,
     "metadata": {},
     "output_type": "execute_result"
    },
    {
     "data": {
      "image/png": "[encoded data removed]",
      "text/plain": [
       "<Figure size 432x288 with 1 Axes>"
      ]
     },
     "metadata": {
      "needs_background": "light"
     },
     "output_type": "display_data"
    }
   ],
   "source": [
    "mode_corr_arr = torch.zeros((len(rouse_modes), rouse_modes[0].shape[0], int(.5*rouse_modes[0].shape[-1])))\n",
    "for i, rm in enumerate(rouse_modes):\n",
    "    mode_corr_arr[i] = aa.get_rouse_mode_corr_fast(rm, device)\n",
    "avg_mode_corr_arr = mode_corr_arr.mean(axis=0)\n",
    "\n",
    "plt.plot(avg_mode_corr_arr[1:4].T.cpu())\n",
    "plt.yscale('log')\n",
    "# plt.xscale('log')\n",
    "# plt.ylim(.001, 10)"
   ]
  },
  {
   "cell_type": "markdown",
   "id": "fdb0c6ce",
   "metadata": {},
   "source": [
    "# Figures"
   ]
  },
  {
   "cell_type": "code",
   "execution_count": null,
   "id": "5f893c93",
   "metadata": {},
   "outputs": [],
   "source": []
  }
 ],
 "metadata": {
  "kernelspec": {
   "display_name": "Python 3.8.3 ('alens')",
   "language": "python",
   "name": "python3"
  },
  "language_info": {
   "codemirror_mode": {
    "name": "ipython",
    "version": 3
   },
   "file_extension": ".py",
   "mimetype": "text/x-python",
   "name": "python",
   "nbconvert_exporter": "python",
   "pygments_lexer": "ipython3",
   "version": "3.8.3"
  },
  "vscode": {
   "interpreter": {
    "hash": "04146d75943cb6a04ff81d0ce375eb0d834c6eb9906502527655c87a9ca8d951"
   }
  }
 },
 "nbformat": 4,
 "nbformat_minor": 5
}
