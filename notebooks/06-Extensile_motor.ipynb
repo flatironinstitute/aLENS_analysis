{
 "cells": [
  {
   "cell_type": "markdown",
   "id": "a136caf5",
   "metadata": {},
   "source": [
    "# Introduction\n",
    "State notebook purpose here"
   ]
  },
  {
   "cell_type": "markdown",
   "id": "2a0214d2",
   "metadata": {},
   "source": [
    "### Imports\n",
    "Import libraries and write settings here."
   ]
  },
  {
   "cell_type": "code",
   "execution_count": 1,
   "id": "39d5f5f2",
   "metadata": {
    "ExecuteTime": {
     "end_time": "2021-11-15T21:38:20.522145Z",
     "start_time": "2021-11-15T21:38:16.086155Z"
    }
   },
   "outputs": [
    {
     "data": {
      "text/html": [
       "<style>.container { width:80% !important; }</style>"
      ],
      "text/plain": [
       "<IPython.core.display.HTML object>"
      ]
     },
     "metadata": {},
     "output_type": "display_data"
    }
   ],
   "source": [
    "# Notebooks specific imports\n",
    "from IPython import get_ipython\n",
    "ipython = get_ipython()\n",
    "#Expand notebook display\n",
    "from IPython.core.display import display, HTML\n",
    "display(HTML(\"<style>.container { width:80% !important; }</style>\"))\n",
    "# Display all cell outputs\n",
    "from IPython.core.interactiveshell import InteractiveShell\n",
    "InteractiveShell.ast_node_interactivity = 'all'\n",
    "# autoreload extension\n",
    "if 'autoreload' not in ipython.extension_manager.loaded:\n",
    "    %load_ext autoreload\n",
    "%autoreload 2\n",
    "\n",
    "# Basic useful imports\n",
    "import re\n",
    "import time\n",
    "import yaml\n",
    "from pprint import pprint\n",
    "from pathlib import Path\n",
    "import h5py\n",
    "\n",
    "# Data manipulation\n",
    "import numpy as np\n",
    "from scipy.special import erf\n",
    "from scipy.integrate import quad\n",
    "\n",
    "# Visualization\n",
    "import matplotlib as mpl\n",
    "import matplotlib.pyplot as plt\n",
    "from matplotlib.lines import Line2D\n",
    "from matplotlib.patches import (Circle, RegularPolygon, FancyArrowPatch, ArrowStyle)\n",
    "from matplotlib.ticker import (MultipleLocator, FormatStrFormatter,\n",
    "                               AutoMinorLocator, NullFormatter)\n",
    "import matplotlib.colors as colors\n",
    "from cycler import cycler\n",
    "\n",
    "# From AMSOS_analysis.py\n",
    "import amsos_analysis as aa\n",
    "from amsos_analysis.colormaps import register_cmaps"
   ]
  },
  {
   "cell_type": "markdown",
   "id": "138195e7",
   "metadata": {},
   "source": [
    "### Style settings"
   ]
  },
  {
   "cell_type": "code",
   "execution_count": 87,
   "id": "28c1cc17",
   "metadata": {
    "ExecuteTime": {
     "end_time": "2021-11-10T19:27:51.861336Z",
     "start_time": "2021-11-10T19:27:51.838284Z"
    }
   },
   "outputs": [],
   "source": [
    "graph_sty = {\n",
    "    \"axes.titlesize\": 20,\n",
    "    \"axes.labelsize\": 24,\n",
    "    \"lines.linewidth\": 1,\n",
    "    \"lines.markersize\": 10,\n",
    "    \"xtick.labelsize\": 24,\n",
    "    \"ytick.labelsize\": 24,\n",
    "    \"font.size\": 20,\n",
    "    \"font.sans-serif\": 'Helvetica',\n",
    "    \"text.usetex\": False,\n",
    "    'mathtext.fontset': 'cm',\n",
    "}\n",
    "plt.style.use(graph_sty)\n",
    "\n",
    "#plt.rcParams['axes.prop_cycle'] = 'jet'\n",
    "        "
   ]
  },
  {
   "cell_type": "markdown",
   "id": "9d7f1a58",
   "metadata": {},
   "source": [
    "### Location"
   ]
  },
  {
   "cell_type": "code",
   "execution_count": 3,
   "id": "7049d926",
   "metadata": {
    "ExecuteTime": {
     "end_time": "2021-11-09T00:23:15.328028Z",
     "start_time": "2021-11-09T00:23:15.107341Z"
    }
   },
   "outputs": [],
   "source": [
    "ws_path = Path('/home/alamson/DATA/Chromatin/')\n",
    "mnt_path = Path.home() / 'projects/DATA/Chromatin/'\n",
    "ceph_path = Path.home() / 'ceph/DATA/Chromatin/'"
   ]
  },
  {
   "cell_type": "markdown",
   "id": "2a38fd7c",
   "metadata": {},
   "source": [
    "# Functions"
   ]
  },
  {
   "cell_type": "code",
   "execution_count": 84,
   "id": "3d52da25",
   "metadata": {
    "ExecuteTime": {
     "end_time": "2021-11-09T01:19:23.451818Z",
     "start_time": "2021-11-09T01:19:23.232323Z"
    }
   },
   "outputs": [],
   "source": [
    "def plot_spring_lengths(time, com_arr):\n",
    "    fig, ax = plt.subplots(1,1, figsize=(10,6))\n",
    "    cycle_min = 1\n",
    "    cycle_max = 1000\n",
    "    cycle_step = 25\n",
    "    \n",
    "    colormap = plt.get_cmap('plasma')\n",
    "    custom_cycler = (cycler(color=[colormap(k) for k in np.linspace(0,1, int(cycle_max/cycle_step))]))\n",
    "    ax.set_prop_cycle(custom_cycler)\n",
    "    spring_len_arr = np.linalg.norm(com_arr[1:, :, :] - com_arr[:-1, :, :], axis=1)\n",
    "    \n",
    "    for i in range(cycle_min, cycle_max, cycle_step):\n",
    "        ax.plot(spring_len_arr[:, i], label=f\"Time {time[i]} sec\")\n",
    "    #ax.legend(bbox_to_anchor=(1.1, 1.05))\n",
    "    fig.colorbar(mpl.cm.ScalarMappable( cmap=colormap),\n",
    "             ax=ax, label='Seconds')"
   ]
  },
  {
   "cell_type": "code",
   "execution_count": null,
   "id": "d6b4c473",
   "metadata": {},
   "outputs": [],
   "source": [
    "def plot_stress_vs_time(time, com_arr):\n",
    "    fig, ax = plt.subplots(1,1, figsize=(10,6))\n",
    "    cycle_min = 1\n",
    "    cycle_max = 1000\n",
    "    cycle_step = 25\n",
    "    \n",
    "    colormap = plt.get_cmap('plasma')\n",
    "    custom_cycler = (cycler(color=[colormap(k) for k in np.linspace(0,1, int(cycle_max/cycle_step))]))\n",
    "    ax.set_prop_cycle(custom_cycler)\n",
    "    spring_len_arr = np.linalg.norm(com_arr[1:, :, :] - com_arr[:-1, :, :], axis=1)\n",
    "    \n",
    "    for i in range(cycle_min, cycle_max, cycle_step):\n",
    "        ax.plot(spring_len_arr[:, i], label=f\"Time {time[i]} sec\")\n",
    "    #ax.legend(bbox_to_anchor=(1.1, 1.05))\n",
    "    fig.colorbar(mpl.cm.ScalarMappable( cmap=colormap),\n",
    "             ax=ax, label='Seconds')"
   ]
  },
  {
   "cell_type": "markdown",
   "id": "1a26dbdb",
   "metadata": {},
   "source": [
    "# Results/Graphs"
   ]
  },
  {
   "cell_type": "code",
   "execution_count": 85,
   "id": "00b7f8e9",
   "metadata": {
    "ExecuteTime": {
     "end_time": "2021-11-09T01:19:24.509192Z",
     "start_time": "2021-11-09T01:19:24.325269Z"
    }
   },
   "outputs": [
    {
     "name": "stdout",
     "output_type": "stream",
     "text": [
      "1001\n"
     ]
    },
    {
     "data": {
      "image/png": "[encoded data removed]",
      "text/plain": [
       "<Figure size 720x432 with 2 Axes>"
      ]
     },
     "metadata": {
      "needs_background": "light"
     },
     "output_type": "display_data"
    }
   ],
   "source": [
    "data_path = (ws_path /\"21-11-04_aLchr1_NBline200_diffSpring_noSteric\")\n",
    "\n",
    "ss_ind = 0\n",
    "end_ind = -1\n",
    "start_bead = 40\n",
    "end_bead = 60\n",
    "with h5py.File(next(data_path.glob('*.h5')), 'r+') as h5_data:\n",
    "    time_arr = h5_data['time'][ss_ind:end_ind]\n",
    "    print(time_arr.size)\n",
    "    sy_dat = h5_data['raw_data']['sylinders'][start_bead:end_bead,:,ss_ind:end_ind]\n",
    "    com_arr = .5 * (sy_dat[:, 2:5, :] + sy_dat[:, 5:8, :])\n",
    "    nbeads = com_arr.shape[0]\n",
    "    plot_spring_lengths(time_arr, com_arr)\n",
    "    #sep_dist_mat = aa.get_sep_dist_mat(h5_data, ss_ind, bead_range=[start_bead,end_bead])"
   ]
  },
  {
   "cell_type": "markdown",
   "id": "39d5de7d",
   "metadata": {},
   "source": [
    "# Conclusions and Next Steps"
   ]
  },
  {
   "cell_type": "code",
   "execution_count": null,
   "id": "b8a78c9e",
   "metadata": {},
   "outputs": [],
   "source": []
  }
 ],
 "metadata": {
  "kernelspec": {
   "display_name": "Python 3.8.3 64-bit ('base': conda)",
   "language": "python",
   "name": "python383jvsc74a57bd080f8396c7711fd0a45116f94b5a120739eca45e30931c52fb3eac85a39a13ac5"
  },
  "language_info": {
   "codemirror_mode": {
    "name": "ipython",
    "version": 3
   },
   "file_extension": ".py",
   "mimetype": "text/x-python",
   "name": "python",
   "nbconvert_exporter": "python",
   "pygments_lexer": "ipython3",
   "version": "3.8.3"
  }
 },
 "nbformat": 4,
 "nbformat_minor": 5
}
