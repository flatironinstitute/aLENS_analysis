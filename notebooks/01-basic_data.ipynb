{
 "cells": [
  {
   "attachments": {},
   "cell_type": "markdown",
   "id": "3bfde5a6",
   "metadata": {},
   "source": [
    "# Imports\n",
    "Import libraries and write settings here."
   ]
  },
  {
   "cell_type": "code",
   "execution_count": 6,
   "id": "0a59c077",
   "metadata": {
    "ExecuteTime": {
     "end_time": "2022-02-24T18:14:40.055005Z",
     "start_time": "2022-02-24T18:14:36.992644Z"
    }
   },
   "outputs": [
    {
     "data": {
      "text/html": [
       "<style>.container { width:80% !important; }</style>"
      ],
      "text/plain": [
       "<IPython.core.display.HTML object>"
      ]
     },
     "metadata": {},
     "output_type": "display_data"
    },
    {
     "name": "stdout",
     "output_type": "stream",
     "text": [
      "The autoreload extension is already loaded. To reload it, use:\n",
      "  %reload_ext autoreload\n"
     ]
    }
   ],
   "source": [
    "# Notebooks specific imports ########################################\n",
    "from IPython import get_ipython\n",
    "ipython = get_ipython()\n",
    "#Expand notebook display\n",
    "from IPython.display import display, HTML\n",
    "display(HTML(\"<style>.container { width:80% !important; }</style>\"))\n",
    "# Display all cell outputs\n",
    "from IPython.core.interactiveshell import InteractiveShell\n",
    "InteractiveShell.ast_node_interactivity = 'all'\n",
    "# autoreload extension\n",
    "if 'autoreload' not in ipython.extension_manager.loaded:\n",
    "    %load_ext autoreload\n",
    "%autoreload 2\n",
    "from tqdm.notebook import tqdm\n",
    "# End notebooks specific imports ####################################\n",
    "\n",
    "# Basic useful imports\n",
    "import yaml\n",
    "from pathlib import Path\n",
    "import h5py\n",
    "\n",
    "# Data manipulation\n",
    "import numpy as np\n",
    "\n",
    "# Visualization\n",
    "import matplotlib as mpl\n",
    "import matplotlib.pyplot as plt\n",
    "\n",
    "# From alens_analysis\n",
    "import alens_analysis as aa\n",
    "import alens_analysis.chromatin as aac\n",
    "\n",
    "# Locations\n",
    "alens_data_path = Path.home() / 'projects/DATA/my_alens_data_new/'\n"
   ]
  },
  {
   "cell_type": "code",
   "execution_count": 7,
   "id": "3b69ad0c",
   "metadata": {},
   "outputs": [
    {
     "ename": "StopIteration",
     "evalue": "",
     "output_type": "error",
     "traceback": [
      "\u001b[0;31m---------------------------------------------------------------------------\u001b[0m",
      "\u001b[0;31mStopIteration\u001b[0m                             Traceback (most recent call last)",
      "Cell \u001b[0;32mIn[7], line 4\u001b[0m\n\u001b[1;32m      1\u001b[0m sim_path \u001b[39m=\u001b[39m alens_data_path \u001b[39m/\u001b[39m \u001b[39m'\u001b[39m\u001b[39mMixMotorSliding\u001b[39m\u001b[39m'\u001b[39m\n\u001b[1;32m      3\u001b[0m \u001b[39m# Load in collected data from simulation\u001b[39;00m\n\u001b[0;32m----> 4\u001b[0m \u001b[39mwith\u001b[39;00m h5py\u001b[39m.\u001b[39mFile(\u001b[39mnext\u001b[39m(sim_path\u001b[39m.\u001b[39mglob(\u001b[39m'\u001b[39m\u001b[39manalysis/*.h5\u001b[39m\u001b[39m'\u001b[39m)), \u001b[39m'\u001b[39m\u001b[39mr+\u001b[39m\u001b[39m'\u001b[39m) \u001b[39mas\u001b[39;00m h5_data:\n\u001b[1;32m      5\u001b[0m     \u001b[39m# Load in time data\u001b[39;00m\n\u001b[1;32m      6\u001b[0m     time_arr \u001b[39m=\u001b[39m h5_data[\u001b[39m'\u001b[39m\u001b[39mtime\u001b[39m\u001b[39m'\u001b[39m][:]\n\u001b[1;32m      7\u001b[0m     \u001b[39mprint\u001b[39m(time_arr\u001b[39m.\u001b[39msize) \u001b[39m# How many time points are there?\u001b[39;00m\n",
      "\u001b[0;31mStopIteration\u001b[0m: "
     ]
    }
   ],
   "source": [
    "sim_path = alens_data_path / 'MixMotorSliding'\n",
    "\n",
    "# Load in collected data from simulation\n",
    "with h5py.File(next(sim_path.glob('analysis/*.h5')), 'r+') as h5_data:\n",
    "    # Load in time data\n",
    "    time_arr = h5_data['time'][:]\n",
    "    print(time_arr.size) # How many time points are there?\n",
    "    # Load in sylinder data and get center of mass (COM) locations\n",
    "    sy_dat = h5_data['raw_data']['sylinders'][...]\n",
    "    com_arr = .5 * (sy_dat[:, 2:5, :] + sy_dat[:, 5:8, :])\n",
    "\n",
    "# Plot total displacement of COM of rod 1\n",
    "_ = plt.plot(time_arr, np.linalg.norm(sy_dat[1,:,:],axis=0))\n",
    "_ = plt.xlabel(\"Time\")\n",
    "_ = plt.ylabel(\"Displacement\")"
   ]
  },
  {
   "cell_type": "code",
   "execution_count": 10,
   "id": "7c8d0c16",
   "metadata": {},
   "outputs": [
    {
     "data": {
      "text/plain": [
       "Text(0.5, 0, 'Time')"
      ]
     },
     "execution_count": 10,
     "metadata": {},
     "output_type": "execute_result"
    },
    {
     "data": {
      "image/png": "[encoded data removed]",
      "text/plain": [
       "<Figure size 432x288 with 1 Axes>"
      ]
     },
     "metadata": {
      "needs_background": "light"
     },
     "output_type": "display_data"
    }
   ],
   "source": [
    "sim_path = alens_data_path / 'MixMotorSliding'\n",
    "import alens_analysis.chromatin.make_motion_graph as mmg\n",
    "\n",
    "with h5py.File(next(sim_path.glob('analysis/*.h5')), 'r+') as h5_data:\n",
    "    fig, ax = mmg.make_motion_graph(h5_data)\n",
    "    ax.set_xlabel(\"Time\")\n",
    "    "
   ]
  },
  {
   "cell_type": "code",
   "execution_count": null,
   "id": "f52e0f07",
   "metadata": {},
   "outputs": [],
   "source": []
  }
 ],
 "metadata": {
  "interpreter": {
   "hash": "8adfc99bf63e53c11e00fc3cde8c46d46187555668b3ddb35a98c2f73e7fe599"
  },
  "kernelspec": {
   "display_name": "Python (test_analysis)",
   "language": "python",
   "name": "test_analysis"
  },
  "language_info": {
   "codemirror_mode": {
    "name": "ipython",
    "version": 3
   },
   "file_extension": ".py",
   "mimetype": "text/x-python",
   "name": "python",
   "nbconvert_exporter": "python",
   "pygments_lexer": "ipython3",
   "version": "3.11.3"
  }
 },
 "nbformat": 4,
 "nbformat_minor": 5
}
