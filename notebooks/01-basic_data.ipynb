{
 "cells": [
  {
   "attachments": {},
   "cell_type": "markdown",
   "id": "3bfde5a6",
   "metadata": {},
   "source": [
    "# Imports\n",
    "Import libraries and write settings here."
   ]
  },
  {
   "cell_type": "code",
   "execution_count": 98,
   "id": "0a59c077",
   "metadata": {
    "ExecuteTime": {
     "end_time": "2022-02-24T18:14:40.055005Z",
     "start_time": "2022-02-24T18:14:36.992644Z"
    }
   },
   "outputs": [
    {
     "data": {
      "text/html": [
       "<style>.container { width:80% !important; }</style>"
      ],
      "text/plain": [
       "<IPython.core.display.HTML object>"
      ]
     },
     "metadata": {},
     "output_type": "display_data"
    },
    {
     "name": "stdout",
     "output_type": "stream",
     "text": [
      "The autoreload extension is already loaded. To reload it, use:\n",
      "  %reload_ext autoreload\n"
     ]
    }
   ],
   "source": [
    "# Notebooks specific imports ########################################\n",
    "from IPython import get_ipython\n",
    "ipython = get_ipython()\n",
    "#Expand notebook display\n",
    "from IPython.display import display, HTML\n",
    "display(HTML(\"<style>.container { width:80% !important; }</style>\"))\n",
    "# Display all cell outputs\n",
    "from IPython.core.interactiveshell import InteractiveShell\n",
    "InteractiveShell.ast_node_interactivity = 'all'\n",
    "# autoreload extension\n",
    "if 'autoreload' not in ipython.extension_manager.loaded:\n",
    "    %load_ext autoreload\n",
    "%autoreload 2\n",
    "from tqdm.notebook import tqdm\n",
    "# End notebooks specific imports ####################################\n",
    "\n",
    "# Basic useful imports\n",
    "import yaml\n",
    "from pathlib import Path\n",
    "import h5py\n",
    "\n",
    "# Data manipulation\n",
    "import numpy as np\n",
    "\n",
    "# Visualization\n",
    "import matplotlib as mpl\n",
    "import matplotlib.pyplot as plt\n",
    "\n",
    "# From alens_analysis\n",
    "import alens_analysis as aa\n",
    "import alens_analysis.chromatin as aac\n",
    "\n",
    "# Locations\n",
    "alens_data_path = Path.home() / 'projects/DATA/my_alens_data_new/'\n"
   ]
  },
  {
   "attachments": {},
   "cell_type": "markdown",
   "id": "f16df090",
   "metadata": {},
   "source": [
    "Let's read in the data and take a first look at the motion of the moving sylinder over time."
   ]
  },
  {
   "cell_type": "code",
   "execution_count": 11,
   "id": "3b69ad0c",
   "metadata": {},
   "outputs": [
    {
     "name": "stdout",
     "output_type": "stream",
     "text": [
      "1002\n"
     ]
    },
    {
     "data": {
      "image/png": "[encoded data removed]",
      "text/plain": [
       "<Figure size 640x480 with 1 Axes>"
      ]
     },
     "metadata": {},
     "output_type": "display_data"
    }
   ],
   "source": [
    "# Set the root of your simulation data. Pathlib makes extending the data paths easy.\n",
    "sim_path = alens_data_path / 'MixMotorSliding'\n",
    "\n",
    "# Load in collected data from simulation\n",
    "with h5py.File(next(sim_path.glob('analysis/raw_MixMotorSliding.h5')), 'r+') as h5_data:\n",
    "    # Load in time of every data point\n",
    "    time_arr = h5_data['time'][:]\n",
    "    print(time_arr.size) # How many time points are there?\n",
    "    # Load in sylinder data and get center of mass (COM) locations\n",
    "    sy_dat = h5_data['raw_data']['sylinders'][...]\n",
    "    com_arr = .5 * (sy_dat[:, 2:5, :] + sy_dat[:, 5:8, :])\n",
    "\n",
    "# Plot total displacement of COM of rod 1 vs time\n",
    "_ = plt.plot(time_arr, np.linalg.norm(sy_dat[1,:,:],axis=0))\n",
    "_ = plt.xlabel(\"Time [s]\")\n",
    "_ = plt.ylabel(\"Displacement [$\\mu$m]\")"
   ]
  },
  {
   "attachments": {},
   "cell_type": "markdown",
   "id": "38e727ed",
   "metadata": {},
   "source": [
    "## Accessing parameters from the raw HDF5 file"
   ]
  },
  {
   "attachments": {},
   "cell_type": "markdown",
   "id": "7324ed6f",
   "metadata": {},
   "source": [
    "If we want to inspect the parameters of the simulations, we can do that by reading in the yaml file stored in HDF5 file attrs"
   ]
  },
  {
   "cell_type": "code",
   "execution_count": 30,
   "id": "c18065f8",
   "metadata": {},
   "outputs": [
    {
     "name": "stdout",
     "output_type": "stream",
     "text": [
      "<KeysViewHDF5 ['ProteinConfig', 'RunConfig']> \n",
      "\n",
      "###### RunConfig file string ########\n",
      "KBT: -0.00411\n",
      "conMaxIte: 10000\n",
      "conResTol: 1e-5\n",
      "conSolverChoice: 0\n",
      "dt: 1.0e-05\n",
      "logLevel: 3\n",
      "monolayer: false\n",
      "rngSeed: 1234\n",
      "simBoxHigh:\n",
      "- 20.0\n",
      "- 1.0\n",
      "- 1.0\n",
      "simBoxLow:\n",
      "- 0.0\n",
      "- 0.0\n",
      "- 0.0\n",
      "simBoxPBC:\n",
      "- false\n",
      "- false\n",
      "- false\n",
      "sylinderColBuf: 1.0\n",
      "sylinderDiameter: 0.025\n",
      "sylinderDiameterColRatio: 1.0\n",
      "sylinderFixed: false\n",
      "sylinderLength: 0.5\n",
      "sylinderLengthColRatio: 1.0\n",
      "sylinderLengthSigma: 0\n",
      "sylinderNumber: 4000\n",
      "timeSnap: 0.001\n",
      "timeTotal: 1.0\n",
      "timerLevel: 3\n",
      "viscosity: 1.0\n",
      " \n",
      "\n"
     ]
    }
   ],
   "source": [
    "with h5py.File(next(sim_path.glob('analysis/raw_MixMotorSliding.h5')), 'r+') as h5_data:\n",
    "    # Print what data is stored in the attribute dictionary of h5_data\n",
    "    print(h5_data.attrs.keys(), \"\\n\")\n",
    "    # Examine the RunConfig file\n",
    "    print( \"###### RunConfig file string ########\")\n",
    "    run_config_str = h5_data.attrs['RunConfig']\n",
    "    print(run_config_str, \"\\n\")\n",
    "\n"
   ]
  },
  {
   "attachments": {},
   "cell_type": "markdown",
   "id": "8f6d2210",
   "metadata": {},
   "source": [
    "To make this more usable we can convert the yaml file string to a python dictionary. This is useful for example if we want to use the parameters in a plot or in analysis e.g. rescaling by temperature, viscosity, etc."
   ]
  },
  {
   "cell_type": "code",
   "execution_count": 34,
   "id": "f3e36123",
   "metadata": {},
   "outputs": [
    {
     "name": "stdout",
     "output_type": "stream",
     "text": [
      "###### RunConfig dictionary ########\n",
      "{'KBT': -0.00411, 'conMaxIte': 10000, 'conResTol': '1e-5', 'conSolverChoice': 0, 'dt': 1e-05, 'logLevel': 3, 'monolayer': False, 'rngSeed': 1234, 'simBoxHigh': [20.0, 1.0, 1.0], 'simBoxLow': [0.0, 0.0, 0.0], 'simBoxPBC': [False, False, False], 'sylinderColBuf': 1.0, 'sylinderDiameter': 0.025, 'sylinderDiameterColRatio': 1.0, 'sylinderFixed': False, 'sylinderLength': 0.5, 'sylinderLengthColRatio': 1.0, 'sylinderLengthSigma': 0, 'sylinderNumber': 4000, 'timeSnap': 0.001, 'timeTotal': 1.0, 'timerLevel': 3, 'viscosity': 1.0} \n",
      "\n",
      " The viscosity of the fluid is 1.0 pN s/um^2\n"
     ]
    }
   ],
   "source": [
    "print( \"###### RunConfig dictionary ########\")\n",
    "# Load in the yaml dictionary\n",
    "param_dict = yaml.load(run_config_str, Loader=yaml.FullLoader)  \n",
    "print(param_dict, \"\\n\")\n",
    "print(\" The viscosity of the fluid is\", param_dict['viscosity'], \"pN s/um^2\")"
   ]
  },
  {
   "attachments": {},
   "cell_type": "markdown",
   "id": "1f4da088",
   "metadata": {},
   "source": [
    "We can also collect data without command line interface by using the `convert_dat_to_hdf` function provided in alens_analysis. Let's try this on our newly created data."
   ]
  },
  {
   "cell_type": "code",
   "execution_count": 35,
   "id": "71455529",
   "metadata": {},
   "outputs": [
    {
     "name": "stdout",
     "output_type": "stream",
     "text": [
      "raw_MixMotorSliding\n",
      "Made time data set in 0.5724332332611084 seconds.\n",
      "Made sylinder data set in 0.30068397521972656 seconds.\n",
      "Made protin data set in 1.4011647701263428 seconds.\n",
      "Made raw data file in a total of 2.2746071815490723 seconds.\n",
      " HDF5 raw created in 2.3863158226013184\n"
     ]
    }
   ],
   "source": [
    "opts = lambda: None # Create an empty object to store analysis options\n",
    "opts.path = alens_data_path / 'MixMotorSliding'\n",
    "opts.analysis = 'collect' # This replicates the -A flag when running `analens -A collect`\n",
    "opts.analysis_dir = opts.path / 'analysis' # Specify where to store the analysis files\n",
    "opts.analysis_dir.mkdir(exist_ok=True) # Make sure the analysis directory exists\n",
    "\n",
    "aa.seed_analysis(opts)\n"
   ]
  },
  {
   "attachments": {},
   "cell_type": "markdown",
   "id": "dc791024",
   "metadata": {},
   "source": [
    "## Post-processing of data"
   ]
  },
  {
   "attachments": {},
   "cell_type": "markdown",
   "id": "937aa1eb",
   "metadata": {},
   "source": [
    "Sometimes analyzing your data can take a long time and you would like to save that analysis for easy graphing later. So let's look at the more complicated system the we ran at the beginning of this tutorial in `Active3DNematic`. First we generate the raw data file previously,  "
   ]
  },
  {
   "cell_type": "code",
   "execution_count": 88,
   "id": "eef8488a",
   "metadata": {},
   "outputs": [
    {
     "name": "stdout",
     "output_type": "stream",
     "text": [
      "raw_Active3DNematic\n",
      "Made time data set in 1.1759650707244873 seconds.\n",
      "Made sylinder data set in 8.56201696395874 seconds.\n",
      "Made protin data set in 16.39557909965515 seconds.\n",
      "Made raw data file in a total of 26.13410210609436 seconds.\n",
      " HDF5 raw created in 26.26052212715149\n"
     ]
    }
   ],
   "source": [
    "opts = lambda: None \n",
    "opts.path = alens_data_path / 'Active3DNematic' # Notice the different path\n",
    "opts.analysis = 'collect'\n",
    "opts.analysis_dir = opts.path / 'analysis'\n",
    "opts.analysis_dir.mkdir(exist_ok=True)\n",
    "\n",
    "aa.seed_analysis(opts)\n"
   ]
  },
  {
   "attachments": {},
   "cell_type": "markdown",
   "id": "640c892c",
   "metadata": {},
   "source": [
    "We need to correct data for the periodic boundary conditions. We can do this by using the `calc_nematic_order` function provided in alens_analysis. This function takes in the raw data and the parameters of the simulation and returns the corrected data. "
   ]
  },
  {
   "cell_type": "code",
   "execution_count": 112,
   "id": "7c8d0c16",
   "metadata": {},
   "outputs": [
    {
     "name": "stdout",
     "output_type": "stream",
     "text": [
      "(500, 9, 1002)\n"
     ]
    }
   ],
   "source": [
    "import alens_analysis.chromatin.make_motion_graph as mmg\n",
    "\n",
    "with h5py.File(next(opts.analysis_dir.glob('raw*.h5')), 'r') as h5_data:\n",
    "    param_dict = yaml.load(h5_data.attrs['RunConfig'], Loader=yaml.FullLoader)  \n",
    "    box_lower = np.array(param_dict['simBoxLow'])\n",
    "    box_upper = np.array(param_dict['simBoxHigh'])\n",
    "    time_arr = h5_data['time'][:]\n",
    "    # Load in sylinder data and apply periodic boundary conditions\n",
    "    sy_dat = h5_data['raw_data/sylinders'][...]\n",
    "    sy_dat = aa.helpers.apply_pbc_to_raw_syl_data(sy_dat, box_lower, box_upper)\n",
    "    print(sy_dat.shape)\n",
    "\n",
    "    "
   ]
  },
  {
   "cell_type": "code",
   "execution_count": 111,
   "id": "84444f62",
   "metadata": {},
   "outputs": [
    {
     "name": "stdout",
     "output_type": "stream",
     "text": [
      "[0.9993333333333334, 0.9993333333333334, 0.9968922615485734, 0.9960099550706061, 0.9947465981682848, 0.9934190233530338, 0.9916865041489287, 0.9896480935910231, 0.9882193472901688, 0.9861009709722811, 0.9839358192705148, 0.9823069096338607, 0.980597235365138, 0.9786726719033096, 0.9761045489723316, 0.9735239174776853, 0.9711136583565131, 0.9689054842528529, 0.9668978561097599, 0.9653027572236326, 0.9630627702381177, 0.961436900676387, 0.9595527947507823, 0.957473384653953, 0.955395915639799, 0.9529472345554718, 0.9508529517994628, 0.9474372318772583, 0.9452232926948207, 0.9433981753659633, 0.9417804344494781, 0.9402302050716573, 0.9384723426869436, 0.9368438272538824, 0.9365797397285412, 0.9352485696280689, 0.9336448551638048, 0.9314810200343281, 0.9294877381514525, 0.9280373226553847, 0.9265440455845056, 0.9255063976900986, 0.924253946709195, 0.9225247507719272, 0.9213414381186895, 0.9197350029998645, 0.9183472810631406, 0.9165198663454379, 0.9153980163347338, 0.9137296577655523, 0.9118848603765753, 0.909918589141165, 0.907901251882047, 0.907166401428235, 0.905464840071906, 0.9049831962336339, 0.9034629465438577, 0.9024700737218455, 0.9015700203514179, 0.9003918866085991, 0.8977617674207806, 0.895567706121629, 0.8939262346798311, 0.8915195551982878, 0.8896918143208743, 0.8882941169836629, 0.8867786567187537, 0.8852439230850184, 0.8838385079980065, 0.882655025519079, 0.881137193992571, 0.8794332184798911, 0.8784498966449145, 0.8783842752990217, 0.8769287632921838, 0.8755938383215998, 0.8742171940304909, 0.8732442342018978, 0.87334242066605, 0.8723997680612828, 0.8705369385193295, 0.8695869349556934, 0.8684160233998686, 0.8673016873135814, 0.8672108046198022, 0.8666102262068893, 0.8659372725840846, 0.8644646515419812, 0.8638756411667423, 0.8642699452584345, 0.8632548591924902, 0.8622014761738291, 0.8612188921059466, 0.8604285650029935, 0.8593046653517886, 0.8577622866125773, 0.8558101867200569, 0.8538027132248367, 0.8524882878126521, 0.8506958778560552, 0.8490671404164123, 0.8485778703844794, 0.8471396376922301, 0.8466121831386345, 0.8454637898768202, 0.8449338867532623, 0.8442669159030738, 0.8439162384796779, 0.8437833624211938, 0.8433401992820976, 0.8417610042785476, 0.8414584613531715, 0.8405013967811357, 0.839898793003047, 0.8389261539649663, 0.83814945384624, 0.8364958191039615, 0.8354286367465777, 0.8341705850198321, 0.8322095272528092, 0.8325138284353109, 0.8323833310814717, 0.8308482331681877, 0.8301599730750999, 0.8292732623336598, 0.8278385624246216, 0.8269103151182424, 0.8270559473877027, 0.8269056538776457, 0.8247498281069169, 0.8234328469662827, 0.8223685235044125, 0.8216672250299107, 0.8219161941390262, 0.8209914274286167, 0.8207620585794247, 0.8199219038453365, 0.8193609704364486, 0.819484589601022, 0.8196988541666674, 0.8186762105706187, 0.8175611545285904, 0.8166876950275492, 0.8157274926332357, 0.8142487387410831, 0.8138467595732621, 0.8134897475360835, 0.8127722155737779, 0.8098184251321667, 0.809925449435266, 0.8088420600065389, 0.8077992819740323, 0.8066168967479156, 0.8050120825270517, 0.8039957273701693, 0.8029993025423556, 0.8021277289105546, 0.8003639899916026, 0.7990607464200823, 0.7981430378379861, 0.7964981741518953, 0.7955508188585517, 0.7938707571682884, 0.7929605076571874, 0.7906850253483321, 0.7902204468595259, 0.7900118699863479, 0.7872809583359173, 0.7857324793449295, 0.7833562697863037, 0.7808978315161601, 0.7791294141049444, 0.7777164301000662, 0.7772967077677561, 0.7765929651746094, 0.7761995369646841, 0.7758992507590056, 0.7763237120837838, 0.7764846557440455, 0.7765918473955671, 0.7760869753165955, 0.7749005483504263, 0.7741808624584008, 0.7723687728696866, 0.7712120517168993, 0.7704352233648972, 0.768925383652314, 0.7682385851996372, 0.7672246274427077, 0.7661030192332492, 0.7650912587696747, 0.7638885956566266, 0.762930479669799, 0.7615126630803027, 0.7597187877165107, 0.7585343510473165, 0.7554492529648962, 0.7545429378781767, 0.7533301543942565, 0.7524584368580749, 0.7518297940026037, 0.750813213183947, 0.7497772461933767, 0.7487557407006629, 0.7472026145613658, 0.7472012957774375, 0.7472317148204157, 0.746018030116915, 0.7446750202482707, 0.742829951981373, 0.741490672418989, 0.7410861064478768, 0.7411103575762136, 0.7411133891303476, 0.7413588431881736, 0.7415911577429549, 0.7408586297379718, 0.740599771403773, 0.7401663453432883, 0.7414275072053222, 0.7421540622118994, 0.7422144368670054, 0.7421412678586294, 0.74308256840347, 0.7437959209669074, 0.7428413462778728, 0.7421106701305414, 0.7418157812406133, 0.7431972570872517, 0.7442026713853943, 0.743800682146394, 0.7433634014475251, 0.743219610741809, 0.743472572232037, 0.742640620357369, 0.7419853907948604, 0.7414523094694074, 0.7419406844739432, 0.7414138218795356, 0.7411696325152314, 0.740455808737039, 0.7400362468303741, 0.7393606586316299, 0.7400114745532501, 0.7398772428861161, 0.7395425720918356, 0.739424752880414, 0.7368710036896521, 0.7350318688249484, 0.734868578757376, 0.7349193841886668, 0.7341494958610832, 0.7346204082899883, 0.7344549692952527, 0.7340448821827508, 0.7345071575870796, 0.7357778370237972, 0.7366993320747981, 0.7375172050041721, 0.7374971424238869, 0.7373159868349761, 0.7364599232281631, 0.7354064527287905, 0.7354338127723399, 0.7349495178241623, 0.7348773122858834, 0.7343864390053516, 0.7339062505903953, 0.7320769364733836, 0.7303934232313982, 0.7286040058282366, 0.7277615422725439, 0.7272173784899978, 0.7246533283596687, 0.7237057892477544, 0.7223315639241789, 0.7216149866957138, 0.7208378550675416, 0.719719053378829, 0.7193096665587636, 0.7197010313236996, 0.7207563293500818, 0.7211298778169875, 0.720565373395295, 0.7190287388443947, 0.7184414899473902, 0.7179557032635586, 0.716712763477722, 0.7162156445483753, 0.7176562408463614, 0.7189046269892898, 0.7182126558745339, 0.7170877781555429, 0.7176535973431488, 0.7176533146420009, 0.7182378576583412, 0.7175925354752498, 0.7174897569104515, 0.7174598087197368, 0.7172743972553863, 0.7166458112134884, 0.7158907224433876, 0.715840100769916, 0.7165258218438024, 0.7168946258084311, 0.7164874606585198, 0.7168727725495566, 0.7177244258045588, 0.718153233455674, 0.7186750513411592, 0.7190792215954881, 0.7201946152608202, 0.7215995983079722, 0.722464924989384, 0.7240866484563708, 0.7242371026184008, 0.7244001044102611, 0.7244716059642584, 0.7246233257357181, 0.724076958979692, 0.7232560783360152, 0.7224304263128168, 0.7218359629000847, 0.7205719065292898, 0.7200383233916612, 0.7181296997743624, 0.7164843248136926, 0.7156930380294717, 0.7145988223247307, 0.7135686250504625, 0.7108979369320289, 0.7088380689354841, 0.7084223622077319, 0.7079831469756086, 0.7075535772521295, 0.7058856663056337, 0.7049971229572581, 0.7043912177661581, 0.7048541825424101, 0.7035852584759665, 0.703342073597755, 0.7028545998698994, 0.7028235852154485, 0.7015440546688354, 0.7017188146789954, 0.7012080306115858, 0.7012800765136361, 0.7008933615592496, 0.7006493511266376, 0.7014518731927664, 0.7016858940096975, 0.7028898950014734, 0.7041592780061533, 0.704433527375561, 0.7046226874624499, 0.7055416061897483, 0.706055306944141, 0.7067616498976961, 0.7075835149795089, 0.7070154701516451, 0.7067622989713481, 0.7062975809302343, 0.7069784271628011, 0.7069081898046168, 0.7052639343345594, 0.7039905353926696, 0.7042188173718045, 0.7037571786825325, 0.7033067119885277, 0.7031390137484039, 0.7027423184819016, 0.7021223215703271, 0.7015456012689515, 0.7006767555217046, 0.7007406959098759, 0.7005428151251282, 0.70060483926467, 0.7004508215726066, 0.6997492673435416, 0.6994945696906595, 0.7002678417986626, 0.7005638703295666, 0.6999041060117261, 0.6995006927847424, 0.6995343136389053, 0.7005178902199052, 0.6995872642763893, 0.6990771838853773, 0.6990917325999402, 0.6989117252679287, 0.6991023556544347, 0.6992601324654775, 0.6990097526766007, 0.6992188171115288, 0.6988616471454565, 0.6986139846659033, 0.6987151494880965, 0.6980962937936586, 0.6977660678530768, 0.6975069791398569, 0.6974838459178165, 0.6980919087445507, 0.6972223897002048, 0.6968020155944241, 0.6972712886939892, 0.6965416234444403, 0.6971045973322184, 0.6972135942184727, 0.6974150223873747, 0.698068636918183, 0.6991108848644256, 0.7001228049239073, 0.7007967227435692, 0.7016255559120818, 0.7007376472116629, 0.6994727938190899, 0.6989061992620649, 0.6991155862283872, 0.6986065715341397, 0.6978244859437044, 0.6970855850457967, 0.6988289299613071, 0.6990329141794783, 0.6975958418967115, 0.6965434349583159, 0.6970938390357773, 0.6969888128501932, 0.6970199240620032, 0.6967145685415713, 0.6960674639629615, 0.6946173368418284, 0.6942505336458581, 0.6928399205381075, 0.6912671271815022, 0.6890179467030393, 0.6875032024410823, 0.6861257033949424, 0.684902235802194, 0.6839978192769862, 0.6831539635716254, 0.6824335351849522, 0.682329050084148, 0.6809426003181552, 0.6796753062322217, 0.6791976056108355, 0.6784894121765541, 0.6789114638866904, 0.6790799958860166, 0.6790362524140726, 0.6799207985079324, 0.6810185441106817, 0.681042594449198, 0.6813657559037524, 0.6821232997998223, 0.6819122288770532, 0.68305807047365, 0.68355298193659, 0.6836353522512019, 0.6835138679830135, 0.6832996217575341, 0.6835844432365487, 0.6839110839157998, 0.6842587170071366, 0.684963859081416, 0.6853448130990997, 0.6847504592726429, 0.6847732977118667, 0.6847964684190098, 0.6854700141036423, 0.6848501910247359, 0.6831053556906478, 0.6819648274571224, 0.6809407182835217, 0.6794354092148837, 0.6792363003055005, 0.6781629864334082, 0.6767430918004774, 0.6757789535686267, 0.6737169440496799, 0.6711180347614909, 0.6687891898461317, 0.6673477722965284, 0.6669750016617514, 0.6663152757616129, 0.6645156639004002, 0.663421266787084, 0.6599148376730641, 0.657341855519164, 0.6558925245287572, 0.6547846723345871, 0.653981530609819, 0.6530819364965649, 0.6527856849277305, 0.652340485783949, 0.6523650447326768, 0.6533299806043641, 0.6516693941332375, 0.6521136395168515, 0.6514624844798771, 0.6510267581056447, 0.6503446367797255, 0.6503743742121831, 0.6507962604542048, 0.6519015342160347, 0.652432380490312, 0.6519356426736778, 0.6520492877804777, 0.6522358325812869, 0.6523167295167054, 0.651111966114518, 0.6490465345365458, 0.6474839664280608, 0.6453254232806311, 0.6434816008217612, 0.6419445650034336, 0.6413178803540314, 0.6412807639418724, 0.6417674675058527, 0.640808125911221, 0.6391330621333291, 0.6371733785916244, 0.6361255546832232, 0.6352108552499369, 0.6355248561162239, 0.6364114727179125, 0.6377064063310033, 0.6372702081763262, 0.6365644762017799, 0.6365527208218562, 0.6357368405574253, 0.6345602248516649, 0.6324618566933564, 0.630868975390288, 0.6292629357245074, 0.6276526249353387, 0.6271580715028302, 0.6245648957732618, 0.6222651156255254, 0.6208526745865459, 0.6202332662351115, 0.6198308046241873, 0.6189622732619928, 0.6180643470838763, 0.6173203567383236, 0.61739539896484, 0.618067503429559, 0.6189759095214769, 0.618299117797072, 0.6174538932887794, 0.6161669856568887, 0.6156113534199982, 0.6158293957764346, 0.6156116355710525, 0.615755344172511, 0.6169186426868887, 0.6169329486753701, 0.6190741976726621, 0.6193261296026453, 0.6201550498892362, 0.6204807271383249, 0.6192100440418866, 0.6180060131698082, 0.6178846005616697, 0.6179217101529436, 0.6186426068488704, 0.6189729904279119, 0.6195676416232487, 0.6196791044576229, 0.6201368559507628, 0.6196472044254038, 0.6182850815995592, 0.6186595654370604, 0.6191026079157876, 0.6193974280997879, 0.6189510249941623, 0.6186168382827391, 0.6182339381643639, 0.6185766302143599, 0.6182101788192962, 0.6174747649071666, 0.617378184624586, 0.6163741225390065, 0.6156858290399259, 0.6149451110614923, 0.6140416081508788, 0.6126402382348192, 0.6112452063255459, 0.6107513793224213, 0.6095123369949507, 0.6090947546870635, 0.6078215061280396, 0.6075906397872098, 0.6079231179859403, 0.6075222936000524, 0.6052289420675953, 0.6017825874990047, 0.5998410007224813, 0.5982571038688892, 0.5966467118712762, 0.5940641871623593, 0.5922084766163698, 0.5904141199726061, 0.5890396460906884, 0.5878503486784066, 0.5864413561157773, 0.5863652997842674, 0.5853657268202399, 0.5845669108605157, 0.5837392666211133, 0.5824820161228688, 0.5821938047025144, 0.5807437145906216, 0.5782756459224253, 0.5760184446381649, 0.5757533201606212, 0.576926895968886, 0.5777227852257671, 0.5778745128408032, 0.5767442991260356, 0.5763152216806907, 0.5754290073966193, 0.5731050763020786, 0.5732094213405118, 0.5730885760997034, 0.573521861393619, 0.5729103525060061, 0.5714650198460884, 0.5711298381028845, 0.5711276541337683, 0.5692060008530594, 0.5661321714249475, 0.5651566164271902, 0.5636754153151371, 0.5611037523370548, 0.5593793456808069, 0.5597646431504163, 0.5580723789305093, 0.5585365365163972, 0.5604842165148989, 0.5616905332599432, 0.5630732789390971, 0.5637046738274178, 0.5640417999896137, 0.5654733443059424, 0.5653379477405707, 0.564971300850449, 0.5638944995929741, 0.5632043818715363, 0.5621263100468591, 0.5608497134090017, 0.5590372243277819, 0.5564669044960093, 0.552840753623595, 0.5514274032307969, 0.5503939630870178, 0.5486258298918896, 0.5473764046321765, 0.5460078106081511, 0.5443949270063582, 0.5429113845322507, 0.5408426290830565, 0.5403949098160673, 0.5398326026952308, 0.5394508146562227, 0.5393117926135522, 0.5378547443124578, 0.5378770206944585, 0.5361313557226477, 0.5342496547125235, 0.5328577402604017, 0.5323502099850259, 0.5318102587325465, 0.5317419051887609, 0.5306873411868583, 0.530675698380483, 0.5303917993413731, 0.5294285905666151, 0.5290762736555359, 0.5277625064965613, 0.5267327052327792, 0.5254978537981891, 0.5252323149839617, 0.5259353643936657, 0.5270341428437467, 0.5273766769690613, 0.5278487982161167, 0.5278320917259668, 0.5272577181200785, 0.52623620274251, 0.5246784407248815, 0.5233354394879148, 0.5224534603311922, 0.5217751589828636, 0.5219669244074137, 0.5224991088905607, 0.523093326445855, 0.5233985541787843, 0.5230350269934038, 0.5226808945485177, 0.5233790257621566, 0.5245146047570786, 0.5246332445884426, 0.5246937425074424, 0.5242735190358058, 0.5242008502324276, 0.5241675426122577, 0.5239682856876235, 0.523266043152475, 0.5232172392742653, 0.5243479077982998, 0.5254308319561708, 0.5265219898652453, 0.5268014511881833, 0.5274097158327884, 0.5264417675853675, 0.5259670179361079, 0.5266655931512628, 0.5266132725097638, 0.5261229681956814, 0.5250261278698705, 0.5235408669367808, 0.5209697805621756, 0.5194284287567825, 0.5181937163971825, 0.5177862122462857, 0.5162140320347068, 0.5138873996568865, 0.5106956630801246, 0.5083601190051994, 0.5061814317633871, 0.5057862336876853, 0.5054639414676657, 0.5054860896845221, 0.5045872204087751, 0.5027189798449849, 0.5008434115301357, 0.4992481350799566, 0.49890873673348535, 0.49854741838794775, 0.49835175541035903, 0.49973452119789397, 0.5008225476867394, 0.4993490196130383, 0.4976150248859823, 0.49620212478012693, 0.4944849216119058, 0.4920319189816559, 0.4906230613921738, 0.49114113253262326, 0.4914001836054601, 0.49102220931285867, 0.49123593747085303, 0.4920623579551558, 0.49269011745188684, 0.49218633358131264, 0.49165402608297715, 0.4909906930739194, 0.48966112217040547, 0.48988737374894076, 0.48985629831963867, 0.4885892841057574, 0.4875679012050974, 0.4870998077743177, 0.4881906226970632, 0.48853155876301435, 0.4878040078640478, 0.48749405635966736, 0.48551286198542365, 0.4843356384174, 0.483665440312453, 0.4830223087787535, 0.4821816354400116, 0.48099458073103385, 0.480841177321202, 0.47955728349037463, 0.477462921938603, 0.476578229813006, 0.4748978014918922, 0.47305554231684366, 0.4724021589946742, 0.4722201337182307, 0.4715800424025279, 0.47113530686557414, 0.47019979544083257, 0.47031732874431625, 0.47006267054442713, 0.46909008875706537, 0.4693463376931735, 0.4692101098193511, 0.4684738925734435, 0.46669744639340627, 0.46603248759805677, 0.4648765724980108, 0.46389029646801916, 0.4636817949465303, 0.4639345033500303, 0.46275875984850773, 0.4630039951920127, 0.46300067150143054, 0.4639314455027661, 0.4660426839572006, 0.4679051570460085, 0.46930775926886814, 0.4706660341626189, 0.4720232819765788, 0.4730249210814361, 0.47484934262591916, 0.47548326142030106, 0.4749621169566637, 0.47556797011422847, 0.47732043893588494, 0.4776672127994237, 0.4769300005713266, 0.4770731957831677, 0.47620780763605397, 0.4746150428068083, 0.4725884895542968, 0.47030428752522835, 0.46948999294293503, 0.46894191073086045, 0.4693546443369709, 0.4696318750246832, 0.47056063234041673, 0.4714100431874433, 0.47164849703569567, 0.47224119602683096, 0.4706919395533905, 0.46970522457317687, 0.4682102360484709, 0.4678155554950625, 0.466916325729052, 0.4667474210282979, 0.46611951969528065, 0.4655702508794793, 0.46416724775626544, 0.4640823289329217, 0.4649498901221639, 0.46507584071472924, 0.46388124735043873, 0.46214673459864886, 0.461682792046329, 0.4597441471475858, 0.45989800151363025, 0.46107603747895676, 0.4615042965091832, 0.461781727171924, 0.4622944330257811, 0.4636425814720477, 0.46460513631461625, 0.46562064167455164, 0.4648322808715643, 0.4654580226959456, 0.4641784068696816, 0.4635470779668531, 0.46279926863151705, 0.4625956302205626, 0.4617812732366457, 0.4620001594180376, 0.4618137192092928, 0.4608182217113763, 0.4611679161940472, 0.461953398045566, 0.46236701137809805, 0.46185048773210297, 0.4612875069508477, 0.46157459489546754, 0.4623135946540699, 0.4613372934787591, 0.46044170399558126, 0.4599877775798503, 0.4603965458613407, 0.46083801405533453, 0.4613287279749321, 0.46205399657884744, 0.46283354053292397, 0.46357798069960165, 0.46362757546959077, 0.46227102298004374, 0.46232538806693474, 0.46279997667945894, 0.463305517593301, 0.4630287773354068, 0.4631052151615389, 0.4632054804386764, 0.4632926161366573, 0.46360487334621725, 0.46414792225642654, 0.4639231847274633, 0.46439910547269825, 0.4652872007404524, 0.46600413056217693, 0.4673295870120739, 0.46813937733102995, 0.4681312578480641, 0.46882607914365454, 0.46794411017913295, 0.46763672915509935, 0.46814322061680347, 0.4694335693746048, 0.4706498869387339, 0.47122972144663544, 0.4714714945601107, 0.4719801317693984, 0.47245187793398036, 0.47242523925079594, 0.4724960827065867, 0.47260625658813327, 0.4720952389591408, 0.4730440718768162, 0.4740460263433153, 0.4759130367845959, 0.4772186902358602, 0.4775030717545912, 0.476998568069969, 0.476641986827653, 0.4769258177676053, 0.4770302859121316, 0.4767909747148288, 0.47500882610398343, 0.4752040479753069, 0.47542000329613093, 0.475280255695383, 0.47484769765333035, 0.47415428087953215, 0.47355991313348583, 0.47296144942816076, 0.4726586126322142, 0.4719110077983624, 0.473277532545626, 0.4727374397549686, 0.4719783911367186, 0.47075156126102735, 0.46966979381097834, 0.4695051807344258, 0.46890422919428776, 0.46705388135989073, 0.46681340971112173, 0.4673090666818823, 0.4672736484507503, 0.46757679620077214, 0.46903666733346416, 0.4690638900545587, 0.46758164879517683, 0.46749929674183816, 0.4669935172091813, 0.46828610268023435, 0.46864372958462686, 0.4698999305300895, 0.47076163753846, 0.47115160977574033, 0.47133537226630406, 0.4705684998053046, 0.4705227439376649, 0.47118489247338197, 0.4715979541058351, 0.47193107313474025, 0.47206935622459645, 0.4721436568398263, 0.47065361373068487, 0.47018196406487506, 0.4701693334626143, 0.47039082635752294, 0.4708036227976425, 0.4708235034172745, 0.47132938387396317, 0.4712602670033248, 0.4701196555027695, 0.46980349849717257, 0.470438933043392, 0.47057668386205304, 0.47026084046648037, 0.47093240305577255, 0.47142061628606985, 0.4721759591023938, 0.47273466501845474, 0.47349571013977143, 0.47386365924698237, 0.4740640548883446, 0.4743042531632915, 0.473430544842949, 0.47291176336485286, 0.4730351608459413, 0.47297927646376653, 0.4734978990739938, 0.4749957005905136, 0.47647808461115393, 0.47751521040335687, 0.4776942918852108, 0.4785445058835653, 0.47852977407167196, 0.4783530115888001, 0.4780875230840989, 0.4772603857656056, 0.47637050446093565, 0.4761206827628518, 0.4758837370254042, 0.4756292438703574, 0.474637375382706, 0.47517809268444156, 0.47572869262938877, 0.4758154905850459, 0.47542019259156887]\n"
     ]
    },
    {
     "data": {
      "text/plain": [
       "[<matplotlib.lines.Line2D at 0x17ffc0b10>]"
      ]
     },
     "execution_count": 111,
     "metadata": {},
     "output_type": "execute_result"
    },
    {
     "data": {
      "image/png": "[encoded data removed]",
      "text/plain": [
       "<Figure size 640x480 with 1 Axes>"
      ]
     },
     "metadata": {},
     "output_type": "display_data"
    }
   ],
   "source": [
    "nematic_order = aa.nematic_order.calc_nematic_order(sy_dat)\n",
    "plt.plot(time_arr, nematic_order)\n",
    "plt.xlabel(\"Time [s]\")\n",
    "plt.ylabel(\"Nematic order parameter\")"
   ]
  },
  {
   "attachments": {},
   "cell_type": "markdown",
   "id": "d367bc83",
   "metadata": {},
   "source": []
  },
  {
   "cell_type": "code",
   "execution_count": null,
   "id": "6826b561",
   "metadata": {},
   "outputs": [],
   "source": []
  },
  {
   "cell_type": "code",
   "execution_count": null,
   "id": "78e09af7",
   "metadata": {},
   "outputs": [],
   "source": []
  }
 ],
 "metadata": {
  "interpreter": {
   "hash": "8adfc99bf63e53c11e00fc3cde8c46d46187555668b3ddb35a98c2f73e7fe599"
  },
  "kernelspec": {
   "display_name": "Python (test_analysis)",
   "language": "python",
   "name": "test_analysis"
  },
  "language_info": {
   "codemirror_mode": {
    "name": "ipython",
    "version": 3
   },
   "file_extension": ".py",
   "mimetype": "text/x-python",
   "name": "python",
   "nbconvert_exporter": "python",
   "pygments_lexer": "ipython3",
   "version": "3.11.3"
  }
 },
 "nbformat": 4,
 "nbformat_minor": 5
}
